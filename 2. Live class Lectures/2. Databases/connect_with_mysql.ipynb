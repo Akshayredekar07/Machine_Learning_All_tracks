{
 "cells": [
  {
   "cell_type": "code",
   "execution_count": 1,
   "id": "67e8b382-69f4-44f6-8fda-7146f2f346e3",
   "metadata": {},
   "outputs": [
    {
     "name": "stdout",
     "output_type": "stream",
     "text": [
      "Collecting mysql-connector-python\n",
      "  Obtaining dependency information for mysql-connector-python from https://files.pythonhosted.org/packages/9d/1b/a7b17532d6c7972e9173d9cc6fad5f94b949bcaaafa744f4e68a255ebd37/mysql_connector_python-8.1.0-cp310-cp310-win_amd64.whl.metadata\n",
      "  Downloading mysql_connector_python-8.1.0-cp310-cp310-win_amd64.whl.metadata (2.1 kB)\n",
      "Collecting protobuf<=4.21.12,>=4.21.1 (from mysql-connector-python)\n",
      "  Downloading protobuf-4.21.12-cp310-abi3-win_amd64.whl (527 kB)\n",
      "     ------------------------------------ 527.0/527.0 kB 944.7 kB/s eta 0:00:00\n",
      "Downloading mysql_connector_python-8.1.0-cp310-cp310-win_amd64.whl (10.9 MB)\n",
      "   ---------------------------------------- 10.9/10.9 MB 1.3 MB/s eta 0:00:00\n",
      "Installing collected packages: protobuf, mysql-connector-python\n",
      "Successfully installed mysql-connector-python-8.1.0 protobuf-4.21.12\n"
     ]
    }
   ],
   "source": [
    "!pip install mysql-connector-python"
   ]
  },
  {
   "cell_type": "code",
   "execution_count": null,
   "id": "7af102b1-8941-41a8-85ef-aae7b76a09a1",
   "metadata": {},
   "outputs": [],
   "source": [
    "import mysql.connector as connection\n",
    "\n",
    "try:\n",
    "    mydb = connection.connect(host=\"localhost\", user=\"root\", passwd=\"mysql\",use_pure=True)\n",
    "    # check if the connection is established\n",
    "    print(mydb.is_connected())\n",
    "\n",
    "    query = \"Create database Student;\"\n",
    "    cursor = mydb.cursor() #create a cursor to execute queries\n",
    "    cursor.execute(query)\n",
    "    print(\"Database Created!!\")\n",
    "    mydb.close()\n",
    "except Exception as e:\n",
    "    mydb.close()\n",
    "    print(str(e))"
   ]
  },
  {
   "cell_type": "code",
   "execution_count": 3,
   "id": "a31e5129-1adf-40b1-a945-45011d6d4de9",
   "metadata": {},
   "outputs": [],
   "source": [
    "import mysql.connector as connection"
   ]
  },
  {
   "cell_type": "code",
   "execution_count": 6,
   "id": "548c440f-aab1-469d-a3a9-870d9b515841",
   "metadata": {},
   "outputs": [],
   "source": [
    "conn = connection.connect(host=\"localhost\", user=\"root\", passwd=\"mysql\",use_pure=True)"
   ]
  },
  {
   "cell_type": "code",
   "execution_count": 5,
   "id": "182eed5f-6992-41bb-91d3-2f2a131610ca",
   "metadata": {},
   "outputs": [],
   "source": [
    "#Here we connect the python and mysql"
   ]
  },
  {
   "cell_type": "code",
   "execution_count": 7,
   "id": "4677b3b0-3c78-4b9a-8846-313f5c2ac889",
   "metadata": {},
   "outputs": [],
   "source": [
    "cur = conn.cursor()"
   ]
  },
  {
   "cell_type": "code",
   "execution_count": 8,
   "id": "1463239d-778d-411b-b19e-eabe8b3a0f0d",
   "metadata": {},
   "outputs": [
    {
     "data": {
      "text/plain": [
       "NoneType"
      ]
     },
     "execution_count": 8,
     "metadata": {},
     "output_type": "execute_result"
    }
   ],
   "source": [
    "type(cur.execute(\"show databases\"))"
   ]
  },
  {
   "cell_type": "code",
   "execution_count": 21,
   "id": "94484c85-3283-4a48-93d0-ebd5dc85361a",
   "metadata": {},
   "outputs": [],
   "source": [
    "cur = conn.cursor()"
   ]
  },
  {
   "cell_type": "code",
   "execution_count": 23,
   "id": "e7639240-2134-4826-ac9c-5a69b209591e",
   "metadata": {},
   "outputs": [],
   "source": [
    "# res = cur.fetchall()"
   ]
  },
  {
   "cell_type": "code",
   "execution_count": 24,
   "id": "bfb2dc1d-993f-4843-acc2-63db7ec8f827",
   "metadata": {},
   "outputs": [
    {
     "data": {
      "text/plain": [
       "[]"
      ]
     },
     "execution_count": 24,
     "metadata": {},
     "output_type": "execute_result"
    }
   ],
   "source": [
    "res"
   ]
  },
  {
   "cell_type": "code",
   "execution_count": 25,
   "id": "3df4e386-778f-437d-b06d-389743795d47",
   "metadata": {},
   "outputs": [],
   "source": [
    "#create database with name"
   ]
  },
  {
   "cell_type": "code",
   "execution_count": null,
   "id": "5bfca601-e6b4-47e9-967f-1f9e242fdcb9",
   "metadata": {},
   "outputs": [],
   "source": [
    "import mysql.connector as connection\n",
    "\n",
    "try:\n",
    "    mydb = connection.connect(host=\"localhost\", user=\"root\", passwd=\"mysql\",use_pure=True)\n",
    "    # check if the connection is established\n",
    "    print(mydb.is_connected())\n",
    "\n",
    "    query = \"Create database Student;\"\n",
    "    cursor = mydb.cursor() #create a cursor to execute queries\n",
    "    cursor.execute(query)\n",
    "    print(\"Database Created!!\")\n",
    "    mydb.close()\n",
    "except Exception as e:\n",
    "    mydb.close()\n",
    "    print(str(e))"
   ]
  },
  {
   "cell_type": "code",
   "execution_count": 37,
   "id": "ea6bb031-aa05-4b0e-8fc7-d3cbd4ad6a3c",
   "metadata": {},
   "outputs": [],
   "source": [
    "import mysql.connector as connection"
   ]
  },
  {
   "cell_type": "code",
   "execution_count": 38,
   "id": "897ad114-a8bc-4201-a869-36fe272024b4",
   "metadata": {},
   "outputs": [],
   "source": [
    "con =  connection.connect(host=\"localhost\", user=\"root\", passwd=\"mysql\",use_pure=True)"
   ]
  },
  {
   "cell_type": "code",
   "execution_count": 39,
   "id": "d02ff741-fc5c-4156-a6a2-43eb088accbb",
   "metadata": {},
   "outputs": [],
   "source": [
    "cur = con.cursor()"
   ]
  },
  {
   "cell_type": "code",
   "execution_count": 40,
   "id": "0039091a-16bf-4896-b93c-8ac94ffb2ed6",
   "metadata": {},
   "outputs": [
    {
     "ename": "NameError",
     "evalue": "name 'cursor' is not defined",
     "output_type": "error",
     "traceback": [
      "\u001b[1;31m---------------------------------------------------------------------------\u001b[0m",
      "\u001b[1;31mNameError\u001b[0m                                 Traceback (most recent call last)",
      "Input \u001b[1;32mIn [40]\u001b[0m, in \u001b[0;36m<cell line: 1>\u001b[1;34m()\u001b[0m\n\u001b[1;32m----> 1\u001b[0m cur \u001b[38;5;241m=\u001b[39m \u001b[43mcursor\u001b[49m\u001b[38;5;241m.\u001b[39mscroll(\u001b[38;5;241m0\u001b[39m, \u001b[38;5;124m'\u001b[39m\u001b[38;5;124mabsolute\u001b[39m\u001b[38;5;124m'\u001b[39m)\n",
      "\u001b[1;31mNameError\u001b[0m: name 'cursor' is not defined"
     ]
    }
   ],
   "source": [
    "cur = cursor.scroll(0, 'absolute')"
   ]
  },
  {
   "cell_type": "code",
   "execution_count": 41,
   "id": "fbddfeed-9c5a-4e52-98b8-ca61d3063ce5",
   "metadata": {},
   "outputs": [
    {
     "ename": "DatabaseError",
     "evalue": "1007 (HY000): Can't create database 'akshay12345'; database exists",
     "output_type": "error",
     "traceback": [
      "\u001b[1;31m---------------------------------------------------------------------------\u001b[0m",
      "\u001b[1;31mDatabaseError\u001b[0m                             Traceback (most recent call last)",
      "Input \u001b[1;32mIn [41]\u001b[0m, in \u001b[0;36m<cell line: 1>\u001b[1;34m()\u001b[0m\n\u001b[1;32m----> 1\u001b[0m \u001b[43mcur\u001b[49m\u001b[38;5;241;43m.\u001b[39;49m\u001b[43mexecute\u001b[49m\u001b[43m(\u001b[49m\u001b[38;5;124;43m\"\u001b[39;49m\u001b[38;5;124;43mcreate database akshay12345\u001b[39;49m\u001b[38;5;124;43m\"\u001b[39;49m\u001b[43m)\u001b[49m\n",
      "File \u001b[1;32m~\\AppData\\Local\\Programs\\Python\\Python310\\lib\\site-packages\\mysql\\connector\\cursor.py:617\u001b[0m, in \u001b[0;36mMySQLCursor.execute\u001b[1;34m(self, operation, params, multi)\u001b[0m\n\u001b[0;32m    614\u001b[0m     \u001b[38;5;28;01mreturn\u001b[39;00m \u001b[38;5;28mself\u001b[39m\u001b[38;5;241m.\u001b[39m_execute_iter(\u001b[38;5;28mself\u001b[39m\u001b[38;5;241m.\u001b[39m_connection\u001b[38;5;241m.\u001b[39mcmd_query_iter(stmt))\n\u001b[0;32m    616\u001b[0m \u001b[38;5;28;01mtry\u001b[39;00m:\n\u001b[1;32m--> 617\u001b[0m     \u001b[38;5;28mself\u001b[39m\u001b[38;5;241m.\u001b[39m_handle_result(\u001b[38;5;28;43mself\u001b[39;49m\u001b[38;5;241;43m.\u001b[39;49m\u001b[43m_connection\u001b[49m\u001b[38;5;241;43m.\u001b[39;49m\u001b[43mcmd_query\u001b[49m\u001b[43m(\u001b[49m\u001b[43mstmt\u001b[49m\u001b[43m)\u001b[49m)\n\u001b[0;32m    618\u001b[0m \u001b[38;5;28;01mexcept\u001b[39;00m InterfaceError \u001b[38;5;28;01mas\u001b[39;00m err:\n\u001b[0;32m    619\u001b[0m     \u001b[38;5;28;01mif\u001b[39;00m \u001b[38;5;28mself\u001b[39m\u001b[38;5;241m.\u001b[39m_connection\u001b[38;5;241m.\u001b[39mhave_next_result:\n",
      "File \u001b[1;32m~\\AppData\\Local\\Programs\\Python\\Python310\\lib\\site-packages\\mysql\\connector\\opentelemetry\\context_propagation.py:77\u001b[0m, in \u001b[0;36mwith_context_propagation.<locals>.wrapper\u001b[1;34m(cnx, *args, **kwargs)\u001b[0m\n\u001b[0;32m     75\u001b[0m \u001b[38;5;124;03m\"\"\"Context propagation decorator.\"\"\"\u001b[39;00m\n\u001b[0;32m     76\u001b[0m \u001b[38;5;28;01mif\u001b[39;00m \u001b[38;5;129;01mnot\u001b[39;00m OTEL_ENABLED \u001b[38;5;129;01mor\u001b[39;00m \u001b[38;5;129;01mnot\u001b[39;00m cnx\u001b[38;5;241m.\u001b[39motel_context_propagation:\n\u001b[1;32m---> 77\u001b[0m     \u001b[38;5;28;01mreturn\u001b[39;00m method(cnx, \u001b[38;5;241m*\u001b[39margs, \u001b[38;5;241m*\u001b[39m\u001b[38;5;241m*\u001b[39mkwargs)\n\u001b[0;32m     79\u001b[0m current_span \u001b[38;5;241m=\u001b[39m trace\u001b[38;5;241m.\u001b[39mget_current_span()\n\u001b[0;32m     80\u001b[0m tp_header \u001b[38;5;241m=\u001b[39m \u001b[38;5;28;01mNone\u001b[39;00m\n",
      "File \u001b[1;32m~\\AppData\\Local\\Programs\\Python\\Python310\\lib\\site-packages\\mysql\\connector\\connection.py:1069\u001b[0m, in \u001b[0;36mMySQLConnection.cmd_query\u001b[1;34m(self, query, raw, buffered, raw_as_string)\u001b[0m\n\u001b[0;32m   1067\u001b[0m query \u001b[38;5;241m=\u001b[39m \u001b[38;5;28mbytes\u001b[39m(packet)\n\u001b[0;32m   1068\u001b[0m \u001b[38;5;28;01mtry\u001b[39;00m:\n\u001b[1;32m-> 1069\u001b[0m     result \u001b[38;5;241m=\u001b[39m \u001b[38;5;28;43mself\u001b[39;49m\u001b[38;5;241;43m.\u001b[39;49m\u001b[43m_handle_result\u001b[49m\u001b[43m(\u001b[49m\u001b[38;5;28;43mself\u001b[39;49m\u001b[38;5;241;43m.\u001b[39;49m\u001b[43m_send_cmd\u001b[49m\u001b[43m(\u001b[49m\u001b[43mServerCmd\u001b[49m\u001b[38;5;241;43m.\u001b[39;49m\u001b[43mQUERY\u001b[49m\u001b[43m,\u001b[49m\u001b[43m \u001b[49m\u001b[43mquery\u001b[49m\u001b[43m)\u001b[49m\u001b[43m)\u001b[49m\n\u001b[0;32m   1070\u001b[0m \u001b[38;5;28;01mexcept\u001b[39;00m ProgrammingError \u001b[38;5;28;01mas\u001b[39;00m err:\n\u001b[0;32m   1071\u001b[0m     \u001b[38;5;28;01mif\u001b[39;00m err\u001b[38;5;241m.\u001b[39merrno \u001b[38;5;241m==\u001b[39m \u001b[38;5;241m3948\u001b[39m \u001b[38;5;129;01mand\u001b[39;00m \u001b[38;5;124m\"\u001b[39m\u001b[38;5;124mLoading local data is disabled\u001b[39m\u001b[38;5;124m\"\u001b[39m \u001b[38;5;129;01min\u001b[39;00m err\u001b[38;5;241m.\u001b[39mmsg:\n",
      "File \u001b[1;32m~\\AppData\\Local\\Programs\\Python\\Python310\\lib\\site-packages\\mysql\\connector\\connection.py:846\u001b[0m, in \u001b[0;36mMySQLConnection._handle_result\u001b[1;34m(self, packet)\u001b[0m\n\u001b[0;32m    844\u001b[0m     \u001b[38;5;28;01mreturn\u001b[39;00m \u001b[38;5;28mself\u001b[39m\u001b[38;5;241m.\u001b[39m_handle_eof(packet)\n\u001b[0;32m    845\u001b[0m \u001b[38;5;28;01mif\u001b[39;00m packet[\u001b[38;5;241m4\u001b[39m] \u001b[38;5;241m==\u001b[39m \u001b[38;5;241m255\u001b[39m:\n\u001b[1;32m--> 846\u001b[0m     \u001b[38;5;28;01mraise\u001b[39;00m get_exception(packet)\n\u001b[0;32m    848\u001b[0m \u001b[38;5;66;03m# We have a text result set\u001b[39;00m\n\u001b[0;32m    849\u001b[0m column_count \u001b[38;5;241m=\u001b[39m \u001b[38;5;28mself\u001b[39m\u001b[38;5;241m.\u001b[39m_protocol\u001b[38;5;241m.\u001b[39mparse_column_count(packet)\n",
      "\u001b[1;31mDatabaseError\u001b[0m: 1007 (HY000): Can't create database 'akshay12345'; database exists"
     ]
    }
   ],
   "source": [
    "cur.execute(\"create database akshay12345\")"
   ]
  },
  {
   "cell_type": "code",
   "execution_count": 36,
   "id": "acb797be-6cb5-4261-90b2-d992988d64d1",
   "metadata": {},
   "outputs": [],
   "source": [
    "res = cur.fetchall()"
   ]
  },
  {
   "cell_type": "code",
   "execution_count": 42,
   "id": "b3596f9d-9627-4747-8614-df2d908d1d7d",
   "metadata": {},
   "outputs": [
    {
     "data": {
      "text/plain": [
       "[]"
      ]
     },
     "execution_count": 42,
     "metadata": {},
     "output_type": "execute_result"
    }
   ],
   "source": [
    "res"
   ]
  },
  {
   "cell_type": "code",
   "execution_count": 43,
   "id": "635e2f72-0f53-4111-a0cd-66c0140fbaa4",
   "metadata": {},
   "outputs": [],
   "source": [
    "#create a table"
   ]
  },
  {
   "cell_type": "code",
   "execution_count": null,
   "id": "33227ba7-520d-412b-a10e-bdcbea26c8f7",
   "metadata": {},
   "outputs": [],
   "source": [
    "import mysql.connector as connection\n",
    "\n",
    "try:\n",
    "    mydb = connection.connect(host=\"localhost\", database = 'akshay12345',user=\"root\", passwd=\"mysql\",use_pure=True)\n",
    "    # check if the connection is established\n",
    "    print(mydb.is_connected())\n",
    "\n",
    "    query = \"CREATE TABLE StudentDetails (Studentid INT(10) AUTO_INCREMENT PRIMARY KEY,FirstName VARCHAR(60),\" \\\n",
    "            \"LastName VARCHAR(60), RegistrationDate DATE,Class Varchar(20), Section Varchar(10))\"\n",
    "\n",
    "    cursor = mydb.cursor() #create a cursor to execute queries\n",
    "    cursor.execute(query)\n",
    "    print(\"Table Created!!\")\n",
    "    mydb.close()\n",
    "except Exception as e:\n",
    "    mydb.close()\n",
    "    print(str(e))"
   ]
  },
  {
   "cell_type": "code",
   "execution_count": null,
   "id": "c31e0f82-6f6b-4060-82ef-2f5fb1a2ba28",
   "metadata": {},
   "outputs": [],
   "source": []
  },
  {
   "cell_type": "code",
   "execution_count": 44,
   "id": "5532f7ac-b9b8-4aec-a625-86c34f347448",
   "metadata": {},
   "outputs": [],
   "source": [
    "mydb = connection.connect(host=\"localhost\", database = 'akshay12345',user=\"root\", passwd=\"mysql\",use_pure=True)"
   ]
  },
  {
   "cell_type": "code",
   "execution_count": 46,
   "id": "a6d0d515-ea29-4a0a-8056-f6af99667f8e",
   "metadata": {},
   "outputs": [
    {
     "data": {
      "text/plain": [
       "True"
      ]
     },
     "execution_count": 46,
     "metadata": {},
     "output_type": "execute_result"
    }
   ],
   "source": [
    "mydb.is_connected()"
   ]
  },
  {
   "cell_type": "code",
   "execution_count": 49,
   "id": "9707b08d-d125-44ca-85b5-b953cb7938e6",
   "metadata": {},
   "outputs": [
    {
     "ename": "ProgrammingError",
     "evalue": "1050 (42S01): Table 'test' already exists",
     "output_type": "error",
     "traceback": [
      "\u001b[1;31m---------------------------------------------------------------------------\u001b[0m",
      "\u001b[1;31mProgrammingError\u001b[0m                          Traceback (most recent call last)",
      "Input \u001b[1;32mIn [49]\u001b[0m, in \u001b[0;36m<cell line: 2>\u001b[1;34m()\u001b[0m\n\u001b[0;32m      1\u001b[0m cur \u001b[38;5;241m=\u001b[39m mydb\u001b[38;5;241m.\u001b[39mcursor()\n\u001b[1;32m----> 2\u001b[0m \u001b[43mcur\u001b[49m\u001b[38;5;241;43m.\u001b[39;49m\u001b[43mexecute\u001b[49m\u001b[43m(\u001b[49m\u001b[38;5;124;43m\"\u001b[39;49m\u001b[38;5;124;43mcreate table test(x1 INT(5), x2 VARCHAR(20), x3 DATE)\u001b[39;49m\u001b[38;5;124;43m\"\u001b[39;49m\u001b[43m)\u001b[49m\n\u001b[0;32m      3\u001b[0m mydb\u001b[38;5;241m.\u001b[39mclose()\n",
      "File \u001b[1;32m~\\AppData\\Local\\Programs\\Python\\Python310\\lib\\site-packages\\mysql\\connector\\cursor.py:617\u001b[0m, in \u001b[0;36mMySQLCursor.execute\u001b[1;34m(self, operation, params, multi)\u001b[0m\n\u001b[0;32m    614\u001b[0m     \u001b[38;5;28;01mreturn\u001b[39;00m \u001b[38;5;28mself\u001b[39m\u001b[38;5;241m.\u001b[39m_execute_iter(\u001b[38;5;28mself\u001b[39m\u001b[38;5;241m.\u001b[39m_connection\u001b[38;5;241m.\u001b[39mcmd_query_iter(stmt))\n\u001b[0;32m    616\u001b[0m \u001b[38;5;28;01mtry\u001b[39;00m:\n\u001b[1;32m--> 617\u001b[0m     \u001b[38;5;28mself\u001b[39m\u001b[38;5;241m.\u001b[39m_handle_result(\u001b[38;5;28;43mself\u001b[39;49m\u001b[38;5;241;43m.\u001b[39;49m\u001b[43m_connection\u001b[49m\u001b[38;5;241;43m.\u001b[39;49m\u001b[43mcmd_query\u001b[49m\u001b[43m(\u001b[49m\u001b[43mstmt\u001b[49m\u001b[43m)\u001b[49m)\n\u001b[0;32m    618\u001b[0m \u001b[38;5;28;01mexcept\u001b[39;00m InterfaceError \u001b[38;5;28;01mas\u001b[39;00m err:\n\u001b[0;32m    619\u001b[0m     \u001b[38;5;28;01mif\u001b[39;00m \u001b[38;5;28mself\u001b[39m\u001b[38;5;241m.\u001b[39m_connection\u001b[38;5;241m.\u001b[39mhave_next_result:\n",
      "File \u001b[1;32m~\\AppData\\Local\\Programs\\Python\\Python310\\lib\\site-packages\\mysql\\connector\\opentelemetry\\context_propagation.py:77\u001b[0m, in \u001b[0;36mwith_context_propagation.<locals>.wrapper\u001b[1;34m(cnx, *args, **kwargs)\u001b[0m\n\u001b[0;32m     75\u001b[0m \u001b[38;5;124;03m\"\"\"Context propagation decorator.\"\"\"\u001b[39;00m\n\u001b[0;32m     76\u001b[0m \u001b[38;5;28;01mif\u001b[39;00m \u001b[38;5;129;01mnot\u001b[39;00m OTEL_ENABLED \u001b[38;5;129;01mor\u001b[39;00m \u001b[38;5;129;01mnot\u001b[39;00m cnx\u001b[38;5;241m.\u001b[39motel_context_propagation:\n\u001b[1;32m---> 77\u001b[0m     \u001b[38;5;28;01mreturn\u001b[39;00m method(cnx, \u001b[38;5;241m*\u001b[39margs, \u001b[38;5;241m*\u001b[39m\u001b[38;5;241m*\u001b[39mkwargs)\n\u001b[0;32m     79\u001b[0m current_span \u001b[38;5;241m=\u001b[39m trace\u001b[38;5;241m.\u001b[39mget_current_span()\n\u001b[0;32m     80\u001b[0m tp_header \u001b[38;5;241m=\u001b[39m \u001b[38;5;28;01mNone\u001b[39;00m\n",
      "File \u001b[1;32m~\\AppData\\Local\\Programs\\Python\\Python310\\lib\\site-packages\\mysql\\connector\\connection.py:1069\u001b[0m, in \u001b[0;36mMySQLConnection.cmd_query\u001b[1;34m(self, query, raw, buffered, raw_as_string)\u001b[0m\n\u001b[0;32m   1067\u001b[0m query \u001b[38;5;241m=\u001b[39m \u001b[38;5;28mbytes\u001b[39m(packet)\n\u001b[0;32m   1068\u001b[0m \u001b[38;5;28;01mtry\u001b[39;00m:\n\u001b[1;32m-> 1069\u001b[0m     result \u001b[38;5;241m=\u001b[39m \u001b[38;5;28;43mself\u001b[39;49m\u001b[38;5;241;43m.\u001b[39;49m\u001b[43m_handle_result\u001b[49m\u001b[43m(\u001b[49m\u001b[38;5;28;43mself\u001b[39;49m\u001b[38;5;241;43m.\u001b[39;49m\u001b[43m_send_cmd\u001b[49m\u001b[43m(\u001b[49m\u001b[43mServerCmd\u001b[49m\u001b[38;5;241;43m.\u001b[39;49m\u001b[43mQUERY\u001b[49m\u001b[43m,\u001b[49m\u001b[43m \u001b[49m\u001b[43mquery\u001b[49m\u001b[43m)\u001b[49m\u001b[43m)\u001b[49m\n\u001b[0;32m   1070\u001b[0m \u001b[38;5;28;01mexcept\u001b[39;00m ProgrammingError \u001b[38;5;28;01mas\u001b[39;00m err:\n\u001b[0;32m   1071\u001b[0m     \u001b[38;5;28;01mif\u001b[39;00m err\u001b[38;5;241m.\u001b[39merrno \u001b[38;5;241m==\u001b[39m \u001b[38;5;241m3948\u001b[39m \u001b[38;5;129;01mand\u001b[39;00m \u001b[38;5;124m\"\u001b[39m\u001b[38;5;124mLoading local data is disabled\u001b[39m\u001b[38;5;124m\"\u001b[39m \u001b[38;5;129;01min\u001b[39;00m err\u001b[38;5;241m.\u001b[39mmsg:\n",
      "File \u001b[1;32m~\\AppData\\Local\\Programs\\Python\\Python310\\lib\\site-packages\\mysql\\connector\\connection.py:846\u001b[0m, in \u001b[0;36mMySQLConnection._handle_result\u001b[1;34m(self, packet)\u001b[0m\n\u001b[0;32m    844\u001b[0m     \u001b[38;5;28;01mreturn\u001b[39;00m \u001b[38;5;28mself\u001b[39m\u001b[38;5;241m.\u001b[39m_handle_eof(packet)\n\u001b[0;32m    845\u001b[0m \u001b[38;5;28;01mif\u001b[39;00m packet[\u001b[38;5;241m4\u001b[39m] \u001b[38;5;241m==\u001b[39m \u001b[38;5;241m255\u001b[39m:\n\u001b[1;32m--> 846\u001b[0m     \u001b[38;5;28;01mraise\u001b[39;00m get_exception(packet)\n\u001b[0;32m    848\u001b[0m \u001b[38;5;66;03m# We have a text result set\u001b[39;00m\n\u001b[0;32m    849\u001b[0m column_count \u001b[38;5;241m=\u001b[39m \u001b[38;5;28mself\u001b[39m\u001b[38;5;241m.\u001b[39m_protocol\u001b[38;5;241m.\u001b[39mparse_column_count(packet)\n",
      "\u001b[1;31mProgrammingError\u001b[0m: 1050 (42S01): Table 'test' already exists"
     ]
    }
   ],
   "source": [
    "cur = mydb.cursor()\n",
    "cur.execute(\"create table test(x1 INT(5), x2 VARCHAR(20), x3 DATE)\")\n",
    "mydb.close()"
   ]
  },
  {
   "cell_type": "code",
   "execution_count": null,
   "id": "957cc07f-3cee-407a-948a-a852e3c53474",
   "metadata": {},
   "outputs": [],
   "source": [
    "\"\"\"\n",
    "1. connection is establish\n",
    "2. database is created\n",
    "3. table is created\n",
    "4. insert data into table\n",
    "5. \n",
    "\"\"\""
   ]
  },
  {
   "cell_type": "code",
   "execution_count": 51,
   "id": "fcd71c2c-2c04-4ef5-a7e4-c13158b8ccc9",
   "metadata": {},
   "outputs": [],
   "source": [
    "mydb = connection.connect(host=\"localhost\", database = 'akshay12345',user=\"root\", passwd=\"mysql\",use_pure=True)"
   ]
  },
  {
   "cell_type": "code",
   "execution_count": 52,
   "id": "32a4ae55-cf82-49ed-8cba-49add417dfdb",
   "metadata": {},
   "outputs": [],
   "source": [
    "cur = mydb.cursor()"
   ]
  },
  {
   "cell_type": "code",
   "execution_count": 55,
   "id": "a4fcc3bd-9a4e-4a30-b468-e7c409c4eecf",
   "metadata": {},
   "outputs": [],
   "source": [
    "cur.execute(\"insert into test value(4564, 'sudh', '2021-05-15')\") #accept the date in yy:mm:dd format"
   ]
  },
  {
   "cell_type": "code",
   "execution_count": 56,
   "id": "143620de-a311-4a36-9d6d-a3798a3feb75",
   "metadata": {},
   "outputs": [],
   "source": [
    "mydb.commit()"
   ]
  },
  {
   "cell_type": "code",
   "execution_count": 57,
   "id": "3df4eb61-6674-4fc7-9895-ab1a58267414",
   "metadata": {},
   "outputs": [],
   "source": [
    "cur.execute(\"insert into test value(45641, 'sudhas', '2021-05-16')\")"
   ]
  },
  {
   "cell_type": "code",
   "execution_count": 58,
   "id": "3c29a734-4790-4f7c-a150-b4e8bdfbae57",
   "metadata": {},
   "outputs": [],
   "source": [
    "cur.execute(\"insert into test value(45640, 'kaert', '2021-05-18')\")"
   ]
  },
  {
   "cell_type": "code",
   "execution_count": 59,
   "id": "51512256-6477-43a7-9ef4-551ca8796e6a",
   "metadata": {},
   "outputs": [],
   "source": [
    "mydb.commit()"
   ]
  },
  {
   "cell_type": "code",
   "execution_count": 60,
   "id": "e45e12ec-8852-4b59-a563-3dd770d2cae8",
   "metadata": {},
   "outputs": [],
   "source": [
    "#fecting the data"
   ]
  },
  {
   "cell_type": "code",
   "execution_count": 61,
   "id": "ecfc9131-0987-4694-85e0-002c077260cc",
   "metadata": {},
   "outputs": [],
   "source": [
    "cur = mydb.cursor()\n",
    "cur.execute('select * from test')"
   ]
  },
  {
   "cell_type": "code",
   "execution_count": 62,
   "id": "6d205ec7-b280-4ee7-a92d-4bc968b5c6bc",
   "metadata": {},
   "outputs": [
    {
     "data": {
      "text/plain": [
       "[(4564, 'sudh', datetime.date(2021, 5, 15)),\n",
       " (45641, 'sudhas', datetime.date(2021, 5, 16)),\n",
       " (45640, 'kaert', datetime.date(2021, 5, 18))]"
      ]
     },
     "execution_count": 62,
     "metadata": {},
     "output_type": "execute_result"
    }
   ],
   "source": [
    "cur.fetchall()"
   ]
  },
  {
   "cell_type": "code",
   "execution_count": 70,
   "id": "28e49d88-4418-4eaf-aa56-7a99d83613a8",
   "metadata": {},
   "outputs": [],
   "source": [
    "# To fetch again, re-execute the query\n",
    "# cursor.execute(query)\n",
    "cur.execute('select * from test')"
   ]
  },
  {
   "cell_type": "code",
   "execution_count": 71,
   "id": "1da4c38b-6435-43ea-8930-f0c8f33d20e3",
   "metadata": {},
   "outputs": [
    {
     "name": "stdout",
     "output_type": "stream",
     "text": [
      "(4564, 'sudh', datetime.date(2021, 5, 15))\n",
      "(45641, 'sudhas', datetime.date(2021, 5, 16))\n",
      "(45640, 'kaert', datetime.date(2021, 5, 18))\n"
     ]
    }
   ],
   "source": [
    "for i in cur.fetchall():\n",
    "    print(i)\n",
    "#this give in tuple form "
   ]
  },
  {
   "cell_type": "code",
   "execution_count": 67,
   "id": "0ecd05ac-02fa-4412-90e4-289bb511d126",
   "metadata": {},
   "outputs": [],
   "source": [
    "cur1 = mydb.cursor()\n",
    "cur1.execute(\"select x1, x2 from test\")"
   ]
  },
  {
   "cell_type": "code",
   "execution_count": 68,
   "id": "7aae9be9-601b-4e17-a40a-a8099333bd7b",
   "metadata": {},
   "outputs": [
    {
     "name": "stdout",
     "output_type": "stream",
     "text": [
      "(4564, 'sudh')\n",
      "(45641, 'sudhas')\n",
      "(45640, 'kaert')\n"
     ]
    }
   ],
   "source": [
    "for i in cur1.fetchall():\n",
    "    print(i)"
   ]
  },
  {
   "cell_type": "code",
   "execution_count": null,
   "id": "3bda8ddf-3d4b-4c80-97ca-8edb8387f52c",
   "metadata": {},
   "outputs": [],
   "source": []
  },
  {
   "cell_type": "code",
   "execution_count": null,
   "id": "28e49fa0-7756-455f-9e28-f401c21d4b42",
   "metadata": {},
   "outputs": [],
   "source": [
    "import mysql.connector as connection\n",
    "import pandas as pd\n",
    "\n",
    "try:\n",
    "\n",
    "    mydb = connection.connect(host=\"localhost\", database='GlassData', user=\"root\", passwd=\"mysql\", use_pure=True)\n",
    "    # check if the connection is established\n",
    "    print(mydb.is_connected())\n",
    "    query = \"Select * from GlassData;\"\n",
    "    result_dataFrame = pandas.read_sql(query,mydb)\n",
    "    print(result_dataFrame)\n",
    "\n",
    "    mydb.close()  # close the connection\n",
    "\n",
    "except Exception as e:\n",
    "    #mydb.close()\n",
    "    print(str(e))"
   ]
  },
  {
   "cell_type": "code",
   "execution_count": 72,
   "id": "af2c3943-6169-4da3-b6d9-64ab903eadcb",
   "metadata": {},
   "outputs": [],
   "source": [
    "import pandas as pd"
   ]
  },
  {
   "cell_type": "code",
   "execution_count": 73,
   "id": "1259ea48-18cb-4d32-8f6c-a2e0a2b13ee6",
   "metadata": {},
   "outputs": [
    {
     "data": {
      "text/plain": [
       "<mysql.connector.connection.MySQLConnection at 0x2bfd66f9ff0>"
      ]
     },
     "execution_count": 73,
     "metadata": {},
     "output_type": "execute_result"
    }
   ],
   "source": [
    "mydb"
   ]
  },
  {
   "cell_type": "code",
   "execution_count": 74,
   "id": "274d48aa-288c-469e-b90c-49cee18a45d7",
   "metadata": {},
   "outputs": [
    {
     "name": "stderr",
     "output_type": "stream",
     "text": [
      "C:\\Users\\LENOVO\\AppData\\Local\\Temp\\ipykernel_7028\\3436508176.py:1: UserWarning: pandas only supports SQLAlchemy connectable (engine/connection) or database string URI or sqlite3 DBAPI2 connection. Other DBAPI2 objects are not tested. Please consider using SQLAlchemy.\n",
      "  pd.read_sql(\"select * from akshay12345.test\", mydb)\n"
     ]
    },
    {
     "data": {
      "text/html": [
       "<div>\n",
       "<style scoped>\n",
       "    .dataframe tbody tr th:only-of-type {\n",
       "        vertical-align: middle;\n",
       "    }\n",
       "\n",
       "    .dataframe tbody tr th {\n",
       "        vertical-align: top;\n",
       "    }\n",
       "\n",
       "    .dataframe thead th {\n",
       "        text-align: right;\n",
       "    }\n",
       "</style>\n",
       "<table border=\"1\" class=\"dataframe\">\n",
       "  <thead>\n",
       "    <tr style=\"text-align: right;\">\n",
       "      <th></th>\n",
       "      <th>x1</th>\n",
       "      <th>x2</th>\n",
       "      <th>x3</th>\n",
       "    </tr>\n",
       "  </thead>\n",
       "  <tbody>\n",
       "    <tr>\n",
       "      <th>0</th>\n",
       "      <td>4564</td>\n",
       "      <td>sudh</td>\n",
       "      <td>2021-05-15</td>\n",
       "    </tr>\n",
       "    <tr>\n",
       "      <th>1</th>\n",
       "      <td>45641</td>\n",
       "      <td>sudhas</td>\n",
       "      <td>2021-05-16</td>\n",
       "    </tr>\n",
       "    <tr>\n",
       "      <th>2</th>\n",
       "      <td>45640</td>\n",
       "      <td>kaert</td>\n",
       "      <td>2021-05-18</td>\n",
       "    </tr>\n",
       "  </tbody>\n",
       "</table>\n",
       "</div>"
      ],
      "text/plain": [
       "      x1      x2          x3\n",
       "0   4564    sudh  2021-05-15\n",
       "1  45641  sudhas  2021-05-16\n",
       "2  45640   kaert  2021-05-18"
      ]
     },
     "execution_count": 74,
     "metadata": {},
     "output_type": "execute_result"
    }
   ],
   "source": [
    "pd.read_sql(\"select * from akshay12345.test\", mydb)"
   ]
  },
  {
   "cell_type": "code",
   "execution_count": 77,
   "id": "b5c4d3da-67a0-4b1f-8942-94e425b3e35e",
   "metadata": {},
   "outputs": [
    {
     "name": "stderr",
     "output_type": "stream",
     "text": [
      "C:\\Users\\LENOVO\\AppData\\Local\\Temp\\ipykernel_7028\\1704714897.py:1: UserWarning: pandas only supports SQLAlchemy connectable (engine/connection) or database string URI or sqlite3 DBAPI2 connection. Other DBAPI2 objects are not tested. Please consider using SQLAlchemy.\n",
      "  a = pd.read_sql(\"select x3, x1, x2 from test\", mydb)\n"
     ]
    }
   ],
   "source": [
    "a = pd.read_sql(\"select x3, x1, x2 from test\", mydb)"
   ]
  },
  {
   "cell_type": "code",
   "execution_count": 78,
   "id": "128a3764-5e25-464b-88c1-e08b7f28f9c9",
   "metadata": {},
   "outputs": [],
   "source": [
    "a.to_csv(\"mydata.csv\")"
   ]
  },
  {
   "cell_type": "code",
   "execution_count": 83,
   "id": "958fc95a-4e9e-472a-97a2-2f24757f7075",
   "metadata": {},
   "outputs": [],
   "source": [
    "mydb = connection.connect(host=\"localhost\", database=\"akshay12345\", user=\"root\", passwd=\"mysql\", use_pure=True)"
   ]
  },
  {
   "cell_type": "code",
   "execution_count": 87,
   "id": "1a9cf420-790e-493e-b0aa-22303ab3ce10",
   "metadata": {},
   "outputs": [],
   "source": [
    "# cur = mydb.cursor()\n",
    "# cur.execute(\"create table mydata(n1 int(20), n2 varchar(20), n3 date)\")"
   ]
  },
  {
   "cell_type": "code",
   "execution_count": 92,
   "id": "90f30354-5414-458f-8022-b9186a546f65",
   "metadata": {},
   "outputs": [
    {
     "name": "stderr",
     "output_type": "stream",
     "text": [
      "C:\\Users\\LENOVO\\AppData\\Local\\Temp\\ipykernel_7028\\1115763627.py:1: UserWarning: pandas only supports SQLAlchemy connectable (engine/connection) or database string URI or sqlite3 DBAPI2 connection. Other DBAPI2 objects are not tested. Please consider using SQLAlchemy.\n",
      "  data1 = pd.read_sql(\"select * from test\", mydb)\n"
     ]
    }
   ],
   "source": [
    "data1 = pd.read_sql(\"select * from test\", mydb)"
   ]
  },
  {
   "cell_type": "code",
   "execution_count": 94,
   "id": "144c7e21-0ebc-423e-9468-dbdf122a3837",
   "metadata": {},
   "outputs": [
    {
     "ename": "ImportError",
     "evalue": "Using URI string without sqlalchemy installed.",
     "output_type": "error",
     "traceback": [
      "\u001b[1;31m---------------------------------------------------------------------------\u001b[0m",
      "\u001b[1;31mImportError\u001b[0m                               Traceback (most recent call last)",
      "Input \u001b[1;32mIn [94]\u001b[0m, in \u001b[0;36m<cell line: 1>\u001b[1;34m()\u001b[0m\n\u001b[1;32m----> 1\u001b[0m \u001b[43mdata1\u001b[49m\u001b[38;5;241;43m.\u001b[39;49m\u001b[43mto_sql\u001b[49m\u001b[43m(\u001b[49m\u001b[38;5;124;43m'\u001b[39;49m\u001b[38;5;124;43mmydata1\u001b[39;49m\u001b[38;5;124;43m'\u001b[39;49m\u001b[43m,\u001b[49m\u001b[43m \u001b[49m\u001b[43mcon\u001b[49m\u001b[43m \u001b[49m\u001b[38;5;241;43m=\u001b[39;49m\u001b[43m \u001b[49m\u001b[38;5;124;43m'\u001b[39;49m\u001b[38;5;124;43mmydb\u001b[39;49m\u001b[38;5;124;43m'\u001b[39;49m\u001b[43m)\u001b[49m\n",
      "File \u001b[1;32m~\\AppData\\Local\\Programs\\Python\\Python310\\lib\\site-packages\\pandas\\core\\generic.py:2878\u001b[0m, in \u001b[0;36mNDFrame.to_sql\u001b[1;34m(self, name, con, schema, if_exists, index, index_label, chunksize, dtype, method)\u001b[0m\n\u001b[0;32m   2713\u001b[0m \u001b[38;5;124;03m\"\"\"\u001b[39;00m\n\u001b[0;32m   2714\u001b[0m \u001b[38;5;124;03mWrite records stored in a DataFrame to a SQL database.\u001b[39;00m\n\u001b[0;32m   2715\u001b[0m \n\u001b[1;32m   (...)\u001b[0m\n\u001b[0;32m   2874\u001b[0m \u001b[38;5;124;03m[(1,), (None,), (2,)]\u001b[39;00m\n\u001b[0;32m   2875\u001b[0m \u001b[38;5;124;03m\"\"\"\u001b[39;00m  \u001b[38;5;66;03m# noqa:E501\u001b[39;00m\n\u001b[0;32m   2876\u001b[0m \u001b[38;5;28;01mfrom\u001b[39;00m \u001b[38;5;21;01mpandas\u001b[39;00m\u001b[38;5;21;01m.\u001b[39;00m\u001b[38;5;21;01mio\u001b[39;00m \u001b[38;5;28;01mimport\u001b[39;00m sql\n\u001b[1;32m-> 2878\u001b[0m \u001b[38;5;28;01mreturn\u001b[39;00m \u001b[43msql\u001b[49m\u001b[38;5;241;43m.\u001b[39;49m\u001b[43mto_sql\u001b[49m\u001b[43m(\u001b[49m\n\u001b[0;32m   2879\u001b[0m \u001b[43m    \u001b[49m\u001b[38;5;28;43mself\u001b[39;49m\u001b[43m,\u001b[49m\n\u001b[0;32m   2880\u001b[0m \u001b[43m    \u001b[49m\u001b[43mname\u001b[49m\u001b[43m,\u001b[49m\n\u001b[0;32m   2881\u001b[0m \u001b[43m    \u001b[49m\u001b[43mcon\u001b[49m\u001b[43m,\u001b[49m\n\u001b[0;32m   2882\u001b[0m \u001b[43m    \u001b[49m\u001b[43mschema\u001b[49m\u001b[38;5;241;43m=\u001b[39;49m\u001b[43mschema\u001b[49m\u001b[43m,\u001b[49m\n\u001b[0;32m   2883\u001b[0m \u001b[43m    \u001b[49m\u001b[43mif_exists\u001b[49m\u001b[38;5;241;43m=\u001b[39;49m\u001b[43mif_exists\u001b[49m\u001b[43m,\u001b[49m\n\u001b[0;32m   2884\u001b[0m \u001b[43m    \u001b[49m\u001b[43mindex\u001b[49m\u001b[38;5;241;43m=\u001b[39;49m\u001b[43mindex\u001b[49m\u001b[43m,\u001b[49m\n\u001b[0;32m   2885\u001b[0m \u001b[43m    \u001b[49m\u001b[43mindex_label\u001b[49m\u001b[38;5;241;43m=\u001b[39;49m\u001b[43mindex_label\u001b[49m\u001b[43m,\u001b[49m\n\u001b[0;32m   2886\u001b[0m \u001b[43m    \u001b[49m\u001b[43mchunksize\u001b[49m\u001b[38;5;241;43m=\u001b[39;49m\u001b[43mchunksize\u001b[49m\u001b[43m,\u001b[49m\n\u001b[0;32m   2887\u001b[0m \u001b[43m    \u001b[49m\u001b[43mdtype\u001b[49m\u001b[38;5;241;43m=\u001b[39;49m\u001b[43mdtype\u001b[49m\u001b[43m,\u001b[49m\n\u001b[0;32m   2888\u001b[0m \u001b[43m    \u001b[49m\u001b[43mmethod\u001b[49m\u001b[38;5;241;43m=\u001b[39;49m\u001b[43mmethod\u001b[49m\u001b[43m,\u001b[49m\n\u001b[0;32m   2889\u001b[0m \u001b[43m\u001b[49m\u001b[43m)\u001b[49m\n",
      "File \u001b[1;32m~\\AppData\\Local\\Programs\\Python\\Python310\\lib\\site-packages\\pandas\\io\\sql.py:768\u001b[0m, in \u001b[0;36mto_sql\u001b[1;34m(frame, name, con, schema, if_exists, index, index_label, chunksize, dtype, method, engine, **engine_kwargs)\u001b[0m\n\u001b[0;32m    763\u001b[0m \u001b[38;5;28;01melif\u001b[39;00m \u001b[38;5;129;01mnot\u001b[39;00m \u001b[38;5;28misinstance\u001b[39m(frame, DataFrame):\n\u001b[0;32m    764\u001b[0m     \u001b[38;5;28;01mraise\u001b[39;00m \u001b[38;5;167;01mNotImplementedError\u001b[39;00m(\n\u001b[0;32m    765\u001b[0m         \u001b[38;5;124m\"\u001b[39m\u001b[38;5;124m'\u001b[39m\u001b[38;5;124mframe\u001b[39m\u001b[38;5;124m'\u001b[39m\u001b[38;5;124m argument should be either a Series or a DataFrame\u001b[39m\u001b[38;5;124m\"\u001b[39m\n\u001b[0;32m    766\u001b[0m     )\n\u001b[1;32m--> 768\u001b[0m \u001b[38;5;28;01mwith\u001b[39;00m \u001b[43mpandasSQL_builder\u001b[49m\u001b[43m(\u001b[49m\u001b[43mcon\u001b[49m\u001b[43m,\u001b[49m\u001b[43m \u001b[49m\u001b[43mschema\u001b[49m\u001b[38;5;241;43m=\u001b[39;49m\u001b[43mschema\u001b[49m\u001b[43m,\u001b[49m\u001b[43m \u001b[49m\u001b[43mneed_transaction\u001b[49m\u001b[38;5;241;43m=\u001b[39;49m\u001b[38;5;28;43;01mTrue\u001b[39;49;00m\u001b[43m)\u001b[49m \u001b[38;5;28;01mas\u001b[39;00m pandas_sql:\n\u001b[0;32m    769\u001b[0m     \u001b[38;5;28;01mreturn\u001b[39;00m pandas_sql\u001b[38;5;241m.\u001b[39mto_sql(\n\u001b[0;32m    770\u001b[0m         frame,\n\u001b[0;32m    771\u001b[0m         name,\n\u001b[1;32m   (...)\u001b[0m\n\u001b[0;32m    780\u001b[0m         \u001b[38;5;241m*\u001b[39m\u001b[38;5;241m*\u001b[39mengine_kwargs,\n\u001b[0;32m    781\u001b[0m     )\n",
      "File \u001b[1;32m~\\AppData\\Local\\Programs\\Python\\Python310\\lib\\site-packages\\pandas\\io\\sql.py:829\u001b[0m, in \u001b[0;36mpandasSQL_builder\u001b[1;34m(con, schema, need_transaction)\u001b[0m\n\u001b[0;32m    826\u001b[0m sqlalchemy \u001b[38;5;241m=\u001b[39m import_optional_dependency(\u001b[38;5;124m\"\u001b[39m\u001b[38;5;124msqlalchemy\u001b[39m\u001b[38;5;124m\"\u001b[39m, errors\u001b[38;5;241m=\u001b[39m\u001b[38;5;124m\"\u001b[39m\u001b[38;5;124mignore\u001b[39m\u001b[38;5;124m\"\u001b[39m)\n\u001b[0;32m    828\u001b[0m \u001b[38;5;28;01mif\u001b[39;00m \u001b[38;5;28misinstance\u001b[39m(con, \u001b[38;5;28mstr\u001b[39m) \u001b[38;5;129;01mand\u001b[39;00m sqlalchemy \u001b[38;5;129;01mis\u001b[39;00m \u001b[38;5;28;01mNone\u001b[39;00m:\n\u001b[1;32m--> 829\u001b[0m     \u001b[38;5;28;01mraise\u001b[39;00m \u001b[38;5;167;01mImportError\u001b[39;00m(\u001b[38;5;124m\"\u001b[39m\u001b[38;5;124mUsing URI string without sqlalchemy installed.\u001b[39m\u001b[38;5;124m\"\u001b[39m)\n\u001b[0;32m    831\u001b[0m \u001b[38;5;28;01mif\u001b[39;00m sqlalchemy \u001b[38;5;129;01mis\u001b[39;00m \u001b[38;5;129;01mnot\u001b[39;00m \u001b[38;5;28;01mNone\u001b[39;00m \u001b[38;5;129;01mand\u001b[39;00m \u001b[38;5;28misinstance\u001b[39m(con, (\u001b[38;5;28mstr\u001b[39m, sqlalchemy\u001b[38;5;241m.\u001b[39mengine\u001b[38;5;241m.\u001b[39mConnectable)):\n\u001b[0;32m    832\u001b[0m     \u001b[38;5;28;01mreturn\u001b[39;00m SQLDatabase(con, schema, need_transaction)\n",
      "\u001b[1;31mImportError\u001b[0m: Using URI string without sqlalchemy installed."
     ]
    }
   ],
   "source": [
    "data1.to_sql('mydata1', con = 'mydb')"
   ]
  },
  {
   "cell_type": "code",
   "execution_count": 95,
   "id": "dc11a04f-caf9-414c-88fc-60b7e04f8e6a",
   "metadata": {},
   "outputs": [
    {
     "ename": "TypeError",
     "evalue": "NDFrame.to_sql() missing 2 required positional arguments: 'name' and 'con'",
     "output_type": "error",
     "traceback": [
      "\u001b[1;31m---------------------------------------------------------------------------\u001b[0m",
      "\u001b[1;31mTypeError\u001b[0m                                 Traceback (most recent call last)",
      "Input \u001b[1;32mIn [95]\u001b[0m, in \u001b[0;36m<cell line: 1>\u001b[1;34m()\u001b[0m\n\u001b[1;32m----> 1\u001b[0m \u001b[43mdata\u001b[49m\u001b[38;5;241;43m.\u001b[39;49m\u001b[43mto_sql\u001b[49m\u001b[43m(\u001b[49m\u001b[43m)\u001b[49m\n",
      "\u001b[1;31mTypeError\u001b[0m: NDFrame.to_sql() missing 2 required positional arguments: 'name' and 'con'"
     ]
    }
   ],
   "source": [
    "data.to_sql()"
   ]
  },
  {
   "cell_type": "code",
   "execution_count": null,
   "id": "8324761a-d332-494d-9736-4ed65bc6143d",
   "metadata": {},
   "outputs": [],
   "source": []
  },
  {
   "cell_type": "code",
   "execution_count": 96,
   "id": "a94fae4e-f859-438c-8de7-0666c0da913e",
   "metadata": {},
   "outputs": [],
   "source": [
    "import mysql.connector as connection\n",
    "import pandas as pd\n",
    "import csv\n",
    "mydb = connection.connect(host=\"localhost\", user=\"root\", passwd=\"mysql\", use_pure=True)"
   ]
  },
  {
   "cell_type": "code",
   "execution_count": 106,
   "id": "b1a52fd3-570e-48d0-9d80-2d6d54207d0c",
   "metadata": {},
   "outputs": [
    {
     "ename": "ProgrammingError",
     "evalue": "1050 (42S01): Table 'glass' already exists",
     "output_type": "error",
     "traceback": [
      "\u001b[1;31m---------------------------------------------------------------------------\u001b[0m",
      "\u001b[1;31mProgrammingError\u001b[0m                          Traceback (most recent call last)",
      "Input \u001b[1;32mIn [106]\u001b[0m, in \u001b[0;36m<cell line: 2>\u001b[1;34m()\u001b[0m\n\u001b[0;32m      1\u001b[0m cur \u001b[38;5;241m=\u001b[39m mydb\u001b[38;5;241m.\u001b[39mcursor()\n\u001b[1;32m----> 2\u001b[0m \u001b[43mcur\u001b[49m\u001b[38;5;241;43m.\u001b[39;49m\u001b[43mexecute\u001b[49m\u001b[43m(\u001b[49m\u001b[38;5;124;43m\"\u001b[39;49m\u001b[38;5;124;43mcreate table akshay12345.glass(`index` int(20),RI float(10,5),Na float(10,5),Mg float(10,5),Al float(10,5),Si float(10,5),K float(10,5),Ca float(10,5),Ba float,Fe float,Class float)\u001b[39;49m\u001b[38;5;124;43m\"\u001b[39;49m\u001b[43m)\u001b[49m\n",
      "File \u001b[1;32m~\\AppData\\Local\\Programs\\Python\\Python310\\lib\\site-packages\\mysql\\connector\\cursor.py:617\u001b[0m, in \u001b[0;36mMySQLCursor.execute\u001b[1;34m(self, operation, params, multi)\u001b[0m\n\u001b[0;32m    614\u001b[0m     \u001b[38;5;28;01mreturn\u001b[39;00m \u001b[38;5;28mself\u001b[39m\u001b[38;5;241m.\u001b[39m_execute_iter(\u001b[38;5;28mself\u001b[39m\u001b[38;5;241m.\u001b[39m_connection\u001b[38;5;241m.\u001b[39mcmd_query_iter(stmt))\n\u001b[0;32m    616\u001b[0m \u001b[38;5;28;01mtry\u001b[39;00m:\n\u001b[1;32m--> 617\u001b[0m     \u001b[38;5;28mself\u001b[39m\u001b[38;5;241m.\u001b[39m_handle_result(\u001b[38;5;28;43mself\u001b[39;49m\u001b[38;5;241;43m.\u001b[39;49m\u001b[43m_connection\u001b[49m\u001b[38;5;241;43m.\u001b[39;49m\u001b[43mcmd_query\u001b[49m\u001b[43m(\u001b[49m\u001b[43mstmt\u001b[49m\u001b[43m)\u001b[49m)\n\u001b[0;32m    618\u001b[0m \u001b[38;5;28;01mexcept\u001b[39;00m InterfaceError \u001b[38;5;28;01mas\u001b[39;00m err:\n\u001b[0;32m    619\u001b[0m     \u001b[38;5;28;01mif\u001b[39;00m \u001b[38;5;28mself\u001b[39m\u001b[38;5;241m.\u001b[39m_connection\u001b[38;5;241m.\u001b[39mhave_next_result:\n",
      "File \u001b[1;32m~\\AppData\\Local\\Programs\\Python\\Python310\\lib\\site-packages\\mysql\\connector\\opentelemetry\\context_propagation.py:77\u001b[0m, in \u001b[0;36mwith_context_propagation.<locals>.wrapper\u001b[1;34m(cnx, *args, **kwargs)\u001b[0m\n\u001b[0;32m     75\u001b[0m \u001b[38;5;124;03m\"\"\"Context propagation decorator.\"\"\"\u001b[39;00m\n\u001b[0;32m     76\u001b[0m \u001b[38;5;28;01mif\u001b[39;00m \u001b[38;5;129;01mnot\u001b[39;00m OTEL_ENABLED \u001b[38;5;129;01mor\u001b[39;00m \u001b[38;5;129;01mnot\u001b[39;00m cnx\u001b[38;5;241m.\u001b[39motel_context_propagation:\n\u001b[1;32m---> 77\u001b[0m     \u001b[38;5;28;01mreturn\u001b[39;00m method(cnx, \u001b[38;5;241m*\u001b[39margs, \u001b[38;5;241m*\u001b[39m\u001b[38;5;241m*\u001b[39mkwargs)\n\u001b[0;32m     79\u001b[0m current_span \u001b[38;5;241m=\u001b[39m trace\u001b[38;5;241m.\u001b[39mget_current_span()\n\u001b[0;32m     80\u001b[0m tp_header \u001b[38;5;241m=\u001b[39m \u001b[38;5;28;01mNone\u001b[39;00m\n",
      "File \u001b[1;32m~\\AppData\\Local\\Programs\\Python\\Python310\\lib\\site-packages\\mysql\\connector\\connection.py:1069\u001b[0m, in \u001b[0;36mMySQLConnection.cmd_query\u001b[1;34m(self, query, raw, buffered, raw_as_string)\u001b[0m\n\u001b[0;32m   1067\u001b[0m query \u001b[38;5;241m=\u001b[39m \u001b[38;5;28mbytes\u001b[39m(packet)\n\u001b[0;32m   1068\u001b[0m \u001b[38;5;28;01mtry\u001b[39;00m:\n\u001b[1;32m-> 1069\u001b[0m     result \u001b[38;5;241m=\u001b[39m \u001b[38;5;28;43mself\u001b[39;49m\u001b[38;5;241;43m.\u001b[39;49m\u001b[43m_handle_result\u001b[49m\u001b[43m(\u001b[49m\u001b[38;5;28;43mself\u001b[39;49m\u001b[38;5;241;43m.\u001b[39;49m\u001b[43m_send_cmd\u001b[49m\u001b[43m(\u001b[49m\u001b[43mServerCmd\u001b[49m\u001b[38;5;241;43m.\u001b[39;49m\u001b[43mQUERY\u001b[49m\u001b[43m,\u001b[49m\u001b[43m \u001b[49m\u001b[43mquery\u001b[49m\u001b[43m)\u001b[49m\u001b[43m)\u001b[49m\n\u001b[0;32m   1070\u001b[0m \u001b[38;5;28;01mexcept\u001b[39;00m ProgrammingError \u001b[38;5;28;01mas\u001b[39;00m err:\n\u001b[0;32m   1071\u001b[0m     \u001b[38;5;28;01mif\u001b[39;00m err\u001b[38;5;241m.\u001b[39merrno \u001b[38;5;241m==\u001b[39m \u001b[38;5;241m3948\u001b[39m \u001b[38;5;129;01mand\u001b[39;00m \u001b[38;5;124m\"\u001b[39m\u001b[38;5;124mLoading local data is disabled\u001b[39m\u001b[38;5;124m\"\u001b[39m \u001b[38;5;129;01min\u001b[39;00m err\u001b[38;5;241m.\u001b[39mmsg:\n",
      "File \u001b[1;32m~\\AppData\\Local\\Programs\\Python\\Python310\\lib\\site-packages\\mysql\\connector\\connection.py:846\u001b[0m, in \u001b[0;36mMySQLConnection._handle_result\u001b[1;34m(self, packet)\u001b[0m\n\u001b[0;32m    844\u001b[0m     \u001b[38;5;28;01mreturn\u001b[39;00m \u001b[38;5;28mself\u001b[39m\u001b[38;5;241m.\u001b[39m_handle_eof(packet)\n\u001b[0;32m    845\u001b[0m \u001b[38;5;28;01mif\u001b[39;00m packet[\u001b[38;5;241m4\u001b[39m] \u001b[38;5;241m==\u001b[39m \u001b[38;5;241m255\u001b[39m:\n\u001b[1;32m--> 846\u001b[0m     \u001b[38;5;28;01mraise\u001b[39;00m get_exception(packet)\n\u001b[0;32m    848\u001b[0m \u001b[38;5;66;03m# We have a text result set\u001b[39;00m\n\u001b[0;32m    849\u001b[0m column_count \u001b[38;5;241m=\u001b[39m \u001b[38;5;28mself\u001b[39m\u001b[38;5;241m.\u001b[39m_protocol\u001b[38;5;241m.\u001b[39mparse_column_count(packet)\n",
      "\u001b[1;31mProgrammingError\u001b[0m: 1050 (42S01): Table 'glass' already exists"
     ]
    }
   ],
   "source": [
    "cur = mydb.cursor()\n",
    "cur.execute(\"create table akshay12345.glass(`index` int(20),RI float(10,5),Na float(10,5),Mg float(10,5),Al float(10,5),Si float(10,5),K float(10,5),Ca float(10,5),Ba float,Fe float,Class float)\")\n",
    "#By using backticks around index, you are indicating that it's a column name and not the reserved keyword INT.\n",
    "# Additionally, make sure you have the necessary privileges to create a table in the akshay12345 schema and that the schema exists in your MySQL database."
   ]
  },
  {
   "cell_type": "code",
   "execution_count": null,
   "id": "2fc0397e-cfdb-4516-9321-dda95fc715ec",
   "metadata": {},
   "outputs": [],
   "source": [
    "import mysql.connector as connection\n",
    "import pandas as pd\n",
    "import csv\n",
    "try:\n",
    "\n",
    "    mydb = connection.connect(host=\"localhost\", user=\"root\", passwd=\"mysql\", use_pure=True)\n",
    "    # check if the connection is established\n",
    "    print(mydb.is_connected())\n",
    "    query = \"create table akshay12345.glass(`index` int(20),RI float(10,5),Na float(10,5),Mg float(10,5),Al float(10,5),Si float(10,5),K float(10,5),Ca float(10,5),Ba float,Fe float,Class float)\"\n",
    "    result_dataFrame = pandas.read_sql(query,mydb)\n",
    "    print(result_dataFrame)\n",
    "\n",
    "    mydb.close()  # close the connection\n",
    "\n",
    "except Exception as e:\n",
    "    #mydb.close()\n",
    "    print(str(e))"
   ]
  },
  {
   "cell_type": "code",
   "execution_count": 107,
   "id": "885e79f8-7f48-4952-bcbf-e17fe0fbd2ef",
   "metadata": {},
   "outputs": [],
   "source": [
    "import mysql.connector as connection\n",
    "import pandas as pd\n",
    "import csv\n",
    "mydb = connection.connect(host=\"localhost\", user=\"root\", passwd=\"mysql\", use_pure=True)"
   ]
  },
  {
   "cell_type": "code",
   "execution_count": 110,
   "id": "7dbeac3a-8ec4-4b08-ac38-b349feaebd94",
   "metadata": {},
   "outputs": [],
   "source": [
    "cur = mydb.cursor()\n",
    "cur.execute(\"create table akshay12345.glassData(`index` int(20),RI float(10,5),Na float(10,5),Mg float(10,5),Al float(10,5),Si float(10,5),K float(10,5),Ca float(10,5),Ba float,Fe float,Class float)\")"
   ]
  },
  {
   "cell_type": "code",
   "execution_count": 132,
   "id": "1ee4da14-0ad2-43b3-9163-069b4c7ee159",
   "metadata": {},
   "outputs": [
    {
     "name": "stdout",
     "output_type": "stream",
     "text": [
      "<_csv.reader object at 0x000002BFE0598400>\n",
      "(0, ['1,1.52101,13.64,4.49,1.10,71.78,0.06,8.75,0.00,0.00,1'])\n",
      "<class 'str'>\n",
      "(1, ['2,1.51761,13.89,3.60,1.36,72.73,0.48,7.83,0.00,0.00,1'])\n",
      "<class 'str'>\n",
      "(2, ['3,1.51618,13.53,3.55,1.54,72.99,0.39,7.78,0.00,0.00,1'])\n",
      "<class 'str'>\n",
      "(3, ['4,1.51766,13.21,3.69,1.29,72.61,0.57,8.22,0.00,0.00,1'])\n",
      "<class 'str'>\n",
      "(4, ['5,1.51742,13.27,3.62,1.24,73.08,0.55,8.07,0.00,0.00,1'])\n",
      "<class 'str'>\n",
      "(5, ['6,1.51596,12.79,3.61,1.62,72.97,0.64,8.07,0.00,0.26,1'])\n",
      "<class 'str'>\n",
      "(6, ['7,1.51743,13.30,3.60,1.14,73.09,0.58,8.17,0.00,0.00,1'])\n",
      "<class 'str'>\n",
      "(7, ['8,1.51756,13.15,3.61,1.05,73.24,0.57,8.24,0.00,0.00,1'])\n",
      "<class 'str'>\n",
      "(8, ['9,1.51918,14.04,3.58,1.37,72.08,0.56,8.30,0.00,0.00,1'])\n",
      "<class 'str'>\n",
      "(9, ['10,1.51755,13.00,3.60,1.36,72.99,0.57,8.40,0.00,0.11,1'])\n",
      "<class 'str'>\n",
      "(10, ['11,1.51571,12.72,3.46,1.56,73.20,0.67,8.09,0.00,0.24,1'])\n",
      "<class 'str'>\n",
      "(11, ['12,1.51763,12.80,3.66,1.27,73.01,0.60,8.56,0.00,0.00,1'])\n",
      "<class 'str'>\n",
      "(12, ['13,1.51589,12.88,3.43,1.40,73.28,0.69,8.05,0.00,0.24,1'])\n",
      "<class 'str'>\n",
      "(13, ['14,1.51748,12.86,3.56,1.27,73.21,0.54,8.38,0.00,0.17,1'])\n",
      "<class 'str'>\n",
      "(14, ['15,1.51763,12.61,3.59,1.31,73.29,0.58,8.50,0.00,0.00,1'])\n",
      "<class 'str'>\n",
      "(15, ['16,1.51761,12.81,3.54,1.23,73.24,0.58,8.39,0.00,0.00,1'])\n",
      "<class 'str'>\n",
      "(16, ['17,1.51784,12.68,3.67,1.16,73.11,0.61,8.70,0.00,0.00,1'])\n",
      "<class 'str'>\n",
      "(17, ['18,1.52196,14.36,3.85,0.89,71.36,0.15,9.15,0.00,0.00,1'])\n",
      "<class 'str'>\n",
      "(18, ['19,1.51911,13.90,3.73,1.18,72.12,0.06,8.89,0.00,0.00,1'])\n",
      "<class 'str'>\n",
      "(19, ['20,1.51735,13.02,3.54,1.69,72.73,0.54,8.44,0.00,0.07,1'])\n",
      "<class 'str'>\n",
      "(20, ['21,1.51750,12.82,3.55,1.49,72.75,0.54,8.52,0.00,0.19,1'])\n",
      "<class 'str'>\n",
      "(21, ['22,1.51966,14.77,3.75,0.29,72.02,0.03,9.00,0.00,0.00,1'])\n",
      "<class 'str'>\n",
      "(22, ['23,1.51736,12.78,3.62,1.29,72.79,0.59,8.70,0.00,0.00,1'])\n",
      "<class 'str'>\n",
      "(23, ['24,1.51751,12.81,3.57,1.35,73.02,0.62,8.59,0.00,0.00,1'])\n",
      "<class 'str'>\n",
      "(24, ['25,1.51720,13.38,3.50,1.15,72.85,0.50,8.43,0.00,0.00,1'])\n",
      "<class 'str'>\n",
      "(25, ['26,1.51764,12.98,3.54,1.21,73.00,0.65,8.53,0.00,0.00,1'])\n",
      "<class 'str'>\n",
      "(26, ['27,1.51793,13.21,3.48,1.41,72.64,0.59,8.43,0.00,0.00,1'])\n",
      "<class 'str'>\n",
      "(27, ['28,1.51721,12.87,3.48,1.33,73.04,0.56,8.43,0.00,0.00,1'])\n",
      "<class 'str'>\n",
      "(28, ['29,1.51768,12.56,3.52,1.43,73.15,0.57,8.54,0.00,0.00,1'])\n",
      "<class 'str'>\n",
      "(29, ['30,1.51784,13.08,3.49,1.28,72.86,0.60,8.49,0.00,0.00,1'])\n",
      "<class 'str'>\n",
      "(30, ['31,1.51768,12.65,3.56,1.30,73.08,0.61,8.69,0.00,0.14,1'])\n",
      "<class 'str'>\n",
      "(31, ['32,1.51747,12.84,3.50,1.14,73.27,0.56,8.55,0.00,0.00,1'])\n",
      "<class 'str'>\n",
      "(32, ['33,1.51775,12.85,3.48,1.23,72.97,0.61,8.56,0.09,0.22,1'])\n",
      "<class 'str'>\n",
      "(33, ['34,1.51753,12.57,3.47,1.38,73.39,0.60,8.55,0.00,0.06,1'])\n",
      "<class 'str'>\n",
      "(34, ['35,1.51783,12.69,3.54,1.34,72.95,0.57,8.75,0.00,0.00,1'])\n",
      "<class 'str'>\n",
      "(35, ['36,1.51567,13.29,3.45,1.21,72.74,0.56,8.57,0.00,0.00,1'])\n",
      "<class 'str'>\n",
      "(36, ['37,1.51909,13.89,3.53,1.32,71.81,0.51,8.78,0.11,0.00,1'])\n",
      "<class 'str'>\n",
      "(37, ['38,1.51797,12.74,3.48,1.35,72.96,0.64,8.68,0.00,0.00,1'])\n",
      "<class 'str'>\n",
      "(38, ['39,1.52213,14.21,3.82,0.47,71.77,0.11,9.57,0.00,0.00,1'])\n",
      "<class 'str'>\n",
      "(39, ['40,1.52213,14.21,3.82,0.47,71.77,0.11,9.57,0.00,0.00,1'])\n",
      "<class 'str'>\n",
      "(40, ['41,1.51793,12.79,3.50,1.12,73.03,0.64,8.77,0.00,0.00,1'])\n",
      "<class 'str'>\n",
      "(41, ['42,1.51755,12.71,3.42,1.20,73.20,0.59,8.64,0.00,0.00,1'])\n",
      "<class 'str'>\n",
      "(42, ['43,1.51779,13.21,3.39,1.33,72.76,0.59,8.59,0.00,0.00,1'])\n",
      "<class 'str'>\n",
      "(43, ['44,1.52210,13.73,3.84,0.72,71.76,0.17,9.74,0.00,0.00,1'])\n",
      "<class 'str'>\n",
      "(44, ['45,1.51786,12.73,3.43,1.19,72.95,0.62,8.76,0.00,0.30,1'])\n",
      "<class 'str'>\n",
      "(45, ['46,1.51900,13.49,3.48,1.35,71.95,0.55,9.00,0.00,0.00,1'])\n",
      "<class 'str'>\n",
      "(46, ['47,1.51869,13.19,3.37,1.18,72.72,0.57,8.83,0.00,0.16,1'])\n",
      "<class 'str'>\n",
      "(47, ['48,1.52667,13.99,3.70,0.71,71.57,0.02,9.82,0.00,0.10,1'])\n",
      "<class 'str'>\n",
      "(48, ['49,1.52223,13.21,3.77,0.79,71.99,0.13,10.02,0.00,0.00,1'])\n",
      "<class 'str'>\n",
      "(49, ['50,1.51898,13.58,3.35,1.23,72.08,0.59,8.91,0.00,0.00,1'])\n",
      "<class 'str'>\n",
      "(50, ['51,1.52320,13.72,3.72,0.51,71.75,0.09,10.06,0.00,0.16,1'])\n",
      "<class 'str'>\n",
      "(51, ['52,1.51926,13.20,3.33,1.28,72.36,0.60,9.14,0.00,0.11,1'])\n",
      "<class 'str'>\n",
      "(52, ['53,1.51808,13.43,2.87,1.19,72.84,0.55,9.03,0.00,0.00,1'])\n",
      "<class 'str'>\n",
      "(53, ['54,1.51837,13.14,2.84,1.28,72.85,0.55,9.07,0.00,0.00,1'])\n",
      "<class 'str'>\n",
      "(54, ['55,1.51778,13.21,2.81,1.29,72.98,0.51,9.02,0.00,0.09,1'])\n",
      "<class 'str'>\n",
      "(55, ['56,1.51769,12.45,2.71,1.29,73.70,0.56,9.06,0.00,0.24,1'])\n",
      "<class 'str'>\n",
      "(56, ['57,1.51215,12.99,3.47,1.12,72.98,0.62,8.35,0.00,0.31,1'])\n",
      "<class 'str'>\n",
      "(57, ['58,1.51824,12.87,3.48,1.29,72.95,0.60,8.43,0.00,0.00,1'])\n",
      "<class 'str'>\n",
      "(58, ['59,1.51754,13.48,3.74,1.17,72.99,0.59,8.03,0.00,0.00,1'])\n",
      "<class 'str'>\n",
      "(59, ['60,1.51754,13.39,3.66,1.19,72.79,0.57,8.27,0.00,0.11,1'])\n",
      "<class 'str'>\n",
      "(60, ['61,1.51905,13.60,3.62,1.11,72.64,0.14,8.76,0.00,0.00,1'])\n",
      "<class 'str'>\n",
      "(61, ['62,1.51977,13.81,3.58,1.32,71.72,0.12,8.67,0.69,0.00,1'])\n",
      "<class 'str'>\n",
      "(62, ['63,1.52172,13.51,3.86,0.88,71.79,0.23,9.54,0.00,0.11,1'])\n",
      "<class 'str'>\n",
      "(63, ['64,1.52227,14.17,3.81,0.78,71.35,0.00,9.69,0.00,0.00,1'])\n",
      "<class 'str'>\n",
      "(64, ['65,1.52172,13.48,3.74,0.90,72.01,0.18,9.61,0.00,0.07,1'])\n",
      "<class 'str'>\n",
      "(65, ['66,1.52099,13.69,3.59,1.12,71.96,0.09,9.40,0.00,0.00,1'])\n",
      "<class 'str'>\n",
      "(66, ['67,1.52152,13.05,3.65,0.87,72.22,0.19,9.85,0.00,0.17,1'])\n",
      "<class 'str'>\n",
      "(67, ['68,1.52152,13.05,3.65,0.87,72.32,0.19,9.85,0.00,0.17,1'])\n",
      "<class 'str'>\n",
      "(68, ['69,1.52152,13.12,3.58,0.90,72.20,0.23,9.82,0.00,0.16,1'])\n",
      "<class 'str'>\n",
      "(69, ['70,1.52300,13.31,3.58,0.82,71.99,0.12,10.17,0.00,0.03,1'])\n",
      "<class 'str'>\n",
      "(70, ['71,1.51574,14.86,3.67,1.74,71.87,0.16,7.36,0.00,0.12,2'])\n",
      "<class 'str'>\n",
      "(71, ['72,1.51848,13.64,3.87,1.27,71.96,0.54,8.32,0.00,0.32,2'])\n",
      "<class 'str'>\n",
      "(72, ['73,1.51593,13.09,3.59,1.52,73.10,0.67,7.83,0.00,0.00,2'])\n",
      "<class 'str'>\n",
      "(73, ['74,1.51631,13.34,3.57,1.57,72.87,0.61,7.89,0.00,0.00,2'])\n",
      "<class 'str'>\n",
      "(74, ['75,1.51596,13.02,3.56,1.54,73.11,0.72,7.90,0.00,0.00,2'])\n",
      "<class 'str'>\n",
      "(75, ['76,1.51590,13.02,3.58,1.51,73.12,0.69,7.96,0.00,0.00,2'])\n",
      "<class 'str'>\n",
      "(76, ['77,1.51645,13.44,3.61,1.54,72.39,0.66,8.03,0.00,0.00,2'])\n",
      "<class 'str'>\n",
      "(77, ['78,1.51627,13.00,3.58,1.54,72.83,0.61,8.04,0.00,0.00,2'])\n",
      "<class 'str'>\n",
      "(78, ['79,1.51613,13.92,3.52,1.25,72.88,0.37,7.94,0.00,0.14,2'])\n",
      "<class 'str'>\n",
      "(79, ['80,1.51590,12.82,3.52,1.90,72.86,0.69,7.97,0.00,0.00,2'])\n",
      "<class 'str'>\n",
      "(80, ['81,1.51592,12.86,3.52,2.12,72.66,0.69,7.97,0.00,0.00,2'])\n",
      "<class 'str'>\n",
      "(81, ['82,1.51593,13.25,3.45,1.43,73.17,0.61,7.86,0.00,0.00,2'])\n",
      "<class 'str'>\n",
      "(82, ['83,1.51646,13.41,3.55,1.25,72.81,0.68,8.10,0.00,0.00,2'])\n",
      "<class 'str'>\n",
      "(83, ['84,1.51594,13.09,3.52,1.55,72.87,0.68,8.05,0.00,0.09,2'])\n",
      "<class 'str'>\n",
      "(84, ['85,1.51409,14.25,3.09,2.08,72.28,1.10,7.08,0.00,0.00,2'])\n",
      "<class 'str'>\n",
      "(85, ['86,1.51625,13.36,3.58,1.49,72.72,0.45,8.21,0.00,0.00,2'])\n",
      "<class 'str'>\n",
      "(86, ['87,1.51569,13.24,3.49,1.47,73.25,0.38,8.03,0.00,0.00,2'])\n",
      "<class 'str'>\n",
      "(87, ['88,1.51645,13.40,3.49,1.52,72.65,0.67,8.08,0.00,0.10,2'])\n",
      "<class 'str'>\n",
      "(88, ['89,1.51618,13.01,3.50,1.48,72.89,0.60,8.12,0.00,0.00,2'])\n",
      "<class 'str'>\n",
      "(89, ['90,1.51640,12.55,3.48,1.87,73.23,0.63,8.08,0.00,0.09,2'])\n",
      "<class 'str'>\n",
      "(90, ['91,1.51841,12.93,3.74,1.11,72.28,0.64,8.96,0.00,0.22,2'])\n",
      "<class 'str'>\n",
      "(91, ['92,1.51605,12.90,3.44,1.45,73.06,0.44,8.27,0.00,0.00,2'])\n",
      "<class 'str'>\n",
      "(92, ['93,1.51588,13.12,3.41,1.58,73.26,0.07,8.39,0.00,0.19,2'])\n",
      "<class 'str'>\n",
      "(93, ['94,1.51590,13.24,3.34,1.47,73.10,0.39,8.22,0.00,0.00,2'])\n",
      "<class 'str'>\n",
      "(94, ['95,1.51629,12.71,3.33,1.49,73.28,0.67,8.24,0.00,0.00,2'])\n",
      "<class 'str'>\n",
      "(95, ['96,1.51860,13.36,3.43,1.43,72.26,0.51,8.60,0.00,0.00,2'])\n",
      "<class 'str'>\n",
      "(96, ['97,1.51841,13.02,3.62,1.06,72.34,0.64,9.13,0.00,0.15,2'])\n",
      "<class 'str'>\n",
      "(97, ['98,1.51743,12.20,3.25,1.16,73.55,0.62,8.90,0.00,0.24,2'])\n",
      "<class 'str'>\n",
      "(98, ['99,1.51689,12.67,2.88,1.71,73.21,0.73,8.54,0.00,0.00,2'])\n",
      "<class 'str'>\n",
      "(99, ['100,1.51811,12.96,2.96,1.43,72.92,0.60,8.79,0.14,0.00,2'])\n",
      "<class 'str'>\n",
      "(100, ['101,1.51655,12.75,2.85,1.44,73.27,0.57,8.79,0.11,0.22,2'])\n",
      "<class 'str'>\n",
      "(101, ['102,1.51730,12.35,2.72,1.63,72.87,0.70,9.23,0.00,0.00,2'])\n",
      "<class 'str'>\n",
      "(102, ['103,1.51820,12.62,2.76,0.83,73.81,0.35,9.42,0.00,0.20,2'])\n",
      "<class 'str'>\n",
      "(103, ['104,1.52725,13.80,3.15,0.66,70.57,0.08,11.64,0.00,0.00,2'])\n",
      "<class 'str'>\n",
      "(104, ['105,1.52410,13.83,2.90,1.17,71.15,0.08,10.79,0.00,0.00,2'])\n",
      "<class 'str'>\n",
      "(105, ['106,1.52475,11.45,0.00,1.88,72.19,0.81,13.24,0.00,0.34,2'])\n",
      "<class 'str'>\n",
      "(106, ['107,1.53125,10.73,0.00,2.10,69.81,0.58,13.30,3.15,0.28,2'])\n",
      "<class 'str'>\n",
      "(107, ['108,1.53393,12.30,0.00,1.00,70.16,0.12,16.19,0.00,0.24,2'])\n",
      "<class 'str'>\n",
      "(108, ['109,1.52222,14.43,0.00,1.00,72.67,0.10,11.52,0.00,0.08,2'])\n",
      "<class 'str'>\n",
      "(109, ['110,1.51818,13.72,0.00,0.56,74.45,0.00,10.99,0.00,0.00,2'])\n",
      "<class 'str'>\n",
      "(110, ['111,1.52664,11.23,0.00,0.77,73.21,0.00,14.68,0.00,0.00,2'])\n",
      "<class 'str'>\n",
      "(111, ['112,1.52739,11.02,0.00,0.75,73.08,0.00,14.96,0.00,0.00,2'])\n",
      "<class 'str'>\n",
      "(112, ['113,1.52777,12.64,0.00,0.67,72.02,0.06,14.40,0.00,0.00,2'])\n",
      "<class 'str'>\n",
      "(113, ['114,1.51892,13.46,3.83,1.26,72.55,0.57,8.21,0.00,0.14,2'])\n",
      "<class 'str'>\n",
      "(114, ['115,1.51847,13.10,3.97,1.19,72.44,0.60,8.43,0.00,0.00,2'])\n",
      "<class 'str'>\n",
      "(115, ['116,1.51846,13.41,3.89,1.33,72.38,0.51,8.28,0.00,0.00,2'])\n",
      "<class 'str'>\n",
      "(116, ['117,1.51829,13.24,3.90,1.41,72.33,0.55,8.31,0.00,0.10,2'])\n",
      "<class 'str'>\n",
      "(117, ['118,1.51708,13.72,3.68,1.81,72.06,0.64,7.88,0.00,0.00,2'])\n",
      "<class 'str'>\n",
      "(118, ['119,1.51673,13.30,3.64,1.53,72.53,0.65,8.03,0.00,0.29,2'])\n",
      "<class 'str'>\n",
      "(119, ['120,1.51652,13.56,3.57,1.47,72.45,0.64,7.96,0.00,0.00,2'])\n",
      "<class 'str'>\n",
      "(120, ['121,1.51844,13.25,3.76,1.32,72.40,0.58,8.42,0.00,0.00,2'])\n",
      "<class 'str'>\n",
      "(121, ['122,1.51663,12.93,3.54,1.62,72.96,0.64,8.03,0.00,0.21,2'])\n",
      "<class 'str'>\n",
      "(122, ['123,1.51687,13.23,3.54,1.48,72.84,0.56,8.10,0.00,0.00,2'])\n",
      "<class 'str'>\n",
      "(123, ['124,1.51707,13.48,3.48,1.71,72.52,0.62,7.99,0.00,0.00,2'])\n",
      "<class 'str'>\n",
      "(124, ['125,1.52177,13.20,3.68,1.15,72.75,0.54,8.52,0.00,0.00,2'])\n",
      "<class 'str'>\n",
      "(125, ['126,1.51872,12.93,3.66,1.56,72.51,0.58,8.55,0.00,0.12,2'])\n",
      "<class 'str'>\n",
      "(126, ['127,1.51667,12.94,3.61,1.26,72.75,0.56,8.60,0.00,0.00,2'])\n",
      "<class 'str'>\n",
      "(127, ['128,1.52081,13.78,2.28,1.43,71.99,0.49,9.85,0.00,0.17,2'])\n",
      "<class 'str'>\n",
      "(128, ['129,1.52068,13.55,2.09,1.67,72.18,0.53,9.57,0.27,0.17,2'])\n",
      "<class 'str'>\n",
      "(129, ['130,1.52020,13.98,1.35,1.63,71.76,0.39,10.56,0.00,0.18,2'])\n",
      "<class 'str'>\n",
      "(130, ['131,1.52177,13.75,1.01,1.36,72.19,0.33,11.14,0.00,0.00,2'])\n",
      "<class 'str'>\n",
      "(131, ['132,1.52614,13.70,0.00,1.36,71.24,0.19,13.44,0.00,0.10,2'])\n",
      "<class 'str'>\n",
      "(132, ['133,1.51813,13.43,3.98,1.18,72.49,0.58,8.15,0.00,0.00,2'])\n",
      "<class 'str'>\n",
      "(133, ['134,1.51800,13.71,3.93,1.54,71.81,0.54,8.21,0.00,0.15,2'])\n",
      "<class 'str'>\n",
      "(134, ['135,1.51811,13.33,3.85,1.25,72.78,0.52,8.12,0.00,0.00,2'])\n",
      "<class 'str'>\n",
      "(135, ['136,1.51789,13.19,3.90,1.30,72.33,0.55,8.44,0.00,0.28,2'])\n",
      "<class 'str'>\n",
      "(136, ['137,1.51806,13.00,3.80,1.08,73.07,0.56,8.38,0.00,0.12,2'])\n",
      "<class 'str'>\n",
      "(137, ['138,1.51711,12.89,3.62,1.57,72.96,0.61,8.11,0.00,0.00,2'])\n",
      "<class 'str'>\n",
      "(138, ['139,1.51674,12.79,3.52,1.54,73.36,0.66,7.90,0.00,0.00,2'])\n",
      "<class 'str'>\n",
      "(139, ['140,1.51674,12.87,3.56,1.64,73.14,0.65,7.99,0.00,0.00,2'])\n",
      "<class 'str'>\n",
      "(140, ['141,1.51690,13.33,3.54,1.61,72.54,0.68,8.11,0.00,0.00,2'])\n",
      "<class 'str'>\n",
      "(141, ['142,1.51851,13.20,3.63,1.07,72.83,0.57,8.41,0.09,0.17,2'])\n",
      "<class 'str'>\n",
      "(142, ['143,1.51662,12.85,3.51,1.44,73.01,0.68,8.23,0.06,0.25,2'])\n",
      "<class 'str'>\n",
      "(143, ['144,1.51709,13.00,3.47,1.79,72.72,0.66,8.18,0.00,0.00,2'])\n",
      "<class 'str'>\n",
      "(144, ['145,1.51660,12.99,3.18,1.23,72.97,0.58,8.81,0.00,0.24,2'])\n",
      "<class 'str'>\n",
      "(145, ['146,1.51839,12.85,3.67,1.24,72.57,0.62,8.68,0.00,0.35,2'])\n",
      "<class 'str'>\n",
      "(146, ['147,1.51769,13.65,3.66,1.11,72.77,0.11,8.60,0.00,0.00,3'])\n",
      "<class 'str'>\n",
      "(147, ['148,1.51610,13.33,3.53,1.34,72.67,0.56,8.33,0.00,0.00,3'])\n",
      "<class 'str'>\n",
      "(148, ['149,1.51670,13.24,3.57,1.38,72.70,0.56,8.44,0.00,0.10,3'])\n",
      "<class 'str'>\n",
      "(149, ['150,1.51643,12.16,3.52,1.35,72.89,0.57,8.53,0.00,0.00,3'])\n",
      "<class 'str'>\n",
      "(150, ['151,1.51665,13.14,3.45,1.76,72.48,0.60,8.38,0.00,0.17,3'])\n",
      "<class 'str'>\n",
      "(151, ['152,1.52127,14.32,3.90,0.83,71.50,0.00,9.49,0.00,0.00,3'])\n",
      "<class 'str'>\n",
      "(152, ['153,1.51779,13.64,3.65,0.65,73.00,0.06,8.93,0.00,0.00,3'])\n",
      "<class 'str'>\n",
      "(153, ['154,1.51610,13.42,3.40,1.22,72.69,0.59,8.32,0.00,0.00,3'])\n",
      "<class 'str'>\n",
      "(154, ['155,1.51694,12.86,3.58,1.31,72.61,0.61,8.79,0.00,0.00,3'])\n",
      "<class 'str'>\n",
      "(155, ['156,1.51646,13.04,3.40,1.26,73.01,0.52,8.58,0.00,0.00,3'])\n",
      "<class 'str'>\n",
      "(156, ['157,1.51655,13.41,3.39,1.28,72.64,0.52,8.65,0.00,0.00,3'])\n",
      "<class 'str'>\n",
      "(157, ['158,1.52121,14.03,3.76,0.58,71.79,0.11,9.65,0.00,0.00,3'])\n",
      "<class 'str'>\n",
      "(158, ['159,1.51776,13.53,3.41,1.52,72.04,0.58,8.79,0.00,0.00,3'])\n",
      "<class 'str'>\n",
      "(159, ['160,1.51796,13.50,3.36,1.63,71.94,0.57,8.81,0.00,0.09,3'])\n",
      "<class 'str'>\n",
      "(160, ['161,1.51832,13.33,3.34,1.54,72.14,0.56,8.99,0.00,0.00,3'])\n",
      "<class 'str'>\n",
      "(161, ['162,1.51934,13.64,3.54,0.75,72.65,0.16,8.89,0.15,0.24,3'])\n",
      "<class 'str'>\n",
      "(162, ['163,1.52211,14.19,3.78,0.91,71.36,0.23,9.14,0.00,0.37,3'])\n",
      "<class 'str'>\n",
      "(163, ['164,1.51514,14.01,2.68,3.50,69.89,1.68,5.87,2.20,0.00,5'])\n",
      "<class 'str'>\n",
      "(164, ['165,1.51915,12.73,1.85,1.86,72.69,0.60,10.09,0.00,0.00,5'])\n",
      "<class 'str'>\n",
      "(165, ['166,1.52171,11.56,1.88,1.56,72.86,0.47,11.41,0.00,0.00,5'])\n",
      "<class 'str'>\n",
      "(166, ['167,1.52151,11.03,1.71,1.56,73.44,0.58,11.62,0.00,0.00,5'])\n",
      "<class 'str'>\n",
      "(167, ['168,1.51969,12.64,0.00,1.65,73.75,0.38,11.53,0.00,0.00,5'])\n",
      "<class 'str'>\n",
      "(168, ['169,1.51666,12.86,0.00,1.83,73.88,0.97,10.17,0.00,0.00,5'])\n",
      "<class 'str'>\n",
      "(169, ['170,1.51994,13.27,0.00,1.76,73.03,0.47,11.32,0.00,0.00,5'])\n",
      "<class 'str'>\n",
      "(170, ['171,1.52369,13.44,0.00,1.58,72.22,0.32,12.24,0.00,0.00,5'])\n",
      "<class 'str'>\n",
      "(171, ['172,1.51316,13.02,0.00,3.04,70.48,6.21,6.96,0.00,0.00,5'])\n",
      "<class 'str'>\n",
      "(172, ['173,1.51321,13.00,0.00,3.02,70.70,6.21,6.93,0.00,0.00,5'])\n",
      "<class 'str'>\n",
      "(173, ['174,1.52043,13.38,0.00,1.40,72.25,0.33,12.50,0.00,0.00,5'])\n",
      "<class 'str'>\n",
      "(174, ['175,1.52058,12.85,1.61,2.17,72.18,0.76,9.70,0.24,0.51,5'])\n",
      "<class 'str'>\n",
      "(175, ['176,1.52119,12.97,0.33,1.51,73.39,0.13,11.27,0.00,0.28,5'])\n",
      "<class 'str'>\n",
      "(176, ['177,1.51905,14.00,2.39,1.56,72.37,0.00,9.57,0.00,0.00,6'])\n",
      "<class 'str'>\n",
      "(177, ['178,1.51937,13.79,2.41,1.19,72.76,0.00,9.77,0.00,0.00,6'])\n",
      "<class 'str'>\n",
      "(178, ['179,1.51829,14.46,2.24,1.62,72.38,0.00,9.26,0.00,0.00,6'])\n",
      "<class 'str'>\n",
      "(179, ['180,1.51852,14.09,2.19,1.66,72.67,0.00,9.32,0.00,0.00,6'])\n",
      "<class 'str'>\n",
      "(180, ['181,1.51299,14.40,1.74,1.54,74.55,0.00,7.59,0.00,0.00,6'])\n",
      "<class 'str'>\n",
      "(181, ['182,1.51888,14.99,0.78,1.74,72.50,0.00,9.95,0.00,0.00,6'])\n",
      "<class 'str'>\n",
      "(182, ['183,1.51916,14.15,0.00,2.09,72.74,0.00,10.88,0.00,0.00,6'])\n",
      "<class 'str'>\n",
      "(183, ['184,1.51969,14.56,0.00,0.56,73.48,0.00,11.22,0.00,0.00,6'])\n",
      "<class 'str'>\n",
      "(184, ['185,1.51115,17.38,0.00,0.34,75.41,0.00,6.65,0.00,0.00,6'])\n",
      "<class 'str'>\n",
      "(185, ['186,1.51131,13.69,3.20,1.81,72.81,1.76,5.43,1.19,0.00,7'])\n",
      "<class 'str'>\n",
      "(186, ['187,1.51838,14.32,3.26,2.22,71.25,1.46,5.79,1.63,0.00,7'])\n",
      "<class 'str'>\n",
      "(187, ['188,1.52315,13.44,3.34,1.23,72.38,0.60,8.83,0.00,0.00,7'])\n",
      "<class 'str'>\n",
      "(188, ['189,1.52247,14.86,2.20,2.06,70.26,0.76,9.76,0.00,0.00,7'])\n",
      "<class 'str'>\n",
      "(189, ['190,1.52365,15.79,1.83,1.31,70.43,0.31,8.61,1.68,0.00,7'])\n",
      "<class 'str'>\n",
      "(190, ['191,1.51613,13.88,1.78,1.79,73.10,0.00,8.67,0.76,0.00,7'])\n",
      "<class 'str'>\n",
      "(191, ['192,1.51602,14.85,0.00,2.38,73.28,0.00,8.76,0.64,0.09,7'])\n",
      "<class 'str'>\n",
      "(192, ['193,1.51623,14.20,0.00,2.79,73.46,0.04,9.04,0.40,0.09,7'])\n",
      "<class 'str'>\n",
      "(193, ['194,1.51719,14.75,0.00,2.00,73.02,0.00,8.53,1.59,0.08,7'])\n",
      "<class 'str'>\n",
      "(194, ['195,1.51683,14.56,0.00,1.98,73.29,0.00,8.52,1.57,0.07,7'])\n",
      "<class 'str'>\n",
      "(195, ['196,1.51545,14.14,0.00,2.68,73.39,0.08,9.07,0.61,0.05,7'])\n",
      "<class 'str'>\n",
      "(196, ['197,1.51556,13.87,0.00,2.54,73.23,0.14,9.41,0.81,0.01,7'])\n",
      "<class 'str'>\n",
      "(197, ['198,1.51727,14.70,0.00,2.34,73.28,0.00,8.95,0.66,0.00,7'])\n",
      "<class 'str'>\n",
      "(198, ['199,1.51531,14.38,0.00,2.66,73.10,0.04,9.08,0.64,0.00,7'])\n",
      "<class 'str'>\n",
      "(199, ['200,1.51609,15.01,0.00,2.51,73.05,0.05,8.83,0.53,0.00,7'])\n",
      "<class 'str'>\n",
      "(200, ['201,1.51508,15.15,0.00,2.25,73.50,0.00,8.34,0.63,0.00,7'])\n",
      "<class 'str'>\n",
      "(201, ['202,1.51653,11.95,0.00,1.19,75.18,2.70,8.93,0.00,0.00,7'])\n",
      "<class 'str'>\n",
      "(202, ['203,1.51514,14.85,0.00,2.42,73.72,0.00,8.39,0.56,0.00,7'])\n",
      "<class 'str'>\n",
      "(203, ['204,1.51658,14.80,0.00,1.99,73.11,0.00,8.28,1.71,0.00,7'])\n",
      "<class 'str'>\n",
      "(204, ['205,1.51617,14.95,0.00,2.27,73.30,0.00,8.71,0.67,0.00,7'])\n",
      "<class 'str'>\n",
      "(205, ['206,1.51732,14.95,0.00,1.80,72.99,0.00,8.61,1.55,0.00,7'])\n",
      "<class 'str'>\n",
      "(206, ['207,1.51645,14.94,0.00,1.87,73.11,0.00,8.67,1.38,0.00,7'])\n",
      "<class 'str'>\n",
      "(207, ['208,1.51831,14.39,0.00,1.82,72.86,1.41,6.47,2.88,0.00,7'])\n",
      "<class 'str'>\n",
      "(208, ['209,1.51640,14.37,0.00,2.74,72.85,0.00,9.45,0.54,0.00,7'])\n",
      "<class 'str'>\n",
      "(209, ['210,1.51623,14.14,0.00,2.88,72.61,0.08,9.18,1.06,0.00,7'])\n",
      "<class 'str'>\n",
      "(210, ['211,1.51685,14.92,0.00,1.99,73.06,0.00,8.40,1.59,0.00,7'])\n",
      "<class 'str'>\n",
      "(211, ['212,1.52065,14.36,0.00,2.02,73.42,0.00,8.44,1.64,0.00,7'])\n",
      "<class 'str'>\n",
      "(212, ['213,1.51651,14.38,0.00,1.94,73.61,0.00,8.48,1.57,0.00,7'])\n",
      "<class 'str'>\n",
      "(213, ['214,1.51711,14.23,0.00,2.08,73.36,0.00,8.62,1.67,0.00,7'])\n",
      "<class 'str'>\n",
      "all the data inserted\n"
     ]
    }
   ],
   "source": [
    "with open('glass.data') as data :\n",
    "    next(data)\n",
    "    data_csv = csv.reader(data, delimiter = \"\\n\")\n",
    "    print(data_csv)\n",
    "    for i in enumerate(data_csv): #enum gives the each line index\n",
    "        print(i)\n",
    "        for j in  i[1]:\n",
    "            print(type(j))\n",
    "            cur.execute('insert into akshay12345.glass values ({data})'.format(data = (j)))\n",
    "    print(\"all the data inserted\")\n",
    "mydb.commit()"
   ]
  },
  {
   "cell_type": "code",
   "execution_count": 137,
   "id": "f69b038d-3c2e-42a4-8f9a-93fe4d838359",
   "metadata": {},
   "outputs": [
    {
     "name": "stdout",
     "output_type": "stream",
     "text": [
      "<_csv.reader object at 0x000002BFE0623E20>\n",
      "<class 'str'>\n",
      "['1,1.52101,13.64,4.49,1.10,71.78,0.06,8.75,0.00,0.00,1']\n",
      "<class 'str'>\n",
      "['2,1.51761,13.89,3.60,1.36,72.73,0.48,7.83,0.00,0.00,1']\n",
      "<class 'str'>\n",
      "['3,1.51618,13.53,3.55,1.54,72.99,0.39,7.78,0.00,0.00,1']\n",
      "<class 'str'>\n",
      "['4,1.51766,13.21,3.69,1.29,72.61,0.57,8.22,0.00,0.00,1']\n",
      "<class 'str'>\n",
      "['5,1.51742,13.27,3.62,1.24,73.08,0.55,8.07,0.00,0.00,1']\n",
      "<class 'str'>\n",
      "['6,1.51596,12.79,3.61,1.62,72.97,0.64,8.07,0.00,0.26,1']\n",
      "<class 'str'>\n",
      "['7,1.51743,13.30,3.60,1.14,73.09,0.58,8.17,0.00,0.00,1']\n",
      "<class 'str'>\n",
      "['8,1.51756,13.15,3.61,1.05,73.24,0.57,8.24,0.00,0.00,1']\n",
      "<class 'str'>\n",
      "['9,1.51918,14.04,3.58,1.37,72.08,0.56,8.30,0.00,0.00,1']\n",
      "<class 'str'>\n",
      "['10,1.51755,13.00,3.60,1.36,72.99,0.57,8.40,0.00,0.11,1']\n",
      "<class 'str'>\n",
      "['11,1.51571,12.72,3.46,1.56,73.20,0.67,8.09,0.00,0.24,1']\n",
      "<class 'str'>\n",
      "['12,1.51763,12.80,3.66,1.27,73.01,0.60,8.56,0.00,0.00,1']\n",
      "<class 'str'>\n",
      "['13,1.51589,12.88,3.43,1.40,73.28,0.69,8.05,0.00,0.24,1']\n",
      "<class 'str'>\n",
      "['14,1.51748,12.86,3.56,1.27,73.21,0.54,8.38,0.00,0.17,1']\n",
      "<class 'str'>\n",
      "['15,1.51763,12.61,3.59,1.31,73.29,0.58,8.50,0.00,0.00,1']\n",
      "<class 'str'>\n",
      "['16,1.51761,12.81,3.54,1.23,73.24,0.58,8.39,0.00,0.00,1']\n",
      "<class 'str'>\n",
      "['17,1.51784,12.68,3.67,1.16,73.11,0.61,8.70,0.00,0.00,1']\n",
      "<class 'str'>\n",
      "['18,1.52196,14.36,3.85,0.89,71.36,0.15,9.15,0.00,0.00,1']\n",
      "<class 'str'>\n",
      "['19,1.51911,13.90,3.73,1.18,72.12,0.06,8.89,0.00,0.00,1']\n",
      "<class 'str'>\n",
      "['20,1.51735,13.02,3.54,1.69,72.73,0.54,8.44,0.00,0.07,1']\n",
      "<class 'str'>\n",
      "['21,1.51750,12.82,3.55,1.49,72.75,0.54,8.52,0.00,0.19,1']\n",
      "<class 'str'>\n",
      "['22,1.51966,14.77,3.75,0.29,72.02,0.03,9.00,0.00,0.00,1']\n",
      "<class 'str'>\n",
      "['23,1.51736,12.78,3.62,1.29,72.79,0.59,8.70,0.00,0.00,1']\n",
      "<class 'str'>\n",
      "['24,1.51751,12.81,3.57,1.35,73.02,0.62,8.59,0.00,0.00,1']\n",
      "<class 'str'>\n",
      "['25,1.51720,13.38,3.50,1.15,72.85,0.50,8.43,0.00,0.00,1']\n",
      "<class 'str'>\n",
      "['26,1.51764,12.98,3.54,1.21,73.00,0.65,8.53,0.00,0.00,1']\n",
      "<class 'str'>\n",
      "['27,1.51793,13.21,3.48,1.41,72.64,0.59,8.43,0.00,0.00,1']\n",
      "<class 'str'>\n",
      "['28,1.51721,12.87,3.48,1.33,73.04,0.56,8.43,0.00,0.00,1']\n",
      "<class 'str'>\n",
      "['29,1.51768,12.56,3.52,1.43,73.15,0.57,8.54,0.00,0.00,1']\n",
      "<class 'str'>\n",
      "['30,1.51784,13.08,3.49,1.28,72.86,0.60,8.49,0.00,0.00,1']\n",
      "<class 'str'>\n",
      "['31,1.51768,12.65,3.56,1.30,73.08,0.61,8.69,0.00,0.14,1']\n",
      "<class 'str'>\n",
      "['32,1.51747,12.84,3.50,1.14,73.27,0.56,8.55,0.00,0.00,1']\n",
      "<class 'str'>\n",
      "['33,1.51775,12.85,3.48,1.23,72.97,0.61,8.56,0.09,0.22,1']\n",
      "<class 'str'>\n",
      "['34,1.51753,12.57,3.47,1.38,73.39,0.60,8.55,0.00,0.06,1']\n",
      "<class 'str'>\n",
      "['35,1.51783,12.69,3.54,1.34,72.95,0.57,8.75,0.00,0.00,1']\n",
      "<class 'str'>\n",
      "['36,1.51567,13.29,3.45,1.21,72.74,0.56,8.57,0.00,0.00,1']\n",
      "<class 'str'>\n",
      "['37,1.51909,13.89,3.53,1.32,71.81,0.51,8.78,0.11,0.00,1']\n",
      "<class 'str'>\n",
      "['38,1.51797,12.74,3.48,1.35,72.96,0.64,8.68,0.00,0.00,1']\n",
      "<class 'str'>\n",
      "['39,1.52213,14.21,3.82,0.47,71.77,0.11,9.57,0.00,0.00,1']\n",
      "<class 'str'>\n",
      "['40,1.52213,14.21,3.82,0.47,71.77,0.11,9.57,0.00,0.00,1']\n",
      "<class 'str'>\n",
      "['41,1.51793,12.79,3.50,1.12,73.03,0.64,8.77,0.00,0.00,1']\n",
      "<class 'str'>\n",
      "['42,1.51755,12.71,3.42,1.20,73.20,0.59,8.64,0.00,0.00,1']\n",
      "<class 'str'>\n",
      "['43,1.51779,13.21,3.39,1.33,72.76,0.59,8.59,0.00,0.00,1']\n",
      "<class 'str'>\n",
      "['44,1.52210,13.73,3.84,0.72,71.76,0.17,9.74,0.00,0.00,1']\n",
      "<class 'str'>\n",
      "['45,1.51786,12.73,3.43,1.19,72.95,0.62,8.76,0.00,0.30,1']\n",
      "<class 'str'>\n",
      "['46,1.51900,13.49,3.48,1.35,71.95,0.55,9.00,0.00,0.00,1']\n",
      "<class 'str'>\n",
      "['47,1.51869,13.19,3.37,1.18,72.72,0.57,8.83,0.00,0.16,1']\n",
      "<class 'str'>\n",
      "['48,1.52667,13.99,3.70,0.71,71.57,0.02,9.82,0.00,0.10,1']\n",
      "<class 'str'>\n",
      "['49,1.52223,13.21,3.77,0.79,71.99,0.13,10.02,0.00,0.00,1']\n",
      "<class 'str'>\n",
      "['50,1.51898,13.58,3.35,1.23,72.08,0.59,8.91,0.00,0.00,1']\n",
      "<class 'str'>\n",
      "['51,1.52320,13.72,3.72,0.51,71.75,0.09,10.06,0.00,0.16,1']\n",
      "<class 'str'>\n",
      "['52,1.51926,13.20,3.33,1.28,72.36,0.60,9.14,0.00,0.11,1']\n",
      "<class 'str'>\n",
      "['53,1.51808,13.43,2.87,1.19,72.84,0.55,9.03,0.00,0.00,1']\n",
      "<class 'str'>\n",
      "['54,1.51837,13.14,2.84,1.28,72.85,0.55,9.07,0.00,0.00,1']\n",
      "<class 'str'>\n",
      "['55,1.51778,13.21,2.81,1.29,72.98,0.51,9.02,0.00,0.09,1']\n",
      "<class 'str'>\n",
      "['56,1.51769,12.45,2.71,1.29,73.70,0.56,9.06,0.00,0.24,1']\n",
      "<class 'str'>\n",
      "['57,1.51215,12.99,3.47,1.12,72.98,0.62,8.35,0.00,0.31,1']\n",
      "<class 'str'>\n",
      "['58,1.51824,12.87,3.48,1.29,72.95,0.60,8.43,0.00,0.00,1']\n",
      "<class 'str'>\n",
      "['59,1.51754,13.48,3.74,1.17,72.99,0.59,8.03,0.00,0.00,1']\n",
      "<class 'str'>\n",
      "['60,1.51754,13.39,3.66,1.19,72.79,0.57,8.27,0.00,0.11,1']\n",
      "<class 'str'>\n",
      "['61,1.51905,13.60,3.62,1.11,72.64,0.14,8.76,0.00,0.00,1']\n",
      "<class 'str'>\n",
      "['62,1.51977,13.81,3.58,1.32,71.72,0.12,8.67,0.69,0.00,1']\n",
      "<class 'str'>\n",
      "['63,1.52172,13.51,3.86,0.88,71.79,0.23,9.54,0.00,0.11,1']\n",
      "<class 'str'>\n",
      "['64,1.52227,14.17,3.81,0.78,71.35,0.00,9.69,0.00,0.00,1']\n",
      "<class 'str'>\n",
      "['65,1.52172,13.48,3.74,0.90,72.01,0.18,9.61,0.00,0.07,1']\n",
      "<class 'str'>\n",
      "['66,1.52099,13.69,3.59,1.12,71.96,0.09,9.40,0.00,0.00,1']\n",
      "<class 'str'>\n",
      "['67,1.52152,13.05,3.65,0.87,72.22,0.19,9.85,0.00,0.17,1']\n",
      "<class 'str'>\n",
      "['68,1.52152,13.05,3.65,0.87,72.32,0.19,9.85,0.00,0.17,1']\n",
      "<class 'str'>\n",
      "['69,1.52152,13.12,3.58,0.90,72.20,0.23,9.82,0.00,0.16,1']\n",
      "<class 'str'>\n",
      "['70,1.52300,13.31,3.58,0.82,71.99,0.12,10.17,0.00,0.03,1']\n",
      "<class 'str'>\n",
      "['71,1.51574,14.86,3.67,1.74,71.87,0.16,7.36,0.00,0.12,2']\n",
      "<class 'str'>\n",
      "['72,1.51848,13.64,3.87,1.27,71.96,0.54,8.32,0.00,0.32,2']\n",
      "<class 'str'>\n",
      "['73,1.51593,13.09,3.59,1.52,73.10,0.67,7.83,0.00,0.00,2']\n",
      "<class 'str'>\n",
      "['74,1.51631,13.34,3.57,1.57,72.87,0.61,7.89,0.00,0.00,2']\n",
      "<class 'str'>\n",
      "['75,1.51596,13.02,3.56,1.54,73.11,0.72,7.90,0.00,0.00,2']\n",
      "<class 'str'>\n",
      "['76,1.51590,13.02,3.58,1.51,73.12,0.69,7.96,0.00,0.00,2']\n",
      "<class 'str'>\n",
      "['77,1.51645,13.44,3.61,1.54,72.39,0.66,8.03,0.00,0.00,2']\n",
      "<class 'str'>\n",
      "['78,1.51627,13.00,3.58,1.54,72.83,0.61,8.04,0.00,0.00,2']\n",
      "<class 'str'>\n",
      "['79,1.51613,13.92,3.52,1.25,72.88,0.37,7.94,0.00,0.14,2']\n",
      "<class 'str'>\n",
      "['80,1.51590,12.82,3.52,1.90,72.86,0.69,7.97,0.00,0.00,2']\n",
      "<class 'str'>\n",
      "['81,1.51592,12.86,3.52,2.12,72.66,0.69,7.97,0.00,0.00,2']\n",
      "<class 'str'>\n",
      "['82,1.51593,13.25,3.45,1.43,73.17,0.61,7.86,0.00,0.00,2']\n",
      "<class 'str'>\n",
      "['83,1.51646,13.41,3.55,1.25,72.81,0.68,8.10,0.00,0.00,2']\n",
      "<class 'str'>\n",
      "['84,1.51594,13.09,3.52,1.55,72.87,0.68,8.05,0.00,0.09,2']\n",
      "<class 'str'>\n",
      "['85,1.51409,14.25,3.09,2.08,72.28,1.10,7.08,0.00,0.00,2']\n",
      "<class 'str'>\n",
      "['86,1.51625,13.36,3.58,1.49,72.72,0.45,8.21,0.00,0.00,2']\n",
      "<class 'str'>\n",
      "['87,1.51569,13.24,3.49,1.47,73.25,0.38,8.03,0.00,0.00,2']\n",
      "<class 'str'>\n",
      "['88,1.51645,13.40,3.49,1.52,72.65,0.67,8.08,0.00,0.10,2']\n",
      "<class 'str'>\n",
      "['89,1.51618,13.01,3.50,1.48,72.89,0.60,8.12,0.00,0.00,2']\n",
      "<class 'str'>\n",
      "['90,1.51640,12.55,3.48,1.87,73.23,0.63,8.08,0.00,0.09,2']\n",
      "<class 'str'>\n",
      "['91,1.51841,12.93,3.74,1.11,72.28,0.64,8.96,0.00,0.22,2']\n",
      "<class 'str'>\n",
      "['92,1.51605,12.90,3.44,1.45,73.06,0.44,8.27,0.00,0.00,2']\n",
      "<class 'str'>\n",
      "['93,1.51588,13.12,3.41,1.58,73.26,0.07,8.39,0.00,0.19,2']\n",
      "<class 'str'>\n",
      "['94,1.51590,13.24,3.34,1.47,73.10,0.39,8.22,0.00,0.00,2']\n",
      "<class 'str'>\n",
      "['95,1.51629,12.71,3.33,1.49,73.28,0.67,8.24,0.00,0.00,2']\n",
      "<class 'str'>\n",
      "['96,1.51860,13.36,3.43,1.43,72.26,0.51,8.60,0.00,0.00,2']\n",
      "<class 'str'>\n",
      "['97,1.51841,13.02,3.62,1.06,72.34,0.64,9.13,0.00,0.15,2']\n",
      "<class 'str'>\n",
      "['98,1.51743,12.20,3.25,1.16,73.55,0.62,8.90,0.00,0.24,2']\n",
      "<class 'str'>\n",
      "['99,1.51689,12.67,2.88,1.71,73.21,0.73,8.54,0.00,0.00,2']\n",
      "<class 'str'>\n",
      "['100,1.51811,12.96,2.96,1.43,72.92,0.60,8.79,0.14,0.00,2']\n",
      "<class 'str'>\n",
      "['101,1.51655,12.75,2.85,1.44,73.27,0.57,8.79,0.11,0.22,2']\n",
      "<class 'str'>\n",
      "['102,1.51730,12.35,2.72,1.63,72.87,0.70,9.23,0.00,0.00,2']\n",
      "<class 'str'>\n",
      "['103,1.51820,12.62,2.76,0.83,73.81,0.35,9.42,0.00,0.20,2']\n",
      "<class 'str'>\n",
      "['104,1.52725,13.80,3.15,0.66,70.57,0.08,11.64,0.00,0.00,2']\n",
      "<class 'str'>\n",
      "['105,1.52410,13.83,2.90,1.17,71.15,0.08,10.79,0.00,0.00,2']\n",
      "<class 'str'>\n",
      "['106,1.52475,11.45,0.00,1.88,72.19,0.81,13.24,0.00,0.34,2']\n",
      "<class 'str'>\n",
      "['107,1.53125,10.73,0.00,2.10,69.81,0.58,13.30,3.15,0.28,2']\n",
      "<class 'str'>\n",
      "['108,1.53393,12.30,0.00,1.00,70.16,0.12,16.19,0.00,0.24,2']\n",
      "<class 'str'>\n",
      "['109,1.52222,14.43,0.00,1.00,72.67,0.10,11.52,0.00,0.08,2']\n",
      "<class 'str'>\n",
      "['110,1.51818,13.72,0.00,0.56,74.45,0.00,10.99,0.00,0.00,2']\n",
      "<class 'str'>\n",
      "['111,1.52664,11.23,0.00,0.77,73.21,0.00,14.68,0.00,0.00,2']\n",
      "<class 'str'>\n",
      "['112,1.52739,11.02,0.00,0.75,73.08,0.00,14.96,0.00,0.00,2']\n",
      "<class 'str'>\n",
      "['113,1.52777,12.64,0.00,0.67,72.02,0.06,14.40,0.00,0.00,2']\n",
      "<class 'str'>\n",
      "['114,1.51892,13.46,3.83,1.26,72.55,0.57,8.21,0.00,0.14,2']\n",
      "<class 'str'>\n",
      "['115,1.51847,13.10,3.97,1.19,72.44,0.60,8.43,0.00,0.00,2']\n",
      "<class 'str'>\n",
      "['116,1.51846,13.41,3.89,1.33,72.38,0.51,8.28,0.00,0.00,2']\n",
      "<class 'str'>\n",
      "['117,1.51829,13.24,3.90,1.41,72.33,0.55,8.31,0.00,0.10,2']\n",
      "<class 'str'>\n",
      "['118,1.51708,13.72,3.68,1.81,72.06,0.64,7.88,0.00,0.00,2']\n",
      "<class 'str'>\n",
      "['119,1.51673,13.30,3.64,1.53,72.53,0.65,8.03,0.00,0.29,2']\n",
      "<class 'str'>\n",
      "['120,1.51652,13.56,3.57,1.47,72.45,0.64,7.96,0.00,0.00,2']\n",
      "<class 'str'>\n",
      "['121,1.51844,13.25,3.76,1.32,72.40,0.58,8.42,0.00,0.00,2']\n",
      "<class 'str'>\n",
      "['122,1.51663,12.93,3.54,1.62,72.96,0.64,8.03,0.00,0.21,2']\n",
      "<class 'str'>\n",
      "['123,1.51687,13.23,3.54,1.48,72.84,0.56,8.10,0.00,0.00,2']\n",
      "<class 'str'>\n",
      "['124,1.51707,13.48,3.48,1.71,72.52,0.62,7.99,0.00,0.00,2']\n",
      "<class 'str'>\n",
      "['125,1.52177,13.20,3.68,1.15,72.75,0.54,8.52,0.00,0.00,2']\n",
      "<class 'str'>\n",
      "['126,1.51872,12.93,3.66,1.56,72.51,0.58,8.55,0.00,0.12,2']\n",
      "<class 'str'>\n",
      "['127,1.51667,12.94,3.61,1.26,72.75,0.56,8.60,0.00,0.00,2']\n",
      "<class 'str'>\n",
      "['128,1.52081,13.78,2.28,1.43,71.99,0.49,9.85,0.00,0.17,2']\n",
      "<class 'str'>\n",
      "['129,1.52068,13.55,2.09,1.67,72.18,0.53,9.57,0.27,0.17,2']\n",
      "<class 'str'>\n",
      "['130,1.52020,13.98,1.35,1.63,71.76,0.39,10.56,0.00,0.18,2']\n",
      "<class 'str'>\n",
      "['131,1.52177,13.75,1.01,1.36,72.19,0.33,11.14,0.00,0.00,2']\n",
      "<class 'str'>\n",
      "['132,1.52614,13.70,0.00,1.36,71.24,0.19,13.44,0.00,0.10,2']\n",
      "<class 'str'>\n",
      "['133,1.51813,13.43,3.98,1.18,72.49,0.58,8.15,0.00,0.00,2']\n",
      "<class 'str'>\n",
      "['134,1.51800,13.71,3.93,1.54,71.81,0.54,8.21,0.00,0.15,2']\n",
      "<class 'str'>\n",
      "['135,1.51811,13.33,3.85,1.25,72.78,0.52,8.12,0.00,0.00,2']\n",
      "<class 'str'>\n",
      "['136,1.51789,13.19,3.90,1.30,72.33,0.55,8.44,0.00,0.28,2']\n",
      "<class 'str'>\n",
      "['137,1.51806,13.00,3.80,1.08,73.07,0.56,8.38,0.00,0.12,2']\n",
      "<class 'str'>\n",
      "['138,1.51711,12.89,3.62,1.57,72.96,0.61,8.11,0.00,0.00,2']\n",
      "<class 'str'>\n",
      "['139,1.51674,12.79,3.52,1.54,73.36,0.66,7.90,0.00,0.00,2']\n",
      "<class 'str'>\n",
      "['140,1.51674,12.87,3.56,1.64,73.14,0.65,7.99,0.00,0.00,2']\n",
      "<class 'str'>\n",
      "['141,1.51690,13.33,3.54,1.61,72.54,0.68,8.11,0.00,0.00,2']\n",
      "<class 'str'>\n",
      "['142,1.51851,13.20,3.63,1.07,72.83,0.57,8.41,0.09,0.17,2']\n",
      "<class 'str'>\n",
      "['143,1.51662,12.85,3.51,1.44,73.01,0.68,8.23,0.06,0.25,2']\n",
      "<class 'str'>\n",
      "['144,1.51709,13.00,3.47,1.79,72.72,0.66,8.18,0.00,0.00,2']\n",
      "<class 'str'>\n",
      "['145,1.51660,12.99,3.18,1.23,72.97,0.58,8.81,0.00,0.24,2']\n",
      "<class 'str'>\n",
      "['146,1.51839,12.85,3.67,1.24,72.57,0.62,8.68,0.00,0.35,2']\n",
      "<class 'str'>\n",
      "['147,1.51769,13.65,3.66,1.11,72.77,0.11,8.60,0.00,0.00,3']\n",
      "<class 'str'>\n",
      "['148,1.51610,13.33,3.53,1.34,72.67,0.56,8.33,0.00,0.00,3']\n",
      "<class 'str'>\n",
      "['149,1.51670,13.24,3.57,1.38,72.70,0.56,8.44,0.00,0.10,3']\n",
      "<class 'str'>\n",
      "['150,1.51643,12.16,3.52,1.35,72.89,0.57,8.53,0.00,0.00,3']\n",
      "<class 'str'>\n",
      "['151,1.51665,13.14,3.45,1.76,72.48,0.60,8.38,0.00,0.17,3']\n",
      "<class 'str'>\n",
      "['152,1.52127,14.32,3.90,0.83,71.50,0.00,9.49,0.00,0.00,3']\n",
      "<class 'str'>\n",
      "['153,1.51779,13.64,3.65,0.65,73.00,0.06,8.93,0.00,0.00,3']\n",
      "<class 'str'>\n",
      "['154,1.51610,13.42,3.40,1.22,72.69,0.59,8.32,0.00,0.00,3']\n",
      "<class 'str'>\n",
      "['155,1.51694,12.86,3.58,1.31,72.61,0.61,8.79,0.00,0.00,3']\n",
      "<class 'str'>\n",
      "['156,1.51646,13.04,3.40,1.26,73.01,0.52,8.58,0.00,0.00,3']\n",
      "<class 'str'>\n",
      "['157,1.51655,13.41,3.39,1.28,72.64,0.52,8.65,0.00,0.00,3']\n",
      "<class 'str'>\n",
      "['158,1.52121,14.03,3.76,0.58,71.79,0.11,9.65,0.00,0.00,3']\n",
      "<class 'str'>\n",
      "['159,1.51776,13.53,3.41,1.52,72.04,0.58,8.79,0.00,0.00,3']\n",
      "<class 'str'>\n",
      "['160,1.51796,13.50,3.36,1.63,71.94,0.57,8.81,0.00,0.09,3']\n",
      "<class 'str'>\n",
      "['161,1.51832,13.33,3.34,1.54,72.14,0.56,8.99,0.00,0.00,3']\n",
      "<class 'str'>\n",
      "['162,1.51934,13.64,3.54,0.75,72.65,0.16,8.89,0.15,0.24,3']\n",
      "<class 'str'>\n",
      "['163,1.52211,14.19,3.78,0.91,71.36,0.23,9.14,0.00,0.37,3']\n",
      "<class 'str'>\n",
      "['164,1.51514,14.01,2.68,3.50,69.89,1.68,5.87,2.20,0.00,5']\n",
      "<class 'str'>\n",
      "['165,1.51915,12.73,1.85,1.86,72.69,0.60,10.09,0.00,0.00,5']\n",
      "<class 'str'>\n",
      "['166,1.52171,11.56,1.88,1.56,72.86,0.47,11.41,0.00,0.00,5']\n",
      "<class 'str'>\n",
      "['167,1.52151,11.03,1.71,1.56,73.44,0.58,11.62,0.00,0.00,5']\n",
      "<class 'str'>\n",
      "['168,1.51969,12.64,0.00,1.65,73.75,0.38,11.53,0.00,0.00,5']\n",
      "<class 'str'>\n",
      "['169,1.51666,12.86,0.00,1.83,73.88,0.97,10.17,0.00,0.00,5']\n",
      "<class 'str'>\n",
      "['170,1.51994,13.27,0.00,1.76,73.03,0.47,11.32,0.00,0.00,5']\n",
      "<class 'str'>\n",
      "['171,1.52369,13.44,0.00,1.58,72.22,0.32,12.24,0.00,0.00,5']\n",
      "<class 'str'>\n",
      "['172,1.51316,13.02,0.00,3.04,70.48,6.21,6.96,0.00,0.00,5']\n",
      "<class 'str'>\n",
      "['173,1.51321,13.00,0.00,3.02,70.70,6.21,6.93,0.00,0.00,5']\n",
      "<class 'str'>\n",
      "['174,1.52043,13.38,0.00,1.40,72.25,0.33,12.50,0.00,0.00,5']\n",
      "<class 'str'>\n",
      "['175,1.52058,12.85,1.61,2.17,72.18,0.76,9.70,0.24,0.51,5']\n",
      "<class 'str'>\n",
      "['176,1.52119,12.97,0.33,1.51,73.39,0.13,11.27,0.00,0.28,5']\n",
      "<class 'str'>\n",
      "['177,1.51905,14.00,2.39,1.56,72.37,0.00,9.57,0.00,0.00,6']\n",
      "<class 'str'>\n",
      "['178,1.51937,13.79,2.41,1.19,72.76,0.00,9.77,0.00,0.00,6']\n",
      "<class 'str'>\n",
      "['179,1.51829,14.46,2.24,1.62,72.38,0.00,9.26,0.00,0.00,6']\n",
      "<class 'str'>\n",
      "['180,1.51852,14.09,2.19,1.66,72.67,0.00,9.32,0.00,0.00,6']\n",
      "<class 'str'>\n",
      "['181,1.51299,14.40,1.74,1.54,74.55,0.00,7.59,0.00,0.00,6']\n",
      "<class 'str'>\n",
      "['182,1.51888,14.99,0.78,1.74,72.50,0.00,9.95,0.00,0.00,6']\n",
      "<class 'str'>\n",
      "['183,1.51916,14.15,0.00,2.09,72.74,0.00,10.88,0.00,0.00,6']\n",
      "<class 'str'>\n",
      "['184,1.51969,14.56,0.00,0.56,73.48,0.00,11.22,0.00,0.00,6']\n",
      "<class 'str'>\n",
      "['185,1.51115,17.38,0.00,0.34,75.41,0.00,6.65,0.00,0.00,6']\n",
      "<class 'str'>\n",
      "['186,1.51131,13.69,3.20,1.81,72.81,1.76,5.43,1.19,0.00,7']\n",
      "<class 'str'>\n",
      "['187,1.51838,14.32,3.26,2.22,71.25,1.46,5.79,1.63,0.00,7']\n",
      "<class 'str'>\n",
      "['188,1.52315,13.44,3.34,1.23,72.38,0.60,8.83,0.00,0.00,7']\n",
      "<class 'str'>\n",
      "['189,1.52247,14.86,2.20,2.06,70.26,0.76,9.76,0.00,0.00,7']\n",
      "<class 'str'>\n",
      "['190,1.52365,15.79,1.83,1.31,70.43,0.31,8.61,1.68,0.00,7']\n",
      "<class 'str'>\n",
      "['191,1.51613,13.88,1.78,1.79,73.10,0.00,8.67,0.76,0.00,7']\n",
      "<class 'str'>\n",
      "['192,1.51602,14.85,0.00,2.38,73.28,0.00,8.76,0.64,0.09,7']\n",
      "<class 'str'>\n",
      "['193,1.51623,14.20,0.00,2.79,73.46,0.04,9.04,0.40,0.09,7']\n",
      "<class 'str'>\n",
      "['194,1.51719,14.75,0.00,2.00,73.02,0.00,8.53,1.59,0.08,7']\n",
      "<class 'str'>\n",
      "['195,1.51683,14.56,0.00,1.98,73.29,0.00,8.52,1.57,0.07,7']\n",
      "<class 'str'>\n",
      "['196,1.51545,14.14,0.00,2.68,73.39,0.08,9.07,0.61,0.05,7']\n",
      "<class 'str'>\n",
      "['197,1.51556,13.87,0.00,2.54,73.23,0.14,9.41,0.81,0.01,7']\n",
      "<class 'str'>\n",
      "['198,1.51727,14.70,0.00,2.34,73.28,0.00,8.95,0.66,0.00,7']\n",
      "<class 'str'>\n",
      "['199,1.51531,14.38,0.00,2.66,73.10,0.04,9.08,0.64,0.00,7']\n",
      "<class 'str'>\n",
      "['200,1.51609,15.01,0.00,2.51,73.05,0.05,8.83,0.53,0.00,7']\n",
      "<class 'str'>\n",
      "['201,1.51508,15.15,0.00,2.25,73.50,0.00,8.34,0.63,0.00,7']\n",
      "<class 'str'>\n",
      "['202,1.51653,11.95,0.00,1.19,75.18,2.70,8.93,0.00,0.00,7']\n",
      "<class 'str'>\n",
      "['203,1.51514,14.85,0.00,2.42,73.72,0.00,8.39,0.56,0.00,7']\n",
      "<class 'str'>\n",
      "['204,1.51658,14.80,0.00,1.99,73.11,0.00,8.28,1.71,0.00,7']\n",
      "<class 'str'>\n",
      "['205,1.51617,14.95,0.00,2.27,73.30,0.00,8.71,0.67,0.00,7']\n",
      "<class 'str'>\n",
      "['206,1.51732,14.95,0.00,1.80,72.99,0.00,8.61,1.55,0.00,7']\n",
      "<class 'str'>\n",
      "['207,1.51645,14.94,0.00,1.87,73.11,0.00,8.67,1.38,0.00,7']\n",
      "<class 'str'>\n",
      "['208,1.51831,14.39,0.00,1.82,72.86,1.41,6.47,2.88,0.00,7']\n",
      "<class 'str'>\n",
      "['209,1.51640,14.37,0.00,2.74,72.85,0.00,9.45,0.54,0.00,7']\n",
      "<class 'str'>\n",
      "['210,1.51623,14.14,0.00,2.88,72.61,0.08,9.18,1.06,0.00,7']\n",
      "<class 'str'>\n",
      "['211,1.51685,14.92,0.00,1.99,73.06,0.00,8.40,1.59,0.00,7']\n",
      "<class 'str'>\n",
      "['212,1.52065,14.36,0.00,2.02,73.42,0.00,8.44,1.64,0.00,7']\n",
      "<class 'str'>\n",
      "['213,1.51651,14.38,0.00,1.94,73.61,0.00,8.48,1.57,0.00,7']\n",
      "<class 'str'>\n",
      "['214,1.51711,14.23,0.00,2.08,73.36,0.00,8.62,1.67,0.00,7']\n"
     ]
    },
    {
     "ename": "ProgrammingError",
     "evalue": "1064 (42000): You have an error in your SQL syntax; check the manual that corresponds to your MySQL server version for the right syntax to use near '[0])' at line 1",
     "output_type": "error",
     "traceback": [
      "\u001b[1;31m---------------------------------------------------------------------------\u001b[0m",
      "\u001b[1;31mProgrammingError\u001b[0m                          Traceback (most recent call last)",
      "Input \u001b[1;32mIn [137]\u001b[0m, in \u001b[0;36m<cell line: 1>\u001b[1;34m()\u001b[0m\n\u001b[0;32m      7\u001b[0m     \u001b[38;5;28mprint\u001b[39m(j)\n\u001b[0;32m      8\u001b[0m     \u001b[38;5;66;03m# cur.execute('insert into akshay12345.glassData values ({data})'.format(data = (str(j[0]))))\u001b[39;00m\n\u001b[1;32m----> 9\u001b[0m \u001b[43mcur\u001b[49m\u001b[38;5;241;43m.\u001b[39;49m\u001b[43mexecute\u001b[49m\u001b[43m(\u001b[49m\u001b[38;5;124;43m'\u001b[39;49m\u001b[38;5;124;43minsert into akshay12345.glassData values (j[0])\u001b[39;49m\u001b[38;5;124;43m'\u001b[39;49m\u001b[43m)\u001b[49m\n\u001b[0;32m     10\u001b[0m     \u001b[38;5;66;03m# print(type(j))\u001b[39;00m\n\u001b[0;32m     11\u001b[0m \u001b[38;5;28mprint\u001b[39m(\u001b[38;5;124m\"\u001b[39m\u001b[38;5;124mall the data inserted\u001b[39m\u001b[38;5;124m\"\u001b[39m)\n",
      "File \u001b[1;32m~\\AppData\\Local\\Programs\\Python\\Python310\\lib\\site-packages\\mysql\\connector\\cursor.py:617\u001b[0m, in \u001b[0;36mMySQLCursor.execute\u001b[1;34m(self, operation, params, multi)\u001b[0m\n\u001b[0;32m    614\u001b[0m     \u001b[38;5;28;01mreturn\u001b[39;00m \u001b[38;5;28mself\u001b[39m\u001b[38;5;241m.\u001b[39m_execute_iter(\u001b[38;5;28mself\u001b[39m\u001b[38;5;241m.\u001b[39m_connection\u001b[38;5;241m.\u001b[39mcmd_query_iter(stmt))\n\u001b[0;32m    616\u001b[0m \u001b[38;5;28;01mtry\u001b[39;00m:\n\u001b[1;32m--> 617\u001b[0m     \u001b[38;5;28mself\u001b[39m\u001b[38;5;241m.\u001b[39m_handle_result(\u001b[38;5;28;43mself\u001b[39;49m\u001b[38;5;241;43m.\u001b[39;49m\u001b[43m_connection\u001b[49m\u001b[38;5;241;43m.\u001b[39;49m\u001b[43mcmd_query\u001b[49m\u001b[43m(\u001b[49m\u001b[43mstmt\u001b[49m\u001b[43m)\u001b[49m)\n\u001b[0;32m    618\u001b[0m \u001b[38;5;28;01mexcept\u001b[39;00m InterfaceError \u001b[38;5;28;01mas\u001b[39;00m err:\n\u001b[0;32m    619\u001b[0m     \u001b[38;5;28;01mif\u001b[39;00m \u001b[38;5;28mself\u001b[39m\u001b[38;5;241m.\u001b[39m_connection\u001b[38;5;241m.\u001b[39mhave_next_result:\n",
      "File \u001b[1;32m~\\AppData\\Local\\Programs\\Python\\Python310\\lib\\site-packages\\mysql\\connector\\opentelemetry\\context_propagation.py:77\u001b[0m, in \u001b[0;36mwith_context_propagation.<locals>.wrapper\u001b[1;34m(cnx, *args, **kwargs)\u001b[0m\n\u001b[0;32m     75\u001b[0m \u001b[38;5;124;03m\"\"\"Context propagation decorator.\"\"\"\u001b[39;00m\n\u001b[0;32m     76\u001b[0m \u001b[38;5;28;01mif\u001b[39;00m \u001b[38;5;129;01mnot\u001b[39;00m OTEL_ENABLED \u001b[38;5;129;01mor\u001b[39;00m \u001b[38;5;129;01mnot\u001b[39;00m cnx\u001b[38;5;241m.\u001b[39motel_context_propagation:\n\u001b[1;32m---> 77\u001b[0m     \u001b[38;5;28;01mreturn\u001b[39;00m method(cnx, \u001b[38;5;241m*\u001b[39margs, \u001b[38;5;241m*\u001b[39m\u001b[38;5;241m*\u001b[39mkwargs)\n\u001b[0;32m     79\u001b[0m current_span \u001b[38;5;241m=\u001b[39m trace\u001b[38;5;241m.\u001b[39mget_current_span()\n\u001b[0;32m     80\u001b[0m tp_header \u001b[38;5;241m=\u001b[39m \u001b[38;5;28;01mNone\u001b[39;00m\n",
      "File \u001b[1;32m~\\AppData\\Local\\Programs\\Python\\Python310\\lib\\site-packages\\mysql\\connector\\connection.py:1069\u001b[0m, in \u001b[0;36mMySQLConnection.cmd_query\u001b[1;34m(self, query, raw, buffered, raw_as_string)\u001b[0m\n\u001b[0;32m   1067\u001b[0m query \u001b[38;5;241m=\u001b[39m \u001b[38;5;28mbytes\u001b[39m(packet)\n\u001b[0;32m   1068\u001b[0m \u001b[38;5;28;01mtry\u001b[39;00m:\n\u001b[1;32m-> 1069\u001b[0m     result \u001b[38;5;241m=\u001b[39m \u001b[38;5;28;43mself\u001b[39;49m\u001b[38;5;241;43m.\u001b[39;49m\u001b[43m_handle_result\u001b[49m\u001b[43m(\u001b[49m\u001b[38;5;28;43mself\u001b[39;49m\u001b[38;5;241;43m.\u001b[39;49m\u001b[43m_send_cmd\u001b[49m\u001b[43m(\u001b[49m\u001b[43mServerCmd\u001b[49m\u001b[38;5;241;43m.\u001b[39;49m\u001b[43mQUERY\u001b[49m\u001b[43m,\u001b[49m\u001b[43m \u001b[49m\u001b[43mquery\u001b[49m\u001b[43m)\u001b[49m\u001b[43m)\u001b[49m\n\u001b[0;32m   1070\u001b[0m \u001b[38;5;28;01mexcept\u001b[39;00m ProgrammingError \u001b[38;5;28;01mas\u001b[39;00m err:\n\u001b[0;32m   1071\u001b[0m     \u001b[38;5;28;01mif\u001b[39;00m err\u001b[38;5;241m.\u001b[39merrno \u001b[38;5;241m==\u001b[39m \u001b[38;5;241m3948\u001b[39m \u001b[38;5;129;01mand\u001b[39;00m \u001b[38;5;124m\"\u001b[39m\u001b[38;5;124mLoading local data is disabled\u001b[39m\u001b[38;5;124m\"\u001b[39m \u001b[38;5;129;01min\u001b[39;00m err\u001b[38;5;241m.\u001b[39mmsg:\n",
      "File \u001b[1;32m~\\AppData\\Local\\Programs\\Python\\Python310\\lib\\site-packages\\mysql\\connector\\connection.py:846\u001b[0m, in \u001b[0;36mMySQLConnection._handle_result\u001b[1;34m(self, packet)\u001b[0m\n\u001b[0;32m    844\u001b[0m     \u001b[38;5;28;01mreturn\u001b[39;00m \u001b[38;5;28mself\u001b[39m\u001b[38;5;241m.\u001b[39m_handle_eof(packet)\n\u001b[0;32m    845\u001b[0m \u001b[38;5;28;01mif\u001b[39;00m packet[\u001b[38;5;241m4\u001b[39m] \u001b[38;5;241m==\u001b[39m \u001b[38;5;241m255\u001b[39m:\n\u001b[1;32m--> 846\u001b[0m     \u001b[38;5;28;01mraise\u001b[39;00m get_exception(packet)\n\u001b[0;32m    848\u001b[0m \u001b[38;5;66;03m# We have a text result set\u001b[39;00m\n\u001b[0;32m    849\u001b[0m column_count \u001b[38;5;241m=\u001b[39m \u001b[38;5;28mself\u001b[39m\u001b[38;5;241m.\u001b[39m_protocol\u001b[38;5;241m.\u001b[39mparse_column_count(packet)\n",
      "\u001b[1;31mProgrammingError\u001b[0m: 1064 (42000): You have an error in your SQL syntax; check the manual that corresponds to your MySQL server version for the right syntax to use near '[0])' at line 1"
     ]
    }
   ],
   "source": [
    "with open('glass.data') as data :\n",
    "    next(data)\n",
    "    data_csv = csv.reader(data, delimiter = \"\\n\")\n",
    "    print(data_csv)\n",
    "    for j in  data_csv:\n",
    "        print(type(str(j)))\n",
    "        print(j)\n",
    "        # cur.execute('insert into akshay12345.glassData values ({data})'.format(data = (str(j[0]))))\n",
    "    cur.execute('insert into akshay12345.glassData values (j[0])')\n",
    "        # print(type(j))\n",
    "    print(\"all the data inserted\")\n",
    "mydb.commit()"
   ]
  },
  {
   "cell_type": "code",
   "execution_count": null,
   "id": "62f6a8d5-4896-405e-b672-0cab26bfb5f9",
   "metadata": {},
   "outputs": [],
   "source": []
  }
 ],
 "metadata": {
  "kernelspec": {
   "display_name": "Python 3 (ipykernel)",
   "language": "python",
   "name": "python3"
  },
  "language_info": {
   "codemirror_mode": {
    "name": "ipython",
    "version": 3
   },
   "file_extension": ".py",
   "mimetype": "text/x-python",
   "name": "python",
   "nbconvert_exporter": "python",
   "pygments_lexer": "ipython3",
   "version": "3.10.2"
  }
 },
 "nbformat": 4,
 "nbformat_minor": 5
}
