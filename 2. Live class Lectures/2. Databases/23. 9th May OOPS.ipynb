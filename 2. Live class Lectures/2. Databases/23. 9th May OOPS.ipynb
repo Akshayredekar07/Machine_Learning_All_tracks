{
 "cells": [
  {
   "cell_type": "code",
   "execution_count": null,
   "metadata": {},
   "outputs": [],
   "source": [
    "class test:\n",
    "    def __init__(self, a , b  , c ,d ) :\n",
    "        self.__a = a \n",
    "        self.b = b\n",
    "        self.c = c \n",
    "        self.d = d \n",
    "    def test_custome(self , v ) : \n",
    "         return v - self.__a\n",
    "    \n",
    "    def __str__(self):\n",
    "        return \"this is my test code for abstraction\""
   ]
  },
  {
   "cell_type": "code",
   "execution_count": null,
   "metadata": {},
   "outputs": [],
   "source": [
    "o = test(4,5,6,7)"
   ]
  },
  {
   "cell_type": "code",
   "execution_count": null,
   "metadata": {},
   "outputs": [],
   "source": [
    "o.test_custome(7)"
   ]
  },
  {
   "cell_type": "code",
   "execution_count": null,
   "metadata": {},
   "outputs": [],
   "source": [
    "o._test__a"
   ]
  },
  {
   "cell_type": "code",
   "execution_count": null,
   "metadata": {},
   "outputs": [],
   "source": [
    "class test1(test):\n",
    "    def __init__(self, j , *args):\n",
    "        super(test1,self).__init__(*args)\n",
    "        self.j = j \n",
    "        \n",
    "m = test1(4,5,6,7,8)\n",
    "m.b\n"
   ]
  },
  {
   "cell_type": "code",
   "execution_count": null,
   "metadata": {},
   "outputs": [],
   "source": [
    "m._test__a"
   ]
  },
  {
   "cell_type": "code",
   "execution_count": null,
   "metadata": {},
   "outputs": [],
   "source": [
    "m.test_custome(8)"
   ]
  },
  {
   "cell_type": "code",
   "execution_count": null,
   "metadata": {},
   "outputs": [],
   "source": [
    "m.b"
   ]
  },
  {
   "cell_type": "code",
   "execution_count": null,
   "metadata": {},
   "outputs": [],
   "source": [
    "m.c"
   ]
  },
  {
   "cell_type": "code",
   "execution_count": null,
   "metadata": {},
   "outputs": [],
   "source": [
    "m.d"
   ]
  },
  {
   "cell_type": "code",
   "execution_count": null,
   "metadata": {},
   "outputs": [],
   "source": [
    "1.create class test and test1\n",
    "2.inherit test and test1 into test2\n",
    "3.function a in test\n",
    "4.function a in test1\n",
    "5.test2 should inherit function-a from test1 and test both\n"
   ]
  },
  {
   "cell_type": "code",
   "execution_count": null,
   "metadata": {},
   "outputs": [],
   "source": [
    "class test:\n",
    "    def a(self):\n",
    "        print(\"test class\")\n",
    "class test1:\n",
    "    def a(self):\n",
    "        print(\"test1 class\")\n",
    "class test2():\n",
    "    t=test()\n",
    "    t.a()\n",
    "    t1=test1()\n",
    "    t1.a()\n",
    "    #print(\"test2 class\")\n",
    "t2=test2()\n",
    "\n"
   ]
  },
  {
   "cell_type": "code",
   "execution_count": null,
   "metadata": {},
   "outputs": [],
   "source": [
    "class test1():\n",
    "    def A():\n",
    "        print(\"Hello i am from class test1\")\n",
    "class test2():\n",
    "        def A():\n",
    "            print(\"Hello i am from class test2\")\n",
    "\n",
    "class test3(test1,test2):\n",
    "    test1.A()\n",
    "    test2.A()\n"
   ]
  },
  {
   "cell_type": "code",
   "execution_count": null,
   "metadata": {},
   "outputs": [],
   "source": [
    "class test:\n",
    "    def __init__(self):\n",
    "        pass\n",
    "    def a(self):\n",
    "        return \"This belongs to test.\"\n",
    "        \n",
    "class test1:\n",
    "    def __init__(self):\n",
    "        pass\n",
    "    def a(self):\n",
    "        return \"This belongs to test1.\"\n",
    "class test2(test,test1):\n",
    "        def __init__(self):\n",
    "            pass\n",
    "            \n",
    "o = test2()\n",
    "print(o.a())\n",
    "print(o.a())\n"
   ]
  },
  {
   "cell_type": "code",
   "execution_count": null,
   "metadata": {},
   "outputs": [],
   "source": [
    "class testa:\n",
    "    def __init__(self,a,b,c,d):\n",
    "        self.__a=a\n",
    "        self.b=b\n",
    "        self.c=c\n",
    "        self.d=d\n",
    "    def test_customer(self,v):\n",
    "        return v - self.__a\n",
    "class testb:\n",
    "    def __init__(self,a,b,c,d):\n",
    "        self.__a=a\n",
    "        self.b=b\n",
    "        self.c=c\n",
    "        self.d=d\n",
    "    def test_customer(self,v):\n",
    "        return v - self.b\n",
    "    \n",
    "class testc(testa,testb):\n",
    "    def __init__ (self, j, *args):\n",
    "        super(testa, self).__init__(*args)\n",
    "        self.j= j\n",
    "    def __init__ (self, k, *args):\n",
    "        super(testb, self).__init__(*args)\n",
    "        self.k= k\n"
   ]
  },
  {
   "cell_type": "code",
   "execution_count": null,
   "metadata": {},
   "outputs": [],
   "source": [
    "class Test:\n",
    "    def a(self):\n",
    "        return \"This is class Test\"\n",
    "\n",
    "class Test1:\n",
    "    def a(self):\n",
    "        return \"This is class Test1\"\n",
    "\n",
    "class Test2(Test, Test1):\n",
    "    \"\"\"Test class methods overrides Test1 class methods\"\"\"\n",
    "    pass\n",
    "\n",
    "t2 = Test2()\n",
    "print(t2.a())\n",
    "\n",
    "class Test2(Test1, Test):\n",
    "    \"\"\"Test1 class methods overrides Test class methods\"\"\"\n",
    "    pass\n",
    "\n",
    "t2_ = Test2()\n",
    "print(t2_.a())\n"
   ]
  },
  {
   "cell_type": "code",
   "execution_count": null,
   "metadata": {},
   "outputs": [],
   "source": [
    "class A:\n",
    "    def a(self):\n",
    "        return \"This is A ==> a method\"\n",
    "\n",
    "class B: \n",
    "    def a(self):\n",
    "        return \"This is B ==> a method\"\n",
    "\n",
    "class C(A,B):\n",
    "    def a(self):\n",
    "        return super(A,self).a()\n",
    "    \n",
    "    def a(self):\n",
    "        return super(B,self).a()\n"
   ]
  },
  {
   "cell_type": "code",
   "execution_count": null,
   "metadata": {},
   "outputs": [],
   "source": [
    "c= C()\n",
    "c.a()"
   ]
  },
  {
   "cell_type": "code",
   "execution_count": null,
   "metadata": {},
   "outputs": [],
   "source": [
    "class test:\n",
    "    def a():\n",
    "        return \"This belongs to test\"\n",
    "\n",
    "class test1:\n",
    "    def a():\n",
    "        return \"This belongs to test1\"\n",
    "\n",
    "class test2(test,test1):\n",
    "    def e():\n",
    "        super(test).a()\n",
    "    def j():\n",
    "        super(test1).a()\n"
   ]
  },
  {
   "cell_type": "code",
   "execution_count": null,
   "metadata": {},
   "outputs": [],
   "source": [
    "t = test2()"
   ]
  },
  {
   "cell_type": "code",
   "execution_count": null,
   "metadata": {},
   "outputs": [],
   "source": [
    "t.e()"
   ]
  },
  {
   "cell_type": "code",
   "execution_count": null,
   "metadata": {},
   "outputs": [],
   "source": [
    "class test:\n",
    "    \n",
    "    def a(self):\n",
    "        print('function a from class test')\n",
    "\n",
    "class test1:\n",
    "    def a(self):\n",
    "        print('function a from class test1')\n",
    "\n",
    "class test2():\n",
    "    def a(self):\n",
    "        test.a(self)\n",
    "        test1.a(self)\n",
    "        \n",
    "t = test2()\n",
    "t.a()\n"
   ]
  },
  {
   "cell_type": "code",
   "execution_count": null,
   "metadata": {},
   "outputs": [],
   "source": [
    "class test:\n",
    "   \n",
    "    def a(self):\n",
    "        print(\"This is from class test\")\n",
    "        \n",
    "class test1:\n",
    "    \n",
    "    def a(self):\n",
    "        print(\"This is from class test1\")\n",
    "        \n",
    "\n",
    "        \n",
    "class test2(test,test1):\n",
    "    def a(self):\n",
    "        super(test2,self).a()\n",
    "        \n",
    "    \n",
    "    \n",
    "    \n",
    "t2=test2()\n",
    "t2.a()\n"
   ]
  },
  {
   "cell_type": "code",
   "execution_count": null,
   "metadata": {},
   "outputs": [],
   "source": [
    "class test:\n",
    "    def a(self):\n",
    "        print(\"this belongs to test\")\n",
    "class test1:\n",
    "    def a(self):\n",
    "        print(\"this belongs to test1\")\n",
    "        \n",
    "        \n",
    "class test2(test,test1):\n",
    "    def c(self):\n",
    "        print(\"test2\")\n",
    "obj = test2()\n",
    "obj.c()\n",
    "obj.a()\n",
    "test1.a(obj)\n"
   ]
  },
  {
   "cell_type": "code",
   "execution_count": null,
   "metadata": {},
   "outputs": [],
   "source": [
    "class test:\n",
    "    def a(self):\n",
    "        return 'this a function of class test'\n",
    "ob1=test()\n",
    "\n",
    "class test1:\n",
    "    def a(self):\n",
    "        return 'this a function of class test1'\n",
    "ob2=test1()\n",
    "\n",
    "\n",
    "\n",
    "class test2(test,test1):\n",
    "    def x(self):\n",
    "        return ob1.a(),ob2.a()\n",
    "    \n",
    "ob3=test2()\n",
    "c1,c2=ob3.x()\n",
    "print(c1)\n",
    "print(c2)\n"
   ]
  },
  {
   "cell_type": "code",
   "execution_count": null,
   "metadata": {},
   "outputs": [],
   "source": [
    "class Class1:\n",
    "    def m(self):\n",
    "        print(\"In Class1\")\n",
    "  \n",
    "\n",
    "class Class2(Class1):\n",
    "    def m(self):\n",
    "        print(\"In Class2\")\n",
    "        super().m()\n",
    "  \n",
    " \n",
    "class Class4(Class2, Class1):\n",
    "        def m(self):\n",
    "            print(\"In Class4\")   \n",
    "            super().m()\n",
    "    \n",
    "\n",
    "Class4.m()\n"
   ]
  },
  {
   "cell_type": "code",
   "execution_count": null,
   "metadata": {},
   "outputs": [],
   "source": [
    "class test:\n",
    "\tdef A(self):\n",
    "\t\tprint(\"In Class test\")\n",
    "\t\t\n",
    "class test1(test):\n",
    "\tdef A(self):\n",
    "\t\tprint(\"In Class test1\")\n",
    "\n",
    "class test2(test1):\n",
    "    pass\n",
    "\n",
    "obj = test2()\n",
    "test.A(obj)\n",
    "test1.A(obj)\n"
   ]
  },
  {
   "cell_type": "code",
   "execution_count": null,
   "metadata": {},
   "outputs": [],
   "source": [
    "class Ineuron:\n",
    "    company_website = 'https://ineuron.ai/'\n",
    "    name = 'iNeuron'\n",
    " \n",
    "    def contact_details(self):\n",
    "        print('Contact us at ', self.company_website)\n",
    " \n",
    " \n",
    "class Datascience(Ineuron):\n",
    "    def __init__(self):\n",
    "        self.year_of_establishment= 2018\n",
    " \n",
    "    def est_details(self):\n",
    "        print('{0} Company was established in {1}'\n",
    "              .format(self.name,self.year_of_establishment))\n",
    " \n",
    " \n",
    "ds = Datascience()\n",
    "ds.est_details()"
   ]
  },
  {
   "cell_type": "code",
   "execution_count": null,
   "metadata": {},
   "outputs": [],
   "source": [
    "class OS:\n",
    "    multi_task = True\n",
    "    os_name = 'Windows OS'\n",
    "    name = \"sudh\"\n",
    " \n",
    " \n",
    "class windows(OS, Ineuron):\n",
    "    def __init__(self):\n",
    "        if self.multi_task is True:\n",
    "            print('multi_task')\n",
    "        print('Name: {}'.format(self.name))\n",
    " \n",
    " \n",
    "windows = windows()\n",
    " "
   ]
  },
  {
   "cell_type": "code",
   "execution_count": null,
   "metadata": {},
   "outputs": [],
   "source": [
    "class windows(Ineuron,OS):\n",
    "    def __init__(self):\n",
    "        if self.multi_task is True:\n",
    "            print('multi_task')\n",
    "        print('Name: {}'.format(self.name))\n",
    " \n",
    " \n",
    "windows = windows()"
   ]
  },
  {
   "cell_type": "code",
   "execution_count": null,
   "metadata": {},
   "outputs": [],
   "source": [
    "class iNeuron:\n",
    "    num_of_courses = 12\n",
    " \n",
    " \n",
    "class Datascience(iNeuron):\n",
    "    course_type = 'Data-Science'\n",
    " \n",
    " \n",
    "class AI(Datascience):\n",
    "    def __init__(self):\n",
    "        self.company = \"iNeuron\"\n",
    "        print('The company {0} offers total {1} different types of courses. Most trending course is {2}'.format(self.company,self.num_of_courses,self.course_type))\n",
    " \n",
    " \n",
    "AI = AI()"
   ]
  },
  {
   "cell_type": "code",
   "execution_count": null,
   "metadata": {},
   "outputs": [],
   "source": [
    "import sqlite3\n",
    "\n",
    "class DataBaseOperations:\n",
    "\n",
    "    def __init__(self,databasename):\n",
    "        \n",
    "        self.databasename = databasename\n",
    "\n",
    "    def createDatabase(self):\n",
    "        try:\n",
    "            conn = sqlite3.connect(self.databasename)\n",
    "        except ConnectionError:\n",
    "            raise ConnectionError\n",
    "        return conn\n",
    "\n",
    "    def createTable(self,tablename,dictionaryOfcolumnNamesAndcolumnDatatypes):\n",
    "        try:\n",
    "            conn = self.createDatabase()\n",
    "            c = conn.cursor()\n",
    "            for key in dictionaryOfcolumnNamesAndcolumnDatatypes.keys():\n",
    "                datatype = dictionaryOfcolumnNamesAndcolumnDatatypes[key]\n",
    "                try:\n",
    "                    conn.execute(\n",
    "                        'ALTER TABLE {tableName} ADD COLUMN \"{column_name}\" {dataType}'.format(tableName=tablename,\n",
    "                                                                                               column_name=key,\n",
    "                                                                                               dataType=datatype))\n",
    "                except:\n",
    "                    conn.execute('CREATE TABLE {tableName} ({column_name} {dataType})'.format(tableName=tablename,\n",
    "                                                                                              column_name=key,\n",
    "                                                                                              dataType=datatype))\n",
    "            print(\"Table {0} created in database {1}\".format(tablename,self.databasename))\n",
    "            self.closeDbConnection(conn)\n",
    "            print(\"Connection to database closed!!\")\n",
    "        except Exception as e:\n",
    "            conn.rollback()\n",
    "            self.closeDbConnection(conn)\n",
    "            print(\"Connection to database closed!!\")\n",
    "\n",
    "            print(\"Exception occured: \" + str(e))\n",
    "\n",
    "    def insertIntoTable(self,tablename, listOfvaluesToInsert):\n",
    "        try:\n",
    "            conn = self.createDatabase()\n",
    "            conn.execute('INSERT INTO {tablename}  values ({values})'.format(tablename = tablename,values=(listOfvaluesToInsert)))\n",
    "            conn.commit()\n",
    "            print(\"Values Inserted Successfully!!!\")\n",
    "            self.closeDbConnection(conn)\n",
    "            print(\"Connection to database closed!!\")\n",
    "        except Exception as e:\n",
    "            conn.rollback()\n",
    "            self.closeDbConnection(conn)\n",
    "            print(\"Connection to database closed!!\")\n",
    "            print(\"Error occured: \" + str(e))\n",
    "\n",
    "        # self.closeDbconnection()\n",
    "    \n",
    "    def selectFromTable(self,tablename):\n",
    "\n",
    "        try:\n",
    "            conn = self.createDatabase()\n",
    "            c = conn.cursor()\n",
    "            c.execute(\"SELECT *  FROM {table}\".format(table=tablename))\n",
    "            print(\"values in table : \" ,c.fetchall())\n",
    "            self.closeDbConnection(conn)\n",
    "            print(\"Connection to database closed!!\")\n",
    "            \n",
    "        except Exception as e:\n",
    "            self.closeDbConnection(conn)\n",
    "            print(\"Connection to database closed!!\")\n",
    "            print(\"Error occured: \" + str(e))\n",
    "    \n",
    "    def closeDbConnection(self,connection):\n",
    "       \n",
    "        connection.close()"
   ]
  },
  {
   "cell_type": "code",
   "execution_count": null,
   "metadata": {},
   "outputs": [],
   "source": [
    "class StudentMarks(DataBaseOperations): # inheriting the DatabaseOperation class\n",
    "    \n",
    "    def __init__ (self, ID, RollNumber, Marks):\n",
    "        \n",
    "        self.id= ID\n",
    "        self.RollNum = RollNumber\n",
    "        self.Marks = Marks\n",
    "        self.databasename = \"StudentDetails\""
   ]
  },
  {
   "cell_type": "code",
   "execution_count": null,
   "metadata": {},
   "outputs": [],
   "source": [
    "student1 = StudentMarks(23,34,76)"
   ]
  },
  {
   "cell_type": "code",
   "execution_count": null,
   "metadata": {},
   "outputs": [],
   "source": [
    "student1.createDatabase()"
   ]
  },
  {
   "cell_type": "code",
   "execution_count": null,
   "metadata": {},
   "outputs": [],
   "source": [
    "#encaptulation "
   ]
  },
  {
   "cell_type": "code",
   "execution_count": null,
   "metadata": {},
   "outputs": [],
   "source": [
    "class test:\n",
    "    def __init__(self, a,b,c):\n",
    "        self.a =a \n",
    "        self.b = b\n",
    "        self.c = c \n",
    "        \n",
    "    def __str__(self):\n",
    "        return \"this is the return form my test class \"\n",
    "\n",
    "    \n",
    "class test1 :\n",
    "    def __init__(self, a,b,c):\n",
    "        self.a =a \n",
    "        self.b = b\n",
    "        self.c = c \n",
    "        \n",
    "    def __str__(self):\n",
    "        return \"this is the return form my test1 class \"\n",
    "    \n",
    "class test2:\n",
    "    \n",
    "    def __init__(self, a,b,c):\n",
    "        self.a = a \n",
    "        self.b = b\n",
    "        self.c = c \n",
    "        \n",
    "    def __str__(self):\n",
    "        return \"this is the return form my test2 class \"\n",
    "\n",
    "class final:\n",
    "    \n",
    "    def __init__(self,x,y,z):\n",
    "        self.x= x\n",
    "        self.y= y\n",
    "        self.z = z\n",
    "        \n",
    "    def __str__(self) : \n",
    "        \n",
    "        return str(self.x) + \"  \" + str(self.y) + \"  \" + str(self.z)\n"
   ]
  },
  {
   "cell_type": "code",
   "execution_count": null,
   "metadata": {},
   "outputs": [],
   "source": [
    "t= test(4,5,6)\n",
    "t1 = test1(3,4,5)\n",
    "t2 = test2(5,6,7)\n",
    "f = final(t,t1,\"sudh\")\n"
   ]
  },
  {
   "cell_type": "code",
   "execution_count": null,
   "metadata": {},
   "outputs": [],
   "source": [
    "print(f)"
   ]
  },
  {
   "cell_type": "code",
   "execution_count": null,
   "metadata": {},
   "outputs": [],
   "source": [
    "class Tyres:\n",
    "    def __init__(self, branch, belted_bias, opt_pressure):\n",
    "        self.branch = branch\n",
    "        self.belted_bias = belted_bias\n",
    "        self.opt_pressure = opt_pressure\n",
    "        \n",
    "    def __str__(self):\n",
    "        return (\"Tyres: \\n \\tBranch: \" + self.branch +\n",
    "               \"\\n \\tBelted-bias: \" + str(self.belted_bias) + \n",
    "               \"\\n \\tOptimal pressure: \" + str(self.opt_pressure))\n",
    "        \n",
    "class Engine:\n",
    "    def __init__(self, fuel_type, noise_level):\n",
    "        self.fuel_type = fuel_type\n",
    "        self.noise_level = noise_level\n",
    "        \n",
    "    def __str__(self):\n",
    "        return (\"Engine: \\n \\tFuel type: \" + self.fuel_type +\n",
    "                \"\\n \\tNoise level:\" + str(self.noise_level))\n",
    "        \n",
    "class Body:\n",
    "    def __init__(self, size):\n",
    "        self.size = size\n",
    "        \n",
    "    def __str__(self):\n",
    "        return \"Body:\\n \\tSize: \" + self.size\n",
    "        \n",
    "class Car:\n",
    "    def __init__(self,name ,  tyres, engine, body):\n",
    "        self.name = name \n",
    "        self.tyres = tyres\n",
    "        self.engine = engine\n",
    "        self.body = body\n",
    "        \n",
    "    def __str__(self):\n",
    "        return str(self.tyres) + \"\\n\" + str(self.engine) + \"\\n\" + str(self.body) + \" \" + str(self.name)\n",
    "\n",
    "        \n",
    "t = Tyres('Pirelli', True, 2.0)\n",
    "e = Engine('Diesel', 3)\n",
    "b = Body('Medium')\n",
    "c = Car(\"toyota\",t, e, b)\n",
    "print(c)"
   ]
  },
  {
   "cell_type": "code",
   "execution_count": null,
   "metadata": {},
   "outputs": [],
   "source": [
    "class parent :\n",
    "    \n",
    "    a = 10 \n",
    "    b = 40 \n",
    "    \n",
    "    def __init__(self,parent_a , parent_b):\n",
    "        self.parent_a = parent_a\n",
    "        self.parent_b = parent_b\n",
    "        \n",
    "class child(parent):\n",
    "    def __init__(self, *args):\n",
    "        super(child,self).__init__(*args)\n",
    "    "
   ]
  },
  {
   "cell_type": "code",
   "execution_count": null,
   "metadata": {},
   "outputs": [],
   "source": [
    "class Dog:\n",
    "    def __init__(self, name, year_of_birth, breed):\n",
    "        self._name = name\n",
    "        self._year_of_birth = year_of_birth\n",
    "        self._breed = breed\n",
    "\n",
    "    def __str__(self):\n",
    "        return \"%s is a %s born in %d.\" % (self._name, self._breed, self._year_of_birth)\n",
    "\n",
    "kudrjavka = Dog(\"Kudrjavka\", 1954, \"Laika\")\n",
    "dog1 = Dog(\"german\" ,565 , \"coco\")\n",
    "dog2= Dog(\"german\" ,565 , \"coco\")\n",
    "dog3= Dog(\"german\" ,565 , \"coco\")\n",
    "dog4= Dog(\"german\" ,565 , \"coco\")\n",
    "dog5 = Dog(\"german\" ,565 , \"coco\")\n",
    "\n",
    "dog6= Dog(\"german\" ,565 , \"coco\")\n",
    "\n",
    "\n",
    "print(kudrjavka)"
   ]
  },
  {
   "cell_type": "code",
   "execution_count": null,
   "metadata": {},
   "outputs": [],
   "source": [
    "class student:\n",
    "    \n",
    "    def __init__(self,name, student_id,school_name, address):\n",
    "        self.name = name \n",
    "        self.student_id = student_id\n",
    "        self.school_name = school_name\n",
    "        self.address = address\n",
    "        \n",
    "        \n",
    "    def __str__(self):\n",
    "        return str(self.name) + \"  \" + str(self.student_id) + \"   \" + str(self.school_name) + \"  \"+ str( self.address)"
   ]
  },
  {
   "cell_type": "code",
   "execution_count": null,
   "metadata": {},
   "outputs": [],
   "source": [
    "stu = student(\"sudh\" , 454 , \"iNeuron\" , \"xyz\") \n",
    "print(stu)"
   ]
  },
  {
   "cell_type": "code",
   "execution_count": null,
   "metadata": {},
   "outputs": [],
   "source": [
    "dog = student(kudrjavka , 45 , \"dog_sch\" , \"sdfdsf\")\n",
    "print(dog)"
   ]
  },
  {
   "cell_type": "code",
   "execution_count": null,
   "metadata": {},
   "outputs": [],
   "source": [
    "dog1 = student(dog1 , 45 , \"dog_sch\" , \"sdfdsf\")"
   ]
  },
  {
   "cell_type": "code",
   "execution_count": null,
   "metadata": {},
   "outputs": [],
   "source": [
    "class BonusDistribution:\n",
    "    \n",
    "    def __init__ (self,employeeId, employeeRating):\n",
    "    \n",
    "        self.empId = employeeId\n",
    "        self.empRating = employeeRating\n",
    "        self.__bonusforRatingA = \"70%\"  #making value private\n",
    "        self.__bonusforRatingB = \"60%\"  #making value private\n",
    "        self.__bonusforRatingC = \"50%\"  #making value private\n",
    "        self.__bonusforRatingD = \"30%\"  #making value private\n",
    "        self.__bonusforRatingForRest = \"No Bonus\" #making value private\n",
    "        \n",
    "        \n",
    "    def bonusCalculator(self):\n",
    "        \n",
    "        if self.empRating == 'A':\n",
    "            bonus = self.__bonusforRatingA\n",
    "            msg = \"Bonus for this employee is :\"+ bonus\n",
    "            return msg\n",
    "        elif self.empRating == 'B':\n",
    "            bonus = self.__bonusforRatingB\n",
    "            msg = \"Bonus for this employee is :\"+ bonus\n",
    "            return msg\n",
    "        elif self.empRating == 'C':\n",
    "            bonus = self.__bonusforRatingC\n",
    "            msg = \"Bonus for this employee is :\"+ bonus\n",
    "            return msg\n",
    "        elif self.empRating == 'D':\n",
    "            bonus = self.__bonusforRatingD\n",
    "            msg = \"Bonus for this employee is :\"+ bonus\n",
    "            return msg\n",
    "        else:\n",
    "            bonus = self.__bonusforRatingForRest\n",
    "            msg = \"Bonus for this employee is :\"+ bonus\n",
    "            return msg\n",
    "        \n",
    "    def __changevariable(self , value) : \n",
    "         self.__bonusforRatingB = value"
   ]
  },
  {
   "cell_type": "code",
   "execution_count": null,
   "metadata": {},
   "outputs": [],
   "source": [
    "emp1 = BonusDistribution(1232,'B')\n",
    "emp2 = BonusDistribution(1342,'B')\n",
    "emp3 = BonusDistribution(1031,'E')"
   ]
  },
  {
   "cell_type": "code",
   "execution_count": null,
   "metadata": {},
   "outputs": [],
   "source": [
    "emp2._BonusDistribution__changevariable(\"67%\")"
   ]
  },
  {
   "cell_type": "code",
   "execution_count": null,
   "metadata": {},
   "outputs": [],
   "source": [
    "emp2.bonusCalculator()"
   ]
  },
  {
   "cell_type": "code",
   "execution_count": null,
   "metadata": {},
   "outputs": [],
   "source": [
    "emp1.bonusCalculator()"
   ]
  },
  {
   "cell_type": "code",
   "execution_count": null,
   "metadata": {},
   "outputs": [],
   "source": [
    "emp1._BonusDistribution__bonusforRatingB = \"90%\""
   ]
  },
  {
   "cell_type": "code",
   "execution_count": null,
   "metadata": {},
   "outputs": [],
   "source": [
    "emp1.bonusCalculator()"
   ]
  },
  {
   "cell_type": "code",
   "execution_count": null,
   "metadata": {},
   "outputs": [],
   "source": [
    "emp1.chagnevariable(\"85%\")"
   ]
  },
  {
   "cell_type": "code",
   "execution_count": null,
   "metadata": {},
   "outputs": [],
   "source": [
    "emp1.bonusCalculator()"
   ]
  },
  {
   "cell_type": "code",
   "execution_count": null,
   "metadata": {},
   "outputs": [],
   "source": [
    "emp2.bonusCalculator()"
   ]
  },
  {
   "cell_type": "code",
   "execution_count": null,
   "metadata": {},
   "outputs": [],
   "source": [
    "emp1 = BonusDistribution(1232,'B')\n",
    "emp2 = BonusDistribution(1342,'B')"
   ]
  },
  {
   "cell_type": "code",
   "execution_count": null,
   "metadata": {},
   "outputs": [],
   "source": [
    "print()"
   ]
  },
  {
   "cell_type": "code",
   "execution_count": null,
   "metadata": {},
   "outputs": [],
   "source": [
    "class multiplynumeric():\n",
    "    def __init__(self,a) : \n",
    "        self.a = a \n",
    "    \n",
    "    def __mul__(self, other ):\n",
    "        \n",
    "        return self.a - other.a"
   ]
  },
  {
   "cell_type": "code",
   "execution_count": null,
   "metadata": {},
   "outputs": [],
   "source": [
    "mul = multiplynumeric(10)\n",
    "mul1 = multiplynumeric(2)"
   ]
  },
  {
   "cell_type": "code",
   "execution_count": null,
   "metadata": {},
   "outputs": [],
   "source": [
    "mul * mul1"
   ]
  },
  {
   "cell_type": "code",
   "execution_count": null,
   "metadata": {},
   "outputs": [],
   "source": [
    "9 * 2"
   ]
  },
  {
   "cell_type": "code",
   "execution_count": null,
   "metadata": {},
   "outputs": [],
   "source": [
    "def test(a , b ) :\n",
    "    return a + b "
   ]
  },
  {
   "cell_type": "code",
   "execution_count": null,
   "metadata": {},
   "outputs": [],
   "source": [
    "print(test(5, 6 ))\n",
    "print(test(\"sudh \" , \"kumar\"))\n",
    "print(test([3,4,5,6,7,8] , [ 4,5,6,7,89]))"
   ]
  },
  {
   "cell_type": "code",
   "execution_count": null,
   "metadata": {},
   "outputs": [],
   "source": [
    "class ineuron:\n",
    "    def msg(self):\n",
    "        print(\"this is a msg to ineruonr \" )\n",
    "        \n",
    "        \n",
    "class xyz:\n",
    "    \n",
    "    def msg(self):\n",
    "        print(\"this is a msg to xyz\") \n",
    "        \n",
    "              "
   ]
  },
  {
   "cell_type": "code",
   "execution_count": null,
   "metadata": {},
   "outputs": [],
   "source": [
    "def test(notes):\n",
    "    notes.msg()"
   ]
  },
  {
   "cell_type": "code",
   "execution_count": null,
   "metadata": {},
   "outputs": [],
   "source": [
    "i = ineuron()\n",
    "x = xyz()"
   ]
  },
  {
   "cell_type": "code",
   "execution_count": null,
   "metadata": {},
   "outputs": [],
   "source": [
    "test(i)"
   ]
  },
  {
   "cell_type": "code",
   "execution_count": null,
   "metadata": {},
   "outputs": [],
   "source": [
    "test(x)"
   ]
  },
  {
   "cell_type": "code",
   "execution_count": null,
   "metadata": {},
   "outputs": [],
   "source": [
    "1. inheritnce \n",
    "2 .ploy\n",
    "3 . abstraction\n",
    "4 . encaptuation "
   ]
  },
  {
   "cell_type": "code",
   "execution_count": null,
   "metadata": {},
   "outputs": [],
   "source": [
    "https://dev.mysql.com/downloads/installer/"
   ]
  },
  {
   "cell_type": "code",
   "execution_count": null,
   "metadata": {},
   "outputs": [],
   "source": []
  }
 ],
 "metadata": {
  "kernelspec": {
   "display_name": "Python 3 (ipykernel)",
   "language": "python",
   "name": "python3"
  },
  "language_info": {
   "codemirror_mode": {
    "name": "ipython",
    "version": 3
   },
   "file_extension": ".py",
   "mimetype": "text/x-python",
   "name": "python",
   "nbconvert_exporter": "python",
   "pygments_lexer": "ipython3",
   "version": "3.10.2"
  }
 },
 "nbformat": 4,
 "nbformat_minor": 4
}
