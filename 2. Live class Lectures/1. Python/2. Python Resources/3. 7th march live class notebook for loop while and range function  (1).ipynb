{
 "cells": [
  {
   "cell_type": "code",
   "execution_count": 2,
   "metadata": {},
   "outputs": [
    {
     "name": "stdout",
     "output_type": "stream",
     "text": [
      "1\n",
      "2\n",
      "3\n",
      "4\n",
      "print updated i in last iteration i=5 5\n",
      "no 10 rs notes are available \n"
     ]
    }
   ],
   "source": [
    "notes = 5 \n",
    "i = 1 \n",
    "j = 1\n",
    "while i < notes:\n",
    "    print(i)\n",
    "    i += 1\n",
    "else :\n",
    "    \n",
    "    while j < 2 :\n",
    "        print(\"print updated i in last iteration (i=5)\",i)\n",
    "        j = j + 1 \n",
    "    print(\"no 10 rs notes are available \")"
   ]
  },
  {
   "cell_type": "code",
   "execution_count": 31,
   "metadata": {},
   "outputs": [],
   "source": [
    "s = \"my name is sudhanshu\""
   ]
  },
  {
   "cell_type": "code",
   "execution_count": 32,
   "metadata": {},
   "outputs": [
    {
     "data": {
      "text/plain": [
       "'my name is sudhanshu'"
      ]
     },
     "execution_count": 32,
     "metadata": {},
     "output_type": "execute_result"
    }
   ],
   "source": [
    "s"
   ]
  },
  {
   "cell_type": "code",
   "execution_count": 33,
   "metadata": {},
   "outputs": [
    {
     "data": {
      "text/plain": [
       "' name is sud'"
      ]
     },
     "execution_count": 33,
     "metadata": {},
     "output_type": "execute_result"
    }
   ],
   "source": [
    "s[2:-6]"
   ]
  },
  {
   "cell_type": "code",
   "execution_count": 15,
   "metadata": {},
   "outputs": [
    {
     "data": {
      "text/plain": [
       "'nm s'"
      ]
     },
     "execution_count": 15,
     "metadata": {},
     "output_type": "execute_result"
    }
   ],
   "source": [
    "s[3:10:2]"
   ]
  },
  {
   "cell_type": "code",
   "execution_count": 22,
   "metadata": {},
   "outputs": [
    {
     "data": {
      "text/plain": [
       "'uhsnahdus si eman ym'"
      ]
     },
     "execution_count": 22,
     "metadata": {},
     "output_type": "execute_result"
    }
   ],
   "source": [
    "s[::-1]"
   ]
  },
  {
   "cell_type": "code",
   "execution_count": 23,
   "metadata": {},
   "outputs": [
    {
     "data": {
      "text/plain": [
       "' name is sud'"
      ]
     },
     "execution_count": 23,
     "metadata": {},
     "output_type": "execute_result"
    }
   ],
   "source": [
    "s[2:-6]"
   ]
  },
  {
   "cell_type": "code",
   "execution_count": 24,
   "metadata": {},
   "outputs": [],
   "source": [
    "s = \"sudh\""
   ]
  },
  {
   "cell_type": "code",
   "execution_count": 28,
   "metadata": {},
   "outputs": [
    {
     "data": {
      "text/plain": [
       "'s'"
      ]
     },
     "execution_count": 28,
     "metadata": {},
     "output_type": "execute_result"
    }
   ],
   "source": [
    "s[0]"
   ]
  },
  {
   "cell_type": "code",
   "execution_count": 34,
   "metadata": {},
   "outputs": [
    {
     "data": {
      "text/plain": [
       "'my name is sudhanshu'"
      ]
     },
     "execution_count": 34,
     "metadata": {},
     "output_type": "execute_result"
    }
   ],
   "source": [
    "s"
   ]
  },
  {
   "cell_type": "code",
   "execution_count": 36,
   "metadata": {},
   "outputs": [
    {
     "name": "stdout",
     "output_type": "stream",
     "text": [
      "m\n",
      "y\n",
      " \n",
      "n\n",
      "a\n",
      "m\n",
      "e\n",
      " \n",
      "i\n",
      " i got s as a string \n",
      "s\n",
      " \n",
      " i got s as a string \n",
      "s\n",
      "u\n",
      "d\n",
      "h\n",
      "a\n",
      "n\n",
      " i got s as a string \n",
      "s\n",
      "h\n",
      "u\n"
     ]
    }
   ],
   "source": [
    "for i in s :\n",
    "    if i == 's':\n",
    "        print(\" i got s as a string \")\n",
    "    print(i)"
   ]
  },
  {
   "cell_type": "code",
   "execution_count": 37,
   "metadata": {},
   "outputs": [
    {
     "data": {
      "text/plain": [
       "'my name is sudhanshu'"
      ]
     },
     "execution_count": 37,
     "metadata": {},
     "output_type": "execute_result"
    }
   ],
   "source": [
    "s "
   ]
  },
  {
   "cell_type": "code",
   "execution_count": 42,
   "metadata": {},
   "outputs": [
    {
     "name": "stdout",
     "output_type": "stream",
     "text": [
      "m\n",
      "y\n",
      " \n",
      "a\n",
      "m\n",
      "e\n",
      " \n",
      "i\n",
      "s\n",
      " \n",
      "s\n",
      "u\n",
      "d\n",
      "h\n",
      "a\n",
      "s\n",
      "h\n",
      "u\n",
      "last char was u \n",
      "this is a else condtion \n"
     ]
    }
   ],
   "source": [
    "for i in s :\n",
    "    if i == \"n\":\n",
    "        continue \n",
    "    print(i)\n",
    "else :\n",
    "    if i == 'u':\n",
    "        print(\"last char was u \")\n",
    "    print(\"this is a else condtion \")"
   ]
  },
  {
   "cell_type": "code",
   "execution_count": 53,
   "metadata": {},
   "outputs": [],
   "source": [
    "s =  \"ineuron\"\n",
    "ss = \"\"\n",
    "for i in range(len(s)):\n",
    "    if s[i] == \"n\":\n",
    "        continue\n",
    "    else :\n",
    "        ss = ss + s[i]"
   ]
  },
  {
   "cell_type": "code",
   "execution_count": 54,
   "metadata": {},
   "outputs": [
    {
     "data": {
      "text/plain": [
       "'ieuro'"
      ]
     },
     "execution_count": 54,
     "metadata": {},
     "output_type": "execute_result"
    }
   ],
   "source": [
    "ss"
   ]
  },
  {
   "cell_type": "code",
   "execution_count": 55,
   "metadata": {},
   "outputs": [
    {
     "data": {
      "text/plain": [
       "7"
      ]
     },
     "execution_count": 55,
     "metadata": {},
     "output_type": "execute_result"
    }
   ],
   "source": [
    "len(s)"
   ]
  },
  {
   "cell_type": "code",
   "execution_count": 58,
   "metadata": {},
   "outputs": [
    {
     "name": "stdout",
     "output_type": "stream",
     "text": [
      "+ \r\n",
      "+ + \r\n",
      "+ + + \r\n",
      "+ + + + \r\n",
      "+ + + + + \r\n",
      "+ + + + + + \r\n",
      "+ + + + + + + \r\n"
     ]
    }
   ],
   "source": [
    "n = 7 \n",
    "for i in range(0 ,n):\n",
    "    for j in range(0 ,i +1):\n",
    "        print(\"+ \" , end = \"\")\n",
    "    print(\"\\r\")\n",
    "    "
   ]
  },
  {
   "cell_type": "code",
   "execution_count": 59,
   "metadata": {},
   "outputs": [
    {
     "name": "stdout",
     "output_type": "stream",
     "text": [
      "        * * * * * * \r\n",
      "         * * * * * \r\n",
      "          * * * * \r\n",
      "           * * * \r\n",
      "            * * \r\n",
      "             * \r\n"
     ]
    }
   ],
   "source": [
    "def pattern(n):\n",
    "      k = 2*n -2\n",
    "      for i in range(n,-1,-1):\n",
    "           for j in range(k,0,-1):\n",
    "                print(end=\" \")\n",
    "           k = k +1\n",
    "           for j in range(0, i+1):\n",
    "                print(\"*\", end=\" \")\n",
    "           print(\"\\r\")\n",
    " \n",
    "pattern(5)\n"
   ]
  },
  {
   "cell_type": "code",
   "execution_count": 75,
   "metadata": {},
   "outputs": [
    {
     "name": "stdout",
     "output_type": "stream",
     "text": [
      "7\n",
      "6\n",
      "5\n",
      "4\n",
      "3\n",
      "2\n",
      "1\n"
     ]
    }
   ],
   "source": [
    "for i in range(7,0,-1):\n",
    "    print(i)"
   ]
  },
  {
   "cell_type": "code",
   "execution_count": 60,
   "metadata": {},
   "outputs": [
    {
     "name": "stdout",
     "output_type": "stream",
     "text": [
      "Enter number of rows required: 7\n",
      "*************\n",
      " ***********\n",
      "  *********\n",
      "   *******\n",
      "    *****\n",
      "     ***\n",
      "      *\n"
     ]
    }
   ],
   "source": [
    "n = int(input('Enter number of rows required: '))\n",
    "\n",
    "for i in range(n,0,-1):\n",
    "    for j in range(n-i):\n",
    "        print(' ', end='') \n",
    "    \n",
    "    for j in range(2*i-1):\n",
    "        print('*',end='') \n",
    "    print()\n"
   ]
  },
  {
   "cell_type": "code",
   "execution_count": 77,
   "metadata": {},
   "outputs": [
    {
     "name": "stdout",
     "output_type": "stream",
     "text": [
      "8\n",
      "7\n",
      "6\n",
      "5\n",
      "4\n",
      "3\n",
      "2\n",
      "1\n"
     ]
    }
   ],
   "source": [
    "for i in range(8, 0, -1):\n",
    "    print(i)"
   ]
  },
  {
   "cell_type": "code",
   "execution_count": 61,
   "metadata": {},
   "outputs": [
    {
     "name": "stdout",
     "output_type": "stream",
     "text": [
      "        * * * * * * \n",
      "         * * * * * \n",
      "          * * * * \n",
      "           * * * \n",
      "            * * \n",
      "             * \n"
     ]
    }
   ],
   "source": [
    "num = 5\n",
    "m = 2 * num - 2\n",
    "for i in range(num, -1, -1):\n",
    "    for j in range(m, 0, -1):\n",
    "        print(end=\" \")\n",
    "    m = m + 1\n",
    "    for j in range(0, i + 1):\n",
    "        print(\"*\", end=\" \")\n",
    "    print(\"\")\n"
   ]
  },
  {
   "cell_type": "code",
   "execution_count": 80,
   "metadata": {},
   "outputs": [
    {
     "data": {
      "text/plain": [
       "'     '"
      ]
     },
     "execution_count": 80,
     "metadata": {},
     "output_type": "execute_result"
    }
   ],
   "source": [
    "\" \"*5"
   ]
  },
  {
   "cell_type": "code",
   "execution_count": null,
   "metadata": {},
   "outputs": [],
   "source": []
  },
  {
   "cell_type": "code",
   "execution_count": 78,
   "metadata": {},
   "outputs": [
    {
     "name": "stdout",
     "output_type": "stream",
     "text": [
      "        * \n",
      "       * * \n",
      "      * * * \n",
      "     * * * * \n",
      "    * * * * * \n",
      "   * * * * * * \n",
      "  * * * * * * * \n",
      " * * * * * * * * \n",
      "* * * * * * * * * \n"
     ]
    }
   ],
   "source": [
    "n =9\n",
    "i=0\n",
    "while i < n :\n",
    "    print(' '*(n-i-1) + '* '*(i+1))\n",
    "    i +=1\n"
   ]
  },
  {
   "cell_type": "code",
   "execution_count": 63,
   "metadata": {},
   "outputs": [
    {
     "name": "stdout",
     "output_type": "stream",
     "text": [
      "    *\n",
      "   ***\n",
      "  *****\n",
      " *******\n",
      "*********\n"
     ]
    }
   ],
   "source": [
    "i=1\n",
    "k=1 #for printing starts with the increament of 2\n",
    "\n",
    "while i<=5:\n",
    "    b=1\n",
    "    while b<=5-i:\n",
    "        print(' ',end='')\n",
    "        b=b+1\n",
    "        \n",
    "    j=1\n",
    "    while j<=k:\n",
    "        print('*', end='')\n",
    "        j=j+1\n",
    "    print()\n",
    "    \n",
    "    k=k+2\n",
    "    \n",
    "    i=i+1\n"
   ]
  },
  {
   "cell_type": "code",
   "execution_count": 64,
   "metadata": {},
   "outputs": [
    {
     "name": "stdout",
     "output_type": "stream",
     "text": [
      "Please enter the amount of rows: 7\n",
      "      *\n",
      "     ***\n",
      "    *****\n",
      "   *******\n",
      "  *********\n",
      " ***********\n",
      "*************\n",
      "**iNeuron-FSDS**\n"
     ]
    }
   ],
   "source": [
    "userInput = int(input(\"Please enter the amount of rows: \"))\n",
    "\n",
    "row = 0\n",
    "while(row < userInput):\n",
    "    row += 1\n",
    "    spaces = userInput - row\n",
    "\n",
    "    spaces_counter = 0\n",
    "    while(spaces_counter < spaces):\n",
    "        print(\" \", end='')\n",
    "        spaces_counter += 1\n",
    "\n",
    "    num_stars = 2*row-1\n",
    "    while(num_stars > 0):\n",
    "        print(\"*\", end='')\n",
    "        num_stars -= 1\n",
    "\n",
    "    print()\n",
    "print(\"**iNeuron-FSDS**\")\n"
   ]
  },
  {
   "cell_type": "code",
   "execution_count": 81,
   "metadata": {},
   "outputs": [],
   "source": [
    "l = list()"
   ]
  },
  {
   "cell_type": "code",
   "execution_count": 82,
   "metadata": {},
   "outputs": [],
   "source": [
    "name = \"sudh\"\n",
    "phno = 543535345\n",
    "addr = \"sdfsff\"\n",
    "\n",
    "name , phno , addr = \"sudh \" , 54353453,\"fgfd\""
   ]
  },
  {
   "cell_type": "code",
   "execution_count": 122,
   "metadata": {},
   "outputs": [
    {
     "data": {
      "text/plain": [
       "7"
      ]
     },
     "execution_count": 122,
     "metadata": {},
     "output_type": "execute_result"
    }
   ],
   "source": [
    "l = [\"sudh\" , 34535,\"sfsfsafa\", True, 45+8j , [3,5,6,\"dfg\"],6.787]\n",
    "\n",
    "len(l)"
   ]
  },
  {
   "cell_type": "code",
   "execution_count": 121,
   "metadata": {},
   "outputs": [
    {
     "data": {
      "text/plain": [
       "range(0, 10)"
      ]
     },
     "execution_count": 121,
     "metadata": {},
     "output_type": "execute_result"
    }
   ],
   "source": [
    "range(10)"
   ]
  },
  {
   "cell_type": "code",
   "execution_count": 119,
   "metadata": {},
   "outputs": [
    {
     "data": {
      "text/plain": [
       "[0, 1, 2, 3, 4, 5, 6, 7, 8, 9]"
      ]
     },
     "execution_count": 119,
     "metadata": {},
     "output_type": "execute_result"
    }
   ],
   "source": [
    "list(range(10))"
   ]
  },
  {
   "cell_type": "code",
   "execution_count": 120,
   "metadata": {},
   "outputs": [
    {
     "name": "stdout",
     "output_type": "stream",
     "text": [
      "4\n",
      "5\n",
      "6\n",
      "7\n",
      "8\n",
      "9\n"
     ]
    }
   ],
   "source": [
    "for  i in range(4,10):\n",
    "    print(i)"
   ]
  },
  {
   "cell_type": "code",
   "execution_count": 114,
   "metadata": {},
   "outputs": [
    {
     "data": {
      "text/plain": [
       "[]"
      ]
     },
     "execution_count": 114,
     "metadata": {},
     "output_type": "execute_result"
    }
   ],
   "source": [
    "l[80 :3:1]"
   ]
  },
  {
   "cell_type": "code",
   "execution_count": 107,
   "metadata": {},
   "outputs": [
    {
     "name": "stdout",
     "output_type": "stream",
     "text": [
      "14\n",
      "<class 'str'>\n"
     ]
    }
   ],
   "source": [
    "for i in l :\n",
    "    if type(i) == list:\n",
    "        n = 0\n",
    "        for  j in i :\n",
    "            if type(j) == int :\n",
    "                n = n + j\n",
    "        print(n)\n",
    "                \n",
    "        print(type(j))"
   ]
  },
  {
   "cell_type": "code",
   "execution_count": 88,
   "metadata": {},
   "outputs": [
    {
     "data": {
      "text/plain": [
       "list"
      ]
     },
     "execution_count": 88,
     "metadata": {},
     "output_type": "execute_result"
    }
   ],
   "source": [
    "type(l)"
   ]
  },
  {
   "cell_type": "code",
   "execution_count": 94,
   "metadata": {},
   "outputs": [
    {
     "data": {
      "text/plain": [
       "list"
      ]
     },
     "execution_count": 94,
     "metadata": {},
     "output_type": "execute_result"
    }
   ],
   "source": [
    "l1 = []\n",
    "type(l1)"
   ]
  },
  {
   "cell_type": "code",
   "execution_count": 95,
   "metadata": {},
   "outputs": [
    {
     "data": {
      "text/plain": [
       "list"
      ]
     },
     "execution_count": 95,
     "metadata": {},
     "output_type": "execute_result"
    }
   ],
   "source": [
    "l2 = list()\n",
    "type(l2)"
   ]
  },
  {
   "cell_type": "code",
   "execution_count": 90,
   "metadata": {},
   "outputs": [
    {
     "data": {
      "text/plain": [
       "list"
      ]
     },
     "execution_count": 90,
     "metadata": {},
     "output_type": "execute_result"
    }
   ],
   "source": [
    "type(l1)"
   ]
  },
  {
   "cell_type": "code",
   "execution_count": 85,
   "metadata": {},
   "outputs": [
    {
     "data": {
      "text/plain": [
       "'sudh'"
      ]
     },
     "execution_count": 85,
     "metadata": {},
     "output_type": "execute_result"
    }
   ],
   "source": [
    "l[0]"
   ]
  },
  {
   "cell_type": "code",
   "execution_count": 86,
   "metadata": {},
   "outputs": [
    {
     "data": {
      "text/plain": [
       "34535"
      ]
     },
     "execution_count": 86,
     "metadata": {},
     "output_type": "execute_result"
    }
   ],
   "source": [
    "l[1]"
   ]
  },
  {
   "cell_type": "code",
   "execution_count": 4,
   "metadata": {},
   "outputs": [
    {
     "ename": "NameError",
     "evalue": "name 'l' is not defined",
     "output_type": "error",
     "traceback": [
      "\u001b[1;31m---------------------------------------------------------------------------\u001b[0m",
      "\u001b[1;31mNameError\u001b[0m                                 Traceback (most recent call last)",
      "Input \u001b[1;32mIn [4]\u001b[0m, in \u001b[0;36m<cell line: 1>\u001b[1;34m()\u001b[0m\n\u001b[1;32m----> 1\u001b[0m \u001b[43ml\u001b[49m[\u001b[38;5;241m2\u001b[39m]\n",
      "\u001b[1;31mNameError\u001b[0m: name 'l' is not defined"
     ]
    }
   ],
   "source": [
    "l[2]"
   ]
  },
  {
   "cell_type": "code",
   "execution_count": 5,
   "metadata": {},
   "outputs": [
    {
     "name": "stdout",
     "output_type": "stream",
     "text": [
      "Collecting docx\n",
      "  Downloading docx-0.2.4.tar.gz (54 kB)\n",
      "     -------------------------------------- 54.9/54.9 kB 151.0 kB/s eta 0:00:00\n",
      "  Installing build dependencies: started\n",
      "  Installing build dependencies: finished with status 'done'\n",
      "  Getting requirements to build wheel: started\n",
      "  Getting requirements to build wheel: finished with status 'done'\n",
      "  Preparing metadata (pyproject.toml): started\n",
      "  Preparing metadata (pyproject.toml): finished with status 'done'\n",
      "Requirement already satisfied: lxml in c:\\users\\lenovo\\appdata\\local\\programs\\python\\python310\\lib\\site-packages (from docx) (4.9.1)\n",
      "Requirement already satisfied: Pillow>=2.0 in c:\\users\\lenovo\\appdata\\local\\programs\\python\\python310\\lib\\site-packages (from docx) (9.2.0)\n",
      "Building wheels for collected packages: docx\n",
      "  Building wheel for docx (pyproject.toml): started\n",
      "  Building wheel for docx (pyproject.toml): finished with status 'done'\n",
      "  Created wheel for docx: filename=docx-0.2.4-py3-none-any.whl size=53902 sha256=0d1dfc8f9707be59633ca7ab91f87ec39dbce36836a91e4b24fc63258da667c2\n",
      "  Stored in directory: c:\\users\\lenovo\\appdata\\local\\pip\\cache\\wheels\\81\\f5\\1d\\e09ba2c1907a43a4146d1189ae4733ca1a3bfe27ee39507767\n",
      "Successfully built docx\n",
      "Installing collected packages: docx\n",
      "Successfully installed docx-0.2.4\n",
      "Note: you may need to restart the kernel to use updated packages.\n"
     ]
    }
   ],
   "source": [
    "pip install docx"
   ]
  },
  {
   "cell_type": "code",
   "execution_count": 8,
   "metadata": {},
   "outputs": [
    {
     "name": "stdout",
     "output_type": "stream",
     "text": [
      "Collecting exception\n",
      "  Downloading exception-0.1.0-py2.py3-none-any.whl (5.7 kB)\n",
      "Collecting argparse (from exception)\n",
      "  Downloading argparse-1.4.0-py2.py3-none-any.whl (23 kB)\n",
      "Requirement already satisfied: six in c:\\users\\lenovo\\appdata\\local\\programs\\python\\python310\\lib\\site-packages (from exception) (1.16.0)\n",
      "Installing collected packages: argparse, exception\n",
      "Successfully installed argparse-1.4.0 exception-0.1.0\n",
      "Note: you may need to restart the kernel to use updated packages.\n"
     ]
    }
   ],
   "source": [
    "pip install exception"
   ]
  },
  {
   "cell_type": "code",
   "execution_count": 6,
   "metadata": {},
   "outputs": [
    {
     "ename": "ModuleNotFoundError",
     "evalue": "No module named 'exceptions'",
     "output_type": "error",
     "traceback": [
      "\u001b[1;31m---------------------------------------------------------------------------\u001b[0m",
      "\u001b[1;31mModuleNotFoundError\u001b[0m                       Traceback (most recent call last)",
      "Input \u001b[1;32mIn [6]\u001b[0m, in \u001b[0;36m<cell line: 4>\u001b[1;34m()\u001b[0m\n\u001b[0;32m      2\u001b[0m \u001b[38;5;28;01mfrom\u001b[39;00m \u001b[38;5;21;01mtkinter\u001b[39;00m \u001b[38;5;28;01mimport\u001b[39;00m filedialog\n\u001b[0;32m      3\u001b[0m \u001b[38;5;28;01mimport\u001b[39;00m \u001b[38;5;21;01mtkinter\u001b[39;00m\u001b[38;5;21;01m.\u001b[39;00m\u001b[38;5;21;01mmessagebox\u001b[39;00m\n\u001b[1;32m----> 4\u001b[0m \u001b[38;5;28;01mimport\u001b[39;00m \u001b[38;5;21;01mdocx\u001b[39;00m\n\u001b[0;32m      5\u001b[0m \u001b[38;5;28;01mimport\u001b[39;00m \u001b[38;5;21;01mos\u001b[39;00m\n\u001b[0;32m      6\u001b[0m \u001b[38;5;28;01mimport\u001b[39;00m \u001b[38;5;21;01mlogging\u001b[39;00m \u001b[38;5;28;01mas\u001b[39;00m \u001b[38;5;21;01mlog\u001b[39;00m\n",
      "File \u001b[1;32m~\\AppData\\Local\\Programs\\Python\\Python310\\lib\\site-packages\\docx.py:30\u001b[0m, in \u001b[0;36m<module>\u001b[1;34m\u001b[0m\n\u001b[0;32m     27\u001b[0m \u001b[38;5;28;01mexcept\u001b[39;00m \u001b[38;5;167;01mImportError\u001b[39;00m:\n\u001b[0;32m     28\u001b[0m     TAGS \u001b[38;5;241m=\u001b[39m {}\n\u001b[1;32m---> 30\u001b[0m \u001b[38;5;28;01mfrom\u001b[39;00m \u001b[38;5;21;01mexceptions\u001b[39;00m \u001b[38;5;28;01mimport\u001b[39;00m \u001b[38;5;167;01mPendingDeprecationWarning\u001b[39;00m\n\u001b[0;32m     31\u001b[0m \u001b[38;5;28;01mfrom\u001b[39;00m \u001b[38;5;21;01mwarnings\u001b[39;00m \u001b[38;5;28;01mimport\u001b[39;00m warn\n\u001b[0;32m     33\u001b[0m \u001b[38;5;28;01mimport\u001b[39;00m \u001b[38;5;21;01mlogging\u001b[39;00m\n",
      "\u001b[1;31mModuleNotFoundError\u001b[0m: No module named 'exceptions'"
     ]
    }
   ],
   "source": [
    "\n",
    "from tkinter import *\n",
    "from tkinter import filedialog\n",
    "import tkinter.messagebox\n",
    "import docx\n",
    "import os\n",
    "import logging as log\n",
    "\n",
    "#log configuration\n",
    "log.basicConfig(filename='File Explorer.log',level = log.DEBUG,format='%(asctime)s -%(levelname)s - %(message)s', datefmt='%d-%b-%y %H:%M:%S')\n",
    "\n",
    "\n",
    "# tkinter app root configuration\n",
    "root = Tk()     # Creating tkinter root\n",
    "root.title('File Explorer')      #title\n",
    "root.geometry(\"1500x500\")    #root size\n",
    "root.minsize(500,500)       # minimum size\n",
    "root.config(background = \"white\")   #background color\n",
    "\n",
    "#tinker input and search button\n",
    "searchkey = StringVar()\n",
    "e1= Entry(root,textvariable =searchkey,font=\"Helvetica 16\", bd =5)\n",
    "e1.pack(side=TOP, fill=\"x\")\n",
    "#button will call function main with search keyword as argument if its not empty\n",
    "e2 = tkinter.Button(root,text =\"Search\",font=\"Helvetica 16 bold\", bg='light green',activebackground='#78d6ff',command =lambda :main(str(searchkey.get())) if searchkey.get()!=\"\" else None )\n",
    "e2.pack(side=TOP, fill=\"x\")\n",
    "\n",
    "log.info(\"App launched!\")\n",
    "\n",
    "#global variable label which contains all the tkinter labels that are displayed on the screen\n",
    "global labels\n",
    "labels = []\n",
    "def main(searchkeyword):\n",
    "    \"\"\"\n",
    "    THis main function holds all the major functionality of searching and merging after user press the search button\n",
    "    :param searchkeyword: search keyword entered by  user\n",
    "    :return: \n",
    "    \"\"\"\n",
    "    log.info(\"Search keyword: \" + searchkeyword) #logging search keyword\n",
    "\n",
    "    # global variable result which store all the search results(file name and path)\n",
    "    global result\n",
    "    result = []\n",
    "\n",
    "    #calling search function by passing searchkeyword and system root path as argument\n",
    "    log.info(\"Search Started\")  # logging\n",
    "    search(searchkeyword, \"/home/arjun/\")\n",
    "    log.info(\"Searching Complete\")  # logging\n",
    "\n",
    "    #checking file found or not\n",
    "    if len(result) == 0:\n",
    "        alert(\"File Not Found!!\", \"red\")\n",
    "        log.warning(\"File not found!!\")  # logging File not found!!\n",
    "        return\n",
    "    else:\n",
    "       log.info(\"No. of results found: \" + str(len(result)))  # logging No. of results found\n",
    "\n",
    "    #displaying Merge Menu on tkinter app screen\n",
    "    #tkinter menubar configuration\n",
    "    mainmenu = Menu(root,background='light green', foreground='black', activebackground='#78d6ff', activeforeground='white')\n",
    "    m1 = Menu(mainmenu, tearoff=0,background='light green', foreground='black',activebackground='#78d6ff', activeforeground='white')\n",
    "\n",
    "    #buttons in MERGE menubar TXT and DOCX which will call their respective function with search keyword and result list as argument\n",
    "    m1.add_command(label=\"txt\",font=\"Helvetica 24\", command=lambda: merge_txt(searchkeyword,result))\n",
    "    m1.add_command(label=\"docx\",font=\"Helvetica 24\", command=lambda: merge_docx(searchkeyword,result))\n",
    "    root.config(menu=mainmenu)\n",
    "    mainmenu.add_cascade(label=\"MERGE\",font=\"Helvetica 24\",  menu=m1)\n",
    "    log.info(\"Merge option is now available on app window\")  # logging\n",
    "\n",
    "    display_result() #displaying search result\n",
    "\n",
    "\n",
    "def display_result():\n",
    "    \"\"\"\n",
    "    this function will display result on app window with alternate colour in each row\n",
    "    :return:\n",
    "    \"\"\"\n",
    "\n",
    "    clean()  # to clean all the labels from screen if present\n",
    "\n",
    "    row_no = 1  # variable to store file no. to display on screen\n",
    "    # loop to iterate through each file in list result\n",
    "    for i in result:\n",
    "        out = str(row_no) + \": \" + i[0] + \"      (\" + i[1]  # appending result no. + file name + file path to a string\n",
    "        #below if case will help us to gain different colours in different line of resulting labels\n",
    "        colour = \"light yellow\"\n",
    "        if row_no % 2 == 0:\n",
    "            colour = \"light pink\"\n",
    "\n",
    "        #displaying tkinter lable\n",
    "        l = Label(text=out, font=\"Helvetica 16\", bg=colour, fg=\"black\", pady=2, anchor=\"w\")\n",
    "        l.pack(side=TOP, fill=\"x\")\n",
    "        labels.append(l)   #appending all the labels to labels list\n",
    "        row_no += 1 #increasing row count\n",
    "    log.info(\"Search Result displayed successfully \")  # logging\n",
    "\n",
    "def search(key,path):\n",
    "    \"\"\"\n",
    "    this  Recursive function will itterate through each file and folder of my system to search file and store the result in result list\n",
    "    :param key: Search Keyword\n",
    "    :param path: Path of directory to be searched\n",
    "    :return:\n",
    "    \"\"\"\n",
    "\n",
    "    os.chdir(path)  #changing directory to path\n",
    "    List = os.listdir()   #List store all the files & folder present in that directory\n",
    "    length=len(List)  #no of files and folder in that directory\n",
    "\n",
    "    if len(List) == 0: #if directory is empty return from this search function\n",
    "        return\n",
    "\n",
    "    #loop to itterate through each file of that directory\n",
    "    for file in List:\n",
    "\n",
    "        if file[0] == '.': #if it is a hidden file or folder(starts with .) move to next file\n",
    "            continue\n",
    "\n",
    "        if os.path.isdir(path+file+\"/\")  and len(os.listdir(os.chdir(path + file + \"/\"))) != 0:\n",
    "            #if it is a directory and contains 1 or more file\n",
    "            #recursive call to the search function with search keyword and new path as argument in it\n",
    "            search(key, path + file + \"/\")\n",
    "        else:\n",
    "            c = check(file, key) #check if file name anyhow matches with search keyword\n",
    "            if c == 0:\n",
    "                #if full file name matches, insert search result in beginning of result list\n",
    "                result.insert(0, [file, os.getcwd()])\n",
    "            elif c == 1:\n",
    "                # else if partially file name matches,append it to last of result list\n",
    "                result.append([file, os.getcwd()])\n",
    "    #return result list\n",
    "    return result\n",
    "\n",
    "def check(filename, searchkeyword):\n",
    "    \"\"\"\n",
    "    this function is used to check searchkeyword in file name\n",
    "    return 0 if full file name match with search keyword\n",
    "    return 1 if substring of file name match\n",
    "    return -1 if file name do not match at all\n",
    "    \"\"\"\n",
    "    try:\n",
    "        if(filename[0:filename.index(\".\")].strip()==searchkeyword):\n",
    "            return 0\n",
    "    except:\n",
    "        pass\n",
    "    if (filename.find(searchkeyword) != -1):\n",
    "        return 1\n",
    "    else:\n",
    "        return -1\n",
    "\n",
    "def alert(msg,b_colour=\"red\",f_colour=\"black\"):\n",
    "    \"\"\"\n",
    "    This function will clear clear the screen and display Alert/message on app window\n",
    "    :param msg: message to be displayed\n",
    "    :param b_colour: background colour of message by default it is red\n",
    "    :param f_colour: message text(foreground) colour of message by default it is black\n",
    "    :return:\n",
    "    \"\"\"\n",
    "    clean() #cleaning background\n",
    "    #tkinter label to display message\n",
    "    l = Label(text=msg, font=\"Helvetica 44\", bg=b_colour, fg=f_colour, pady=22, anchor=\"center\")\n",
    "    l.pack(side=TOP, fill=BOTH)\n",
    "    labels.append(l)  #appending label to labels list\n",
    "\n",
    "def clean():\n",
    "    \"\"\"\n",
    "    This function is to clean all the labels from the app window\n",
    "    :return:\n",
    "    \"\"\"\n",
    "    for label in labels:\n",
    "        label.destroy() #distroying 1 by 1 all the labels in list labels\n",
    "    labels.clear()  #clearing list labels for further use\n",
    "    log.info(\"screen cleared\")  #Every time screen is cleared, it is logged into log file\n",
    "\n",
    "\n",
    "\n",
    "def merge_docx(key,result):\n",
    "    \"\"\"\n",
    "    This function is used to merge all the file in search result having docx extension\n",
    "    :param key: search keyword,it will be the name of mergerd file\n",
    "    :param result: search result list\n",
    "    :return:\n",
    "    \"\"\"\n",
    "    log.info(\"Merging docx file in search result\")\n",
    "    c = 0 #variable to check if file is created or not\n",
    "    #creating a file on desktop with name as search keyword name and .docx extension\n",
    "    f = open(\"/home/arjun/Desktop/\" + key + \".docx\", \"a+\")\n",
    "    for file in result:\n",
    "        #iterating through each file in result list\n",
    "        try:\n",
    "            if file[0][file[0].index(\".\") + 1:].lower() == \"docx\":\n",
    "                #if file name have .docx extenson append its data to .docx file on desktop\n",
    "                c = 1\n",
    "                f.write(\"\\n\\n\\n\\n\\n\"+file[0]+\"\\n\\n\")\n",
    "                doc = docx.Document(file[1]+\"/\"+file[0])\n",
    "                #iterating through each paragraph of filr and appending its data\n",
    "                for para in doc.paragraphs:\n",
    "                    f.write(para.text+\"\\n\")\n",
    "        except:\n",
    "            pass\n",
    "    f.close()\n",
    "    if c == 1:\n",
    "        alert(\"File \" + key + \".docx \" + \"has been created on Desktop\",\"green\",\"white\")\n",
    "        log.info(\"File \" + key + \".docx \" + \"has been created on Desktop\")\n",
    "    else:\n",
    "        alert(\".txt file not found in search result\",\"red\")\n",
    "        log.warning(\".txt file not found in search result\",)\n",
    "\n",
    "def merge_txt(key,result):\n",
    "    \"\"\"\n",
    "    This function is used to merge all the file in search result having txt extension\n",
    "    :param key: search keyword,it will be the name of mergerd file\n",
    "    :param result: search result list\n",
    "    :return:\n",
    "    \"\"\"\n",
    "    log.info(\"Merging txt file in search result\")\n",
    "    c = 0  # variable to check if file is created or not\n",
    "    # creating a file on desktop with name as search keyword name and .txt extension\n",
    "    f = open(\"/home/arjun/Desktop/\" + key + \".txt\", \"a+\")\n",
    "    for file in result:\n",
    "        #iterating through each file in result list\n",
    "        try:\n",
    "            if file[0][file[0].index(\".\") + 1:].lower()==\"txt\":\n",
    "                # if file name have .txt extenson append its data to .txt file on desktop\n",
    "                c=1\n",
    "                f.write(\"\\n\\n\\n\\n\\n\"+file[0]+\"\\n\\n\")\n",
    "                file1 = open(file[1]+\"/\"+file[0], 'r')\n",
    "                Lines = file1.readlines()\n",
    "                # iterating through each paragraph of filr and appending its data\n",
    "                for line in Lines:\n",
    "                    f.write(line + \"\\n\")\n",
    "\n",
    "        except:\n",
    "            pass\n",
    "    f.close()\n",
    "    if c==1:\n",
    "        alert(\"File \"+key+\".txt \"+ \"has been created on Desktop\",\"green\",\"white\")\n",
    "        log.info(\"File \" + key + \".txt \" + \"has been created on Desktop\")\n",
    "    else:\n",
    "        alert(\".txt file not found in search result\",\"red\")\n",
    "        log.warning(\".txt file not found in search result\", )\n",
    "\n",
    "\n",
    "root.mainloop()\n"
   ]
  },
  {
   "cell_type": "code",
   "execution_count": null,
   "metadata": {},
   "outputs": [],
   "source": []
  }
 ],
 "metadata": {
  "kernelspec": {
   "display_name": "Python 3 (ipykernel)",
   "language": "python",
   "name": "python3"
  },
  "language_info": {
   "codemirror_mode": {
    "name": "ipython",
    "version": 3
   },
   "file_extension": ".py",
   "mimetype": "text/x-python",
   "name": "python",
   "nbconvert_exporter": "python",
   "pygments_lexer": "ipython3",
   "version": "3.10.2"
  }
 },
 "nbformat": 4,
 "nbformat_minor": 4
}
